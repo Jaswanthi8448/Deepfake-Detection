{
 "cells": [
  {
   "cell_type": "code",
   "execution_count": 1,
   "metadata": {
    "_cell_guid": "b1076dfc-b9ad-4769-8c92-a6c4dae69d19",
    "_uuid": "8f2839f25d086af736a60e9eeb907d3b93b6e0e5",
    "execution": {
     "iopub.execute_input": "2024-05-21T12:49:14.522292Z",
     "iopub.status.busy": "2024-05-21T12:49:14.522010Z",
     "iopub.status.idle": "2024-05-21T12:54:48.760329Z",
     "shell.execute_reply": "2024-05-21T12:54:48.759493Z",
     "shell.execute_reply.started": "2024-05-21T12:49:14.522254Z"
    }
   },
   "outputs": [
    {
     "name": "stdout",
     "output_type": "stream",
     "text": [
      "Processing /kaggle/input/dlibpkg/dlib-19.19.0\n",
      "Building wheels for collected packages: dlib\n",
      "  Building wheel for dlib (setup.py) ... \u001b[?25ldone\n",
      "\u001b[?25h  Created wheel for dlib: filename=dlib-19.19.0-cp36-cp36m-linux_x86_64.whl size=4086381 sha256=01fd368b503a716122593bf8a5cf0c255cd9dce9db46e1aec5dd7e0896f37a94\n",
      "  Stored in directory: /root/.cache/pip/wheels/f3/da/18/38136f7dd8e242c1cc2236d574a50f34463b8c59aab887dd79\n",
      "Successfully built dlib\n",
      "Installing collected packages: dlib\n",
      "Successfully installed dlib-19.19.0\n"
     ]
    }
   ],
   "source": [
    "!pip install '/kaggle/input/dlibpkg/dlib-19.19.0'"
   ]
  },
  {
   "cell_type": "code",
   "execution_count": 2,
   "metadata": {
    "execution": {
     "iopub.execute_input": "2024-05-21T12:54:54.829958Z",
     "iopub.status.busy": "2024-05-21T12:54:54.829650Z",
     "iopub.status.idle": "2024-05-21T12:54:55.305728Z",
     "shell.execute_reply": "2024-05-21T12:54:55.304771Z",
     "shell.execute_reply.started": "2024-05-21T12:54:54.829914Z"
    }
   },
   "outputs": [],
   "source": [
    "import os\n",
    "import json\n",
    "import cv2\n",
    "import dlib\n",
    "import numpy as np\n",
    "import dlib\n",
    "import cv2\n",
    "import os\n",
    "import re\n",
    "import json\n",
    "from pylab import *\n",
    "from PIL import Image, ImageChops, ImageEnhance"
   ]
  },
  {
   "cell_type": "markdown",
   "metadata": {},
   "source": [
    "**Data Augementation**"
   ]
  },
  {
   "cell_type": "code",
   "execution_count": 3,
   "metadata": {
    "execution": {
     "iopub.execute_input": "2024-05-21T12:56:10.636708Z",
     "iopub.status.busy": "2024-05-21T12:56:10.636355Z",
     "iopub.status.idle": "2024-05-21T12:56:11.094347Z",
     "shell.execute_reply": "2024-05-21T12:56:11.093664Z",
     "shell.execute_reply.started": "2024-05-21T12:56:10.636646Z"
    }
   },
   "outputs": [],
   "source": [
    "train_frame_folder = '/kaggle/input/deepfake-detection-challenge/train_sample_videos'\n",
    "output_real_folder = '/kaggle/working/dataset/real'\n",
    "output_fake_folder = '/kaggle/working/dataset/fake'\n",
    "\n",
    "# Create directories if they do not exist\n",
    "os.makedirs(output_real_folder, exist_ok=True)\n",
    "os.makedirs(output_fake_folder, exist_ok=True)\n",
    "\n",
    "with open(os.path.join(train_frame_folder, 'metadata.json'), 'r') as file:\n",
    "    data = json.load(file)\n",
    "\n",
    "list_of_train_data = [f for f in os.listdir(train_frame_folder) if f.endswith('.mp4')]\n",
    "detector = dlib.get_frontal_face_detector()\n",
    "\n",
    "# Counters for frames and images\n",
    "original_real_count = 0\n",
    "original_fake_count = 0\n",
    "augmented_real_count = 0\n",
    "augmented_fake_count = 0"
   ]
  },
  {
   "cell_type": "code",
   "execution_count": 4,
   "metadata": {
    "execution": {
     "iopub.execute_input": "2024-05-21T12:56:30.517205Z",
     "iopub.status.busy": "2024-05-21T12:56:30.516890Z",
     "iopub.status.idle": "2024-05-21T14:11:22.251911Z",
     "shell.execute_reply": "2024-05-21T14:11:22.251108Z",
     "shell.execute_reply.started": "2024-05-21T12:56:30.517163Z"
    }
   },
   "outputs": [],
   "source": [
    "def augment_frame(frame):\n",
    "    # Example augmentations: flipping, rotation\n",
    "    augmented_frames = []\n",
    "    \n",
    "    # Original frame\n",
    "    augmented_frames.append(frame)\n",
    "    \n",
    "    # Horizontal flip\n",
    "    flip_frame = cv2.flip(frame, 1)\n",
    "    augmented_frames.append(flip_frame)\n",
    "    \n",
    "    # Shift by 15 pixels to the right\n",
    "    shift_M = np.float32([[1, 0, 15], [0, 1, 0]])\n",
    "    shift_frame = cv2.warpAffine(frame, shift_M, (frame.shape[1], frame.shape[0]))\n",
    "    augmented_frames.append(shift_frame)\n",
    "    \n",
    "    return augmented_frames\n",
    "\n",
    "for vid in list_of_train_data:\n",
    "    cap = cv2.VideoCapture(os.path.join(train_frame_folder, vid))\n",
    "    frameRate = cap.get(5)\n",
    "    while cap.isOpened():\n",
    "        frameId = cap.get(1)\n",
    "        ret, frame = cap.read()\n",
    "        if not ret:\n",
    "            break\n",
    "        if frameId % ((int(frameRate) + 1) * 1) == 0:\n",
    "            label = data[vid]['label']\n",
    "            if label == 'REAL':\n",
    "                original_real_count += 1\n",
    "            elif label == 'FAKE':\n",
    "                original_fake_count += 1\n",
    "\n",
    "            augmented_frames = augment_frame(frame)\n",
    "            for aug_idx, aug_frame in enumerate(augmented_frames):\n",
    "                face_rects, scores, idx = detector.run(aug_frame, 0)\n",
    "                for i, d in enumerate(face_rects):\n",
    "                    x1 = max(0, d.left())\n",
    "                    y1 = max(0, d.top())\n",
    "                    x2 = min(aug_frame.shape[1], d.right())\n",
    "                    y2 = min(aug_frame.shape[0], d.bottom())\n",
    "                    \n",
    "                    if x2 > x1 and y2 > y1:  # Ensure the rectangle is valid\n",
    "                        crop_img = aug_frame[y1:y2, x1:x2]\n",
    "                        if crop_img.size != 0:  # Ensure the cropped image is not empty\n",
    "                            resized_img = cv2.resize(crop_img, (128, 128))\n",
    "                            if label == 'REAL':\n",
    "                                augmented_real_count += 1\n",
    "                                output_path = os.path.join(output_real_folder, f\"{vid.split('.')[0]}_{str(int(frameId))}_aug_{aug_idx}.png\")\n",
    "                                cv2.imwrite(output_path, resized_img)\n",
    "                            elif label == 'FAKE':\n",
    "                                augmented_fake_count += 1\n",
    "                                output_path = os.path.join(output_fake_folder, f\"{vid.split('.')[0]}_{str(int(frameId))}_aug_{aug_idx}.png\")\n",
    "                                cv2.imwrite(output_path, resized_img)\n",
    "    cap.release()"
   ]
  },
  {
   "cell_type": "code",
   "execution_count": 5,
   "metadata": {
    "execution": {
     "iopub.execute_input": "2024-05-21T14:19:43.202099Z",
     "iopub.status.busy": "2024-05-21T14:19:43.201718Z",
     "iopub.status.idle": "2024-05-21T14:19:43.208308Z",
     "shell.execute_reply": "2024-05-21T14:19:43.207117Z",
     "shell.execute_reply.started": "2024-05-21T14:19:43.202045Z"
    }
   },
   "outputs": [
    {
     "name": "stdout",
     "output_type": "stream",
     "text": [
      "Number of original REAL frames: 770\n",
      "Number of original FAKE frames: 3230\n",
      "Number of augmented REAL frames: 2279\n",
      "Number of augmented FAKE frames: 8936\n"
     ]
    }
   ],
   "source": [
    "# Print the number of frames before and after augmenting\n",
    "print(f\"Number of original REAL frames: {original_real_count}\")\n",
    "print(f\"Number of original FAKE frames: {original_fake_count}\")\n",
    "print(f\"Number of augmented REAL frames: {augmented_real_count}\")\n",
    "print(f\"Number of augmented FAKE frames: {augmented_fake_count}\")"
   ]
  },
  {
   "cell_type": "code",
   "execution_count": 6,
   "metadata": {
    "execution": {
     "iopub.execute_input": "2024-05-21T14:19:50.199875Z",
     "iopub.status.busy": "2024-05-21T14:19:50.199506Z",
     "iopub.status.idle": "2024-05-21T14:19:50.729292Z",
     "shell.execute_reply": "2024-05-21T14:19:50.727991Z",
     "shell.execute_reply.started": "2024-05-21T14:19:50.199813Z"
    }
   },
   "outputs": [
    {
     "data": {
      "image/png": "[encoded data removed]",
      "text/plain": [
       "<Figure size 576x360 with 1 Axes>"
      ]
     },
     "metadata": {
      "needs_background": "light"
     },
     "output_type": "display_data"
    },
    {
     "data": {
      "image/png": "[encoded data removed]",
      "text/plain": [
       "<Figure size 576x360 with 1 Axes>"
      ]
     },
     "metadata": {
      "needs_background": "light"
     },
     "output_type": "display_data"
    }
   ],
   "source": [
    "import matplotlib.pyplot as plt\n",
    "\n",
    "# Data for the plots\n",
    "before_augmentation = {\n",
    "    'REAL': 770,\n",
    "    'FAKE': 3230\n",
    "}\n",
    "after_augmentation = {\n",
    "    'REAL': 2279,\n",
    "    'FAKE': 8936\n",
    "}\n",
    "\n",
    "# Bar plot before augmentation\n",
    "plt.figure(figsize=(8, 5))\n",
    "plt.bar(before_augmentation.keys(), before_augmentation.values(), color=['blue', 'orange'])\n",
    "plt.xlabel('Categories')\n",
    "plt.ylabel('Number of Frames')\n",
    "plt.title('Number of Frames Before Augmentation')\n",
    "plt.ylim(0, max(before_augmentation.values()) * 1.1)\n",
    "\n",
    "# Adding text annotations\n",
    "for category, count in before_augmentation.items():\n",
    "    plt.text(category, count + 50, str(count), ha='center', va='bottom', fontsize=12)\n",
    "\n",
    "plt.show()\n",
    "\n",
    "# Bar plot after augmentation\n",
    "plt.figure(figsize=(8, 5))\n",
    "plt.bar(after_augmentation.keys(), after_augmentation.values(), color=['blue', 'orange'])\n",
    "plt.xlabel('Categories')\n",
    "plt.ylabel('Number of Frames')\n",
    "plt.title('Number of Frames After Augmentation')\n",
    "plt.ylim(0, max(after_augmentation.values()) * 1.1)\n",
    "\n",
    "# Adding text annotations\n",
    "for category, count in after_augmentation.items():\n",
    "    plt.text(category, count + 50, str(count), ha='center', va='bottom', fontsize=12)\n",
    "\n",
    "plt.show()"
   ]
  },
  {
   "cell_type": "markdown",
   "metadata": {},
   "source": [
    "**Train-test split**"
   ]
  },
  {
   "cell_type": "code",
   "execution_count": 7,
   "metadata": {
    "execution": {
     "iopub.execute_input": "2024-05-21T14:19:56.484620Z",
     "iopub.status.busy": "2024-05-21T14:19:56.484237Z",
     "iopub.status.idle": "2024-05-21T14:20:02.470981Z",
     "shell.execute_reply": "2024-05-21T14:20:02.470294Z",
     "shell.execute_reply.started": "2024-05-21T14:19:56.484532Z"
    }
   },
   "outputs": [],
   "source": [
    "import os\n",
    "import cv2\n",
    "import json\n",
    "import tensorflow as tf\n",
    "import numpy as np\n",
    "import matplotlib.pyplot as plt\n",
    "import seaborn as sn\n",
    "import pandas as pd\n",
    "from tensorflow.keras.preprocessing.image import ImageDataGenerator, img_to_array, load_img\n",
    "from tensorflow.keras.utils import to_categorical\n",
    "from sklearn.model_selection import train_test_split\n",
    "from sklearn.metrics import confusion_matrix"
   ]
  },
  {
   "cell_type": "code",
   "execution_count": 8,
   "metadata": {
    "execution": {
     "iopub.execute_input": "2024-05-21T14:20:12.824465Z",
     "iopub.status.busy": "2024-05-21T14:20:12.824133Z",
     "iopub.status.idle": "2024-05-21T14:20:25.505865Z",
     "shell.execute_reply": "2024-05-21T14:20:25.504805Z",
     "shell.execute_reply.started": "2024-05-21T14:20:12.824418Z"
    }
   },
   "outputs": [
    {
     "name": "stderr",
     "output_type": "stream",
     "text": [
      "Using TensorFlow backend.\n"
     ]
    },
    {
     "name": "stdout",
     "output_type": "stream",
     "text": [
      "Number of training samples: 7565\n",
      "Number of validation samples: 1621\n",
      "Number of test samples: 1622\n"
     ]
    }
   ],
   "source": [
    "import os\n",
    "import numpy as np\n",
    "from keras.preprocessing.image import img_to_array, load_img\n",
    "from keras.utils import to_categorical\n",
    "from sklearn.model_selection import train_test_split\n",
    "\n",
    "input_shape = (128, 128, 3)\n",
    "data_dir = '/kaggle/working/dataset'\n",
    "\n",
    "real_data = [f for f in os.listdir(data_dir + '/real') if f.endswith('.png')]\n",
    "fake_data = [f for f in os.listdir(data_dir + '/fake') if f.endswith('.png')]\n",
    "\n",
    "X = []\n",
    "Y = []\n",
    "\n",
    "for img in real_data:\n",
    "    X.append(img_to_array(load_img(data_dir + '/real/' + img)).flatten() / 255.0)\n",
    "    Y.append(1)\n",
    "for img in fake_data:\n",
    "    X.append(img_to_array(load_img(data_dir + '/fake/' + img)).flatten() / 255.0)\n",
    "    Y.append(0)\n",
    "\n",
    "Y_val_org = Y\n",
    "\n",
    "# Normalization\n",
    "X = np.array(X)\n",
    "Y = to_categorical(Y, 2)\n",
    "\n",
    "# Reshape\n",
    "X = X.reshape(-1, 128, 128, 3)\n",
    "\n",
    "# Initial Train-Test split (80% train, 20% temp)\n",
    "X_train, X_temp, Y_train, Y_temp = train_test_split(X, Y, test_size=0.3, random_state=5)\n",
    "\n",
    "# Further split temp into validation and test (50% each from temp, resulting in 10% each from original dataset)\n",
    "X_val, X_test, Y_val, Y_test = train_test_split(X_temp, Y_temp, test_size=0.5, random_state=5)\n",
    "\n",
    "# Print dataset sizes to verify splits\n",
    "print(f\"Number of training samples: {len(X_train)}\")\n",
    "print(f\"Number of validation samples: {len(X_val)}\")\n",
    "print(f\"Number of test samples: {len(X_test)}\")"
   ]
  },
  {
   "cell_type": "markdown",
   "metadata": {},
   "source": [
    "**Training using InceptionResnetV2**"
   ]
  },
  {
   "cell_type": "code",
   "execution_count": 9,
   "metadata": {
    "execution": {
     "iopub.execute_input": "2024-05-21T14:20:32.060816Z",
     "iopub.status.busy": "2024-05-21T14:20:32.060434Z",
     "iopub.status.idle": "2024-05-21T14:20:32.074079Z",
     "shell.execute_reply": "2024-05-21T14:20:32.073172Z",
     "shell.execute_reply.started": "2024-05-21T14:20:32.060748Z"
    }
   },
   "outputs": [],
   "source": [
    "from tensorflow.keras.applications import InceptionResNetV2\n",
    "from tensorflow.keras.layers import Conv2D\n",
    "from tensorflow.keras.layers import MaxPooling2D\n",
    "from tensorflow.keras.layers import Flatten\n",
    "from tensorflow.keras.layers import Dense\n",
    "from tensorflow.keras.layers import Dropout\n",
    "from tensorflow.keras.layers import InputLayer\n",
    "from tensorflow.keras.layers import GlobalAveragePooling2D\n",
    "from tensorflow.keras.models import Sequential\n",
    "from tensorflow.keras.models import Model\n",
    "from tensorflow.keras import optimizers\n",
    "from tensorflow.keras.callbacks import ReduceLROnPlateau, EarlyStopping"
   ]
  },
  {
   "cell_type": "code",
   "execution_count": 13,
   "metadata": {
    "execution": {
     "iopub.execute_input": "2024-05-21T14:27:00.865848Z",
     "iopub.status.busy": "2024-05-21T14:27:00.865369Z",
     "iopub.status.idle": "2024-05-21T14:27:08.367034Z",
     "shell.execute_reply": "2024-05-21T14:27:08.366153Z",
     "shell.execute_reply.started": "2024-05-21T14:27:00.865654Z"
    }
   },
   "outputs": [
    {
     "name": "stdout",
     "output_type": "stream",
     "text": [
      "Model: \"sequential_1\"\n",
      "_________________________________________________________________\n",
      "Layer (type)                 Output Shape              Param #   \n",
      "=================================================================\n",
      "inception_v3 (Model)         (None, 2, 2, 2048)        21802784  \n",
      "_________________________________________________________________\n",
      "global_average_pooling2d_1 ( (None, 2048)              0         \n",
      "_________________________________________________________________\n",
      "dense_5 (Dense)              (None, 256)               524544    \n",
      "_________________________________________________________________\n",
      "dropout_1 (Dropout)          (None, 256)               0         \n",
      "_________________________________________________________________\n",
      "dense_6 (Dense)              (None, 128)               32896     \n",
      "_________________________________________________________________\n",
      "dense_7 (Dense)              (None, 64)                8256      \n",
      "_________________________________________________________________\n",
      "dense_8 (Dense)              (None, 32)                2080      \n",
      "_________________________________________________________________\n",
      "dense_9 (Dense)              (None, 2)                 66        \n",
      "=================================================================\n",
      "Total params: 22,370,626\n",
      "Trainable params: 22,336,194\n",
      "Non-trainable params: 34,432\n",
      "_________________________________________________________________\n"
     ]
    }
   ],
   "source": [
    "from tensorflow.keras.applications import InceptionV3\n",
    "from tensorflow.keras.layers import GlobalAveragePooling2D, Dense, Dropout\n",
    "from tensorflow.keras.models import Sequential\n",
    "from tensorflow.keras import optimizers\n",
    "\n",
    "# Define the input shape\n",
    "input_shape = (128,128, 3)\n",
    "\n",
    "# Load the InceptionV3 model\n",
    "inception_model = InceptionV3(include_top=False, weights='imagenet', input_shape=input_shape)\n",
    "inception_model.trainable = True\n",
    "\n",
    "# Create a Sequential model and add the InceptionV3 model\n",
    "model = Sequential()\n",
    "model.add(inception_model)\n",
    "model.add(GlobalAveragePooling2D())\n",
    "\n",
    "# Add custom dense layers\n",
    "model.add(Dense(units=256, activation='relu'))\n",
    "model.add(Dropout(0.5))\n",
    "model.add(Dense(units=128, activation='relu'))\n",
    "model.add(Dense(units=64, activation='relu'))\n",
    "model.add(Dense(units=32, activation='relu'))\n",
    "\n",
    "# Add the output layer\n",
    "model.add(Dense(units=2, activation='sigmoid'))\n",
    "\n",
    "# Compile the model\n",
    "model.compile(\n",
    "    loss='binary_crossentropy',\n",
    "    optimizer=optimizers.Adam(learning_rate=1e-5),\n",
    "    metrics=['accuracy']\n",
    ")\n",
    "\n",
    "# Print the model summary\n",
    "model.summary()\n"
   ]
  },
  {
   "cell_type": "code",
   "execution_count": 14,
   "metadata": {
    "execution": {
     "iopub.execute_input": "2024-05-21T14:27:12.111012Z",
     "iopub.status.busy": "2024-05-21T14:27:12.110630Z",
     "iopub.status.idle": "2024-05-21T14:32:31.927372Z",
     "shell.execute_reply": "2024-05-21T14:32:31.926529Z",
     "shell.execute_reply.started": "2024-05-21T14:27:12.110948Z"
    }
   },
   "outputs": [
    {
     "name": "stdout",
     "output_type": "stream",
     "text": [
      "Train on 7565 samples, validate on 1621 samples\n",
      "Epoch 1/20\n",
      "7565/7565 [==============================] - 30s 4ms/sample - loss: 0.6235 - accuracy: 0.6939 - val_loss: 0.5336 - val_accuracy: 0.7850\n",
      "Epoch 2/20\n",
      "7565/7565 [==============================] - 15s 2ms/sample - loss: 0.4821 - accuracy: 0.8019 - val_loss: 0.4586 - val_accuracy: 0.7853\n",
      "Epoch 3/20\n",
      "7565/7565 [==============================] - 15s 2ms/sample - loss: 0.3808 - accuracy: 0.8034 - val_loss: 0.3865 - val_accuracy: 0.7853\n",
      "Epoch 4/20\n",
      "7565/7565 [==============================] - 15s 2ms/sample - loss: 0.3085 - accuracy: 0.8067 - val_loss: 0.3461 - val_accuracy: 0.7869\n",
      "Epoch 5/20\n",
      "7565/7565 [==============================] - 15s 2ms/sample - loss: 0.2514 - accuracy: 0.8227 - val_loss: 0.3139 - val_accuracy: 0.8014\n",
      "Epoch 6/20\n",
      "7565/7565 [==============================] - 15s 2ms/sample - loss: 0.2106 - accuracy: 0.8631 - val_loss: 0.2885 - val_accuracy: 0.8544\n",
      "Epoch 7/20\n",
      "7565/7565 [==============================] - 15s 2ms/sample - loss: 0.1748 - accuracy: 0.9305 - val_loss: 0.2743 - val_accuracy: 0.9041\n",
      "Epoch 8/20\n",
      "7565/7565 [==============================] - 15s 2ms/sample - loss: 0.1242 - accuracy: 0.9725 - val_loss: 0.2557 - val_accuracy: 0.9173\n",
      "Epoch 9/20\n",
      "7565/7565 [==============================] - 15s 2ms/sample - loss: 0.0739 - accuracy: 0.9827 - val_loss: 0.1975 - val_accuracy: 0.9374\n",
      "Epoch 10/20\n",
      "7565/7565 [==============================] - 15s 2ms/sample - loss: 0.0507 - accuracy: 0.9863 - val_loss: 0.1892 - val_accuracy: 0.9399\n",
      "Epoch 11/20\n",
      "7565/7565 [==============================] - 15s 2ms/sample - loss: 0.0394 - accuracy: 0.9890 - val_loss: 0.1834 - val_accuracy: 0.9442\n",
      "Epoch 12/20\n",
      "7565/7565 [==============================] - 15s 2ms/sample - loss: 0.0332 - accuracy: 0.9904 - val_loss: 0.1975 - val_accuracy: 0.9460\n",
      "Epoch 13/20\n",
      "7565/7565 [==============================] - 15s 2ms/sample - loss: 0.0258 - accuracy: 0.9926 - val_loss: 0.2001 - val_accuracy: 0.9485\n",
      "Epoch 14/20\n",
      "7565/7565 [==============================] - 15s 2ms/sample - loss: 0.0237 - accuracy: 0.9933 - val_loss: 0.1879 - val_accuracy: 0.9534\n",
      "Epoch 15/20\n",
      "7565/7565 [==============================] - 15s 2ms/sample - loss: 0.0173 - accuracy: 0.9951 - val_loss: 0.1989 - val_accuracy: 0.9473\n",
      "Epoch 16/20\n",
      "7565/7565 [==============================] - 15s 2ms/sample - loss: 0.0103 - accuracy: 0.9976 - val_loss: 0.2119 - val_accuracy: 0.9506\n",
      "Epoch 17/20\n",
      "7565/7565 [==============================] - 15s 2ms/sample - loss: 0.0165 - accuracy: 0.9953 - val_loss: 0.1918 - val_accuracy: 0.9556\n",
      "Epoch 18/20\n",
      "7565/7565 [==============================] - 15s 2ms/sample - loss: 0.0108 - accuracy: 0.9972 - val_loss: 0.1778 - val_accuracy: 0.9571\n",
      "Epoch 19/20\n",
      "7565/7565 [==============================] - 15s 2ms/sample - loss: 0.0068 - accuracy: 0.9984 - val_loss: 0.1797 - val_accuracy: 0.9587\n",
      "Epoch 20/20\n",
      "7565/7565 [==============================] - 15s 2ms/sample - loss: 0.0114 - accuracy: 0.9966 - val_loss: 0.1912 - val_accuracy: 0.9547\n"
     ]
    }
   ],
   "source": [
    "# Define the number of epochs\n",
    "EPOCHS = 20\n",
    "\n",
    "# Train the model for 20 epochs\n",
    "history = model.fit(\n",
    "    X_train, Y_train,\n",
    "    batch_size=64,\n",
    "    epochs=EPOCHS,\n",
    "    validation_data=(X_val, Y_val),\n",
    "    verbose=1\n",
    ")"
   ]
  },
  {
   "cell_type": "markdown",
   "metadata": {},
   "source": [
    "**Test Accuracy**"
   ]
  },
  {
   "cell_type": "code",
   "execution_count": 15,
   "metadata": {
    "execution": {
     "iopub.execute_input": "2024-05-21T14:32:40.731216Z",
     "iopub.status.busy": "2024-05-21T14:32:40.730852Z",
     "iopub.status.idle": "2024-05-21T14:32:43.298302Z",
     "shell.execute_reply": "2024-05-21T14:32:43.297493Z",
     "shell.execute_reply.started": "2024-05-21T14:32:40.731161Z"
    }
   },
   "outputs": [
    {
     "name": "stdout",
     "output_type": "stream",
     "text": [
      "1622/1622 [==============================] - 2s 1ms/sample - loss: 0.2186 - accuracy: 0.9485\n",
      "Test Loss: 0.21860146984623333\n",
      "Test Accuracy: 0.9485203623771667\n"
     ]
    }
   ],
   "source": [
    "from sklearn.metrics import confusion_matrix, classification_report\n",
    "\n",
    "# Test the model\n",
    "test_loss, test_accuracy = model.evaluate(X_test, Y_test)\n",
    "print(f\"Test Loss: {test_loss}\")\n",
    "print(f\"Test Accuracy: {test_accuracy}\")"
   ]
  },
  {
   "cell_type": "markdown",
   "metadata": {},
   "source": [
    "**Plot**"
   ]
  },
  {
   "cell_type": "code",
   "execution_count": 16,
   "metadata": {
    "execution": {
     "iopub.execute_input": "2024-05-21T14:32:47.921887Z",
     "iopub.status.busy": "2024-05-21T14:32:47.921550Z",
     "iopub.status.idle": "2024-05-21T14:32:48.553032Z",
     "shell.execute_reply": "2024-05-21T14:32:48.549393Z",
     "shell.execute_reply.started": "2024-05-21T14:32:47.921840Z"
    }
   },
   "outputs": [
    {
     "data": {
      "image/png": "[encoded data removed]",
      "text/plain": [
       "<Figure size 432x288 with 1 Axes>"
      ]
     },
     "metadata": {
      "needs_background": "light"
     },
     "output_type": "display_data"
    },
    {
     "data": {
      "image/png": "[encoded data removed]",
      "text/plain": [
       "<Figure size 432x288 with 1 Axes>"
      ]
     },
     "metadata": {
      "needs_background": "light"
     },
     "output_type": "display_data"
    }
   ],
   "source": [
    "import matplotlib.pyplot as plt\n",
    "\n",
    "# Plot training & validation loss values\n",
    "plt.plot(history.history['loss'])\n",
    "plt.plot(history.history['val_loss'])\n",
    "plt.title('Model Loss')\n",
    "plt.ylabel('Loss')\n",
    "plt.xlabel('Epoch')\n",
    "plt.legend(['Train', 'Validation'], loc='upper left')\n",
    "plt.show()\n",
    "\n",
    "# Plot training & validation accuracy values\n",
    "plt.plot(history.history['accuracy'])\n",
    "plt.plot(history.history['val_accuracy'])\n",
    "plt.title('Model Accuracy')\n",
    "plt.ylabel('Accuracy')\n",
    "plt.xlabel('Epoch')\n",
    "plt.legend(['Train', 'Validation'], loc='upper left')\n",
    "plt.show()"
   ]
  },
  {
   "cell_type": "markdown",
   "metadata": {},
   "source": [
    "**Confusion matrix**"
   ]
  },
  {
   "cell_type": "code",
   "execution_count": 17,
   "metadata": {
    "execution": {
     "iopub.execute_input": "2024-05-21T14:32:53.689701Z",
     "iopub.status.busy": "2024-05-21T14:32:53.689397Z",
     "iopub.status.idle": "2024-05-21T14:32:57.096769Z",
     "shell.execute_reply": "2024-05-21T14:32:57.095737Z",
     "shell.execute_reply.started": "2024-05-21T14:32:53.689657Z"
    }
   },
   "outputs": [
    {
     "name": "stdout",
     "output_type": "stream",
     "text": [
      "Confusion Matrix:\n",
      "[[1254   40]\n",
      " [  43  285]]\n"
     ]
    }
   ],
   "source": [
    "# Predict classes for test data\n",
    "Y_pred = model.predict(X_test)\n",
    "Y_pred_classes = np.argmax(Y_pred, axis=1)\n",
    "Y_true = np.argmax(Y_test, axis=1)\n",
    "\n",
    "# Confusion Matrix\n",
    "conf_matrix = confusion_matrix(Y_true, Y_pred_classes)\n",
    "print(\"Confusion Matrix:\")\n",
    "print(conf_matrix)"
   ]
  },
  {
   "cell_type": "markdown",
   "metadata": {},
   "source": [
    "**Classification Report**"
   ]
  },
  {
   "cell_type": "code",
   "execution_count": 18,
   "metadata": {
    "execution": {
     "iopub.execute_input": "2024-05-21T14:33:01.159711Z",
     "iopub.status.busy": "2024-05-21T14:33:01.159364Z",
     "iopub.status.idle": "2024-05-21T14:33:01.172936Z",
     "shell.execute_reply": "2024-05-21T14:33:01.172127Z",
     "shell.execute_reply.started": "2024-05-21T14:33:01.159650Z"
    }
   },
   "outputs": [
    {
     "name": "stdout",
     "output_type": "stream",
     "text": [
      "Classification Report:\n",
      "              precision    recall  f1-score   support\n",
      "\n",
      "           0       0.97      0.97      0.97      1294\n",
      "           1       0.88      0.87      0.87       328\n",
      "\n",
      "    accuracy                           0.95      1622\n",
      "   macro avg       0.92      0.92      0.92      1622\n",
      "weighted avg       0.95      0.95      0.95      1622\n",
      "\n"
     ]
    }
   ],
   "source": [
    "# Classification Report\n",
    "class_report = classification_report(Y_true, Y_pred_classes)\n",
    "print(\"Classification Report:\")\n",
    "print(class_report)"
   ]
  },
  {
   "cell_type": "code",
   "execution_count": null,
   "metadata": {},
   "outputs": [],
   "source": []
  },
  {
   "cell_type": "code",
   "execution_count": null,
   "metadata": {},
   "outputs": [],
   "source": []
  }
 ],
 "metadata": {
  "kaggle": {
   "accelerator": "gpu",
   "dataSources": [
    {
     "databundleVersionId": 858837,
     "sourceId": 16880,
     "sourceType": "competition"
    },
    {
     "datasetId": 446509,
     "sourceId": 845111,
     "sourceType": "datasetVersion"
    }
   ],
   "dockerImageVersionId": 29845,
   "isGpuEnabled": true,
   "isInternetEnabled": true,
   "language": "python",
   "sourceType": "notebook"
  },
  "kernelspec": {
   "display_name": "Python 3 (ipykernel)",
   "language": "python",
   "name": "python3"
  },
  "language_info": {
   "codemirror_mode": {
    "name": "ipython",
    "version": 3
   },
   "file_extension": ".py",
   "mimetype": "text/x-python",
   "name": "python",
   "nbconvert_exporter": "python",
   "pygments_lexer": "ipython3",
   "version": "3.9.13"
  }
 },
 "nbformat": 4,
 "nbformat_minor": 4
}
