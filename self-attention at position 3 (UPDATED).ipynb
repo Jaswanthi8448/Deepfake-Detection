{
 "cells": [
  {
   "cell_type": "code",
   "execution_count": 8,
   "metadata": {
    "_cell_guid": "b1076dfc-b9ad-4769-8c92-a6c4dae69d19",
    "_uuid": "8f2839f25d086af736a60e9eeb907d3b93b6e0e5",
    "execution": {
     "iopub.execute_input": "2024-05-22T15:49:24.896645Z",
     "iopub.status.busy": "2024-05-22T15:49:24.896275Z",
     "iopub.status.idle": "2024-05-22T15:55:32.636858Z",
     "shell.execute_reply": "2024-05-22T15:55:32.635717Z",
     "shell.execute_reply.started": "2024-05-22T15:49:24.896592Z"
    }
   },
   "outputs": [
    {
     "name": "stdout",
     "output_type": "stream",
     "text": [
      "Processing /kaggle/input/dlibpkg/dlib-19.19.0\n",
      "Building wheels for collected packages: dlib\n",
      "  Building wheel for dlib (setup.py) ... \u001b[?25ldone\n",
      "\u001b[?25h  Created wheel for dlib: filename=dlib-19.19.0-cp36-cp36m-linux_x86_64.whl size=4086380 sha256=1f368c14ca5dd30e78546574fcb0a126b5c6084ed820ae9a03d0f14007fdb48f\n",
      "  Stored in directory: /root/.cache/pip/wheels/f3/da/18/38136f7dd8e242c1cc2236d574a50f34463b8c59aab887dd79\n",
      "Successfully built dlib\n",
      "Installing collected packages: dlib\n",
      "Successfully installed dlib-19.19.0\n"
     ]
    }
   ],
   "source": [
    "!pip install '/kaggle/input/dlibpkg/dlib-19.19.0'"
   ]
  },
  {
   "cell_type": "code",
   "execution_count": 9,
   "metadata": {
    "execution": {
     "iopub.execute_input": "2024-05-22T15:55:32.640169Z",
     "iopub.status.busy": "2024-05-22T15:55:32.639801Z",
     "iopub.status.idle": "2024-05-22T15:55:32.848262Z",
     "shell.execute_reply": "2024-05-22T15:55:32.847482Z",
     "shell.execute_reply.started": "2024-05-22T15:55:32.640105Z"
    }
   },
   "outputs": [],
   "source": [
    "import os\n",
    "import json\n",
    "import cv2\n",
    "import dlib\n",
    "import numpy as np\n",
    "import dlib\n",
    "import cv2\n",
    "import os\n",
    "import re\n",
    "import json\n",
    "from pylab import *\n",
    "from PIL import Image, ImageChops, ImageEnhance"
   ]
  },
  {
   "cell_type": "markdown",
   "metadata": {},
   "source": [
    "**Data Augementation**"
   ]
  },
  {
   "cell_type": "code",
   "execution_count": 10,
   "metadata": {
    "execution": {
     "iopub.execute_input": "2024-05-22T15:55:32.850224Z",
     "iopub.status.busy": "2024-05-22T15:55:32.849909Z",
     "iopub.status.idle": "2024-05-22T15:55:33.395173Z",
     "shell.execute_reply": "2024-05-22T15:55:33.394507Z",
     "shell.execute_reply.started": "2024-05-22T15:55:32.850169Z"
    }
   },
   "outputs": [],
   "source": [
    "train_frame_folder = '/kaggle/input/deepfake-detection-challenge/train_sample_videos'\n",
    "output_real_folder = '/kaggle/working/dataset/real'\n",
    "output_fake_folder = '/kaggle/working/dataset/fake'\n",
    "\n",
    "# Create directories if they do not exist\n",
    "os.makedirs(output_real_folder, exist_ok=True)\n",
    "os.makedirs(output_fake_folder, exist_ok=True)\n",
    "\n",
    "with open(os.path.join(train_frame_folder, 'metadata.json'), 'r') as file:\n",
    "    data = json.load(file)\n",
    "\n",
    "list_of_train_data = [f for f in os.listdir(train_frame_folder) if f.endswith('.mp4')]\n",
    "detector = dlib.get_frontal_face_detector()\n",
    "\n",
    "# Counters for frames and images\n",
    "original_real_count = 0\n",
    "original_fake_count = 0\n",
    "augmented_real_count = 0\n",
    "augmented_fake_count = 0"
   ]
  },
  {
   "cell_type": "code",
   "execution_count": 11,
   "metadata": {
    "execution": {
     "iopub.execute_input": "2024-05-22T15:55:33.397141Z",
     "iopub.status.busy": "2024-05-22T15:55:33.396813Z",
     "iopub.status.idle": "2024-05-22T17:08:41.460655Z",
     "shell.execute_reply": "2024-05-22T17:08:41.459828Z",
     "shell.execute_reply.started": "2024-05-22T15:55:33.397079Z"
    }
   },
   "outputs": [],
   "source": [
    "def augment_frame(frame):\n",
    "    # Example augmentations: flipping, rotation\n",
    "    augmented_frames = []\n",
    "    \n",
    "    # Original frame\n",
    "    augmented_frames.append(frame)\n",
    "    \n",
    "    # Horizontal flip\n",
    "    flip_frame = cv2.flip(frame, 1)\n",
    "    augmented_frames.append(flip_frame)\n",
    "    \n",
    "    # Shift by 15 pixels to the right\n",
    "    shift_M = np.float32([[1, 0, 15], [0, 1, 0]])\n",
    "    shift_frame = cv2.warpAffine(frame, shift_M, (frame.shape[1], frame.shape[0]))\n",
    "    augmented_frames.append(shift_frame)\n",
    "    \n",
    "    return augmented_frames\n",
    "\n",
    "for vid in list_of_train_data:\n",
    "    cap = cv2.VideoCapture(os.path.join(train_frame_folder, vid))\n",
    "    frameRate = cap.get(5)\n",
    "    while cap.isOpened():\n",
    "        frameId = cap.get(1)\n",
    "        ret, frame = cap.read()\n",
    "        if not ret:\n",
    "            break\n",
    "        if frameId % ((int(frameRate) + 1) * 1) == 0:\n",
    "            label = data[vid]['label']\n",
    "            if label == 'REAL':\n",
    "                original_real_count += 1\n",
    "            elif label == 'FAKE':\n",
    "                original_fake_count += 1\n",
    "\n",
    "            augmented_frames = augment_frame(frame)\n",
    "            for aug_idx, aug_frame in enumerate(augmented_frames):\n",
    "                face_rects, scores, idx = detector.run(aug_frame, 0)\n",
    "                for i, d in enumerate(face_rects):\n",
    "                    x1 = max(0, d.left())\n",
    "                    y1 = max(0, d.top())\n",
    "                    x2 = min(aug_frame.shape[1], d.right())\n",
    "                    y2 = min(aug_frame.shape[0], d.bottom())\n",
    "                    \n",
    "                    if x2 > x1 and y2 > y1:  # Ensure the rectangle is valid\n",
    "                        crop_img = aug_frame[y1:y2, x1:x2]\n",
    "                        if crop_img.size != 0:  # Ensure the cropped image is not empty\n",
    "                            resized_img = cv2.resize(crop_img, (128, 128))\n",
    "                            if label == 'REAL':\n",
    "                                augmented_real_count += 1\n",
    "                                output_path = os.path.join(output_real_folder, f\"{vid.split('.')[0]}_{str(int(frameId))}_aug_{aug_idx}.png\")\n",
    "                                cv2.imwrite(output_path, resized_img)\n",
    "                            elif label == 'FAKE':\n",
    "                                augmented_fake_count += 1\n",
    "                                output_path = os.path.join(output_fake_folder, f\"{vid.split('.')[0]}_{str(int(frameId))}_aug_{aug_idx}.png\")\n",
    "                                cv2.imwrite(output_path, resized_img)\n",
    "    cap.release()"
   ]
  },
  {
   "cell_type": "code",
   "execution_count": 12,
   "metadata": {
    "execution": {
     "iopub.execute_input": "2024-05-22T17:08:41.464019Z",
     "iopub.status.busy": "2024-05-22T17:08:41.463780Z",
     "iopub.status.idle": "2024-05-22T17:08:41.469160Z",
     "shell.execute_reply": "2024-05-22T17:08:41.467911Z",
     "shell.execute_reply.started": "2024-05-22T17:08:41.463980Z"
    }
   },
   "outputs": [
    {
     "name": "stdout",
     "output_type": "stream",
     "text": [
      "Number of original REAL frames: 770\n",
      "Number of original FAKE frames: 3230\n",
      "Number of augmented REAL frames: 2279\n",
      "Number of augmented FAKE frames: 8936\n"
     ]
    }
   ],
   "source": [
    "# Print the number of frames before and after augmenting\n",
    "print(f\"Number of original REAL frames: {original_real_count}\")\n",
    "print(f\"Number of original FAKE frames: {original_fake_count}\")\n",
    "print(f\"Number of augmented REAL frames: {augmented_real_count}\")\n",
    "print(f\"Number of augmented FAKE frames: {augmented_fake_count}\")"
   ]
  },
  {
   "cell_type": "markdown",
   "metadata": {},
   "source": [
    "**Train-test split**"
   ]
  },
  {
   "cell_type": "code",
   "execution_count": 13,
   "metadata": {
    "execution": {
     "iopub.execute_input": "2024-05-22T17:08:41.471447Z",
     "iopub.status.busy": "2024-05-22T17:08:41.471130Z",
     "iopub.status.idle": "2024-05-22T17:08:42.271030Z",
     "shell.execute_reply": "2024-05-22T17:08:42.270285Z",
     "shell.execute_reply.started": "2024-05-22T17:08:41.471390Z"
    }
   },
   "outputs": [],
   "source": [
    "import os\n",
    "import cv2\n",
    "import json\n",
    "import tensorflow as tf\n",
    "import numpy as np\n",
    "import matplotlib.pyplot as plt\n",
    "import seaborn as sn\n",
    "import pandas as pd\n",
    "from tensorflow.keras.preprocessing.image import ImageDataGenerator, img_to_array, load_img\n",
    "from tensorflow.keras.utils import to_categorical\n",
    "from sklearn.model_selection import train_test_split\n",
    "from sklearn.metrics import confusion_matrix"
   ]
  },
  {
   "cell_type": "code",
   "execution_count": 14,
   "metadata": {
    "execution": {
     "iopub.execute_input": "2024-05-22T17:08:42.273053Z",
     "iopub.status.busy": "2024-05-22T17:08:42.272695Z",
     "iopub.status.idle": "2024-05-22T17:08:53.983201Z",
     "shell.execute_reply": "2024-05-22T17:08:53.982279Z",
     "shell.execute_reply.started": "2024-05-22T17:08:42.272984Z"
    }
   },
   "outputs": [
    {
     "name": "stderr",
     "output_type": "stream",
     "text": [
      "Using TensorFlow backend.\n"
     ]
    },
    {
     "name": "stdout",
     "output_type": "stream",
     "text": [
      "Number of training samples: 7565\n",
      "Number of validation samples: 1621\n",
      "Number of test samples: 1622\n"
     ]
    }
   ],
   "source": [
    "import os\n",
    "import numpy as np\n",
    "from keras.preprocessing.image import img_to_array, load_img\n",
    "from keras.utils import to_categorical\n",
    "from sklearn.model_selection import train_test_split\n",
    "\n",
    "input_shape = (128, 128, 3)\n",
    "data_dir = '/kaggle/working/dataset'\n",
    "\n",
    "real_data = [f for f in os.listdir(data_dir + '/real') if f.endswith('.png')]\n",
    "fake_data = [f for f in os.listdir(data_dir + '/fake') if f.endswith('.png')]\n",
    "\n",
    "X = []\n",
    "Y = []\n",
    "\n",
    "for img in real_data:\n",
    "    X.append(img_to_array(load_img(data_dir + '/real/' + img)).flatten() / 255.0)\n",
    "    Y.append(1)\n",
    "for img in fake_data:\n",
    "    X.append(img_to_array(load_img(data_dir + '/fake/' + img)).flatten() / 255.0)\n",
    "    Y.append(0)\n",
    "\n",
    "Y_val_org = Y\n",
    "\n",
    "# Normalization\n",
    "X = np.array(X)\n",
    "Y = to_categorical(Y, 2)\n",
    "\n",
    "# Reshape\n",
    "X = X.reshape(-1, 128, 128, 3)\n",
    "\n",
    "# Initial Train-Test split (80% train, 20% temp)\n",
    "X_train, X_temp, Y_train, Y_temp = train_test_split(X, Y, test_size=0.3, random_state=5)\n",
    "\n",
    "# Further split temp into validation and test (50% each from temp, resulting in 10% each from original dataset)\n",
    "X_val, X_test, Y_val, Y_test = train_test_split(X_temp, Y_temp, test_size=0.5, random_state=5)\n",
    "\n",
    "# Print dataset sizes to verify splits\n",
    "print(f\"Number of training samples: {len(X_train)}\")\n",
    "print(f\"Number of validation samples: {len(X_val)}\")\n",
    "print(f\"Number of test samples: {len(X_test)}\")"
   ]
  },
  {
   "cell_type": "markdown",
   "metadata": {},
   "source": [
    "**Training using InceptionResnetV2**"
   ]
  },
  {
   "cell_type": "code",
   "execution_count": 15,
   "metadata": {
    "execution": {
     "iopub.execute_input": "2024-05-22T17:08:53.985091Z",
     "iopub.status.busy": "2024-05-22T17:08:53.984757Z",
     "iopub.status.idle": "2024-05-22T17:08:53.992335Z",
     "shell.execute_reply": "2024-05-22T17:08:53.991314Z",
     "shell.execute_reply.started": "2024-05-22T17:08:53.985029Z"
    }
   },
   "outputs": [],
   "source": [
    "from tensorflow.keras.applications import InceptionResNetV2\n",
    "from tensorflow.keras.layers import Conv2D\n",
    "from tensorflow.keras.layers import MaxPooling2D\n",
    "from tensorflow.keras.layers import Flatten\n",
    "from tensorflow.keras.layers import Dense\n",
    "from tensorflow.keras.layers import Dropout\n",
    "from tensorflow.keras.layers import InputLayer\n",
    "from tensorflow.keras.layers import GlobalAveragePooling2D\n",
    "from tensorflow.keras.models import Sequential\n",
    "from tensorflow.keras.models import Model\n",
    "from tensorflow.keras import optimizers\n",
    "from tensorflow.keras.callbacks import ReduceLROnPlateau, EarlyStopping"
   ]
  },
  {
   "cell_type": "code",
   "execution_count": 16,
   "metadata": {
    "execution": {
     "iopub.execute_input": "2024-05-22T17:08:53.993935Z",
     "iopub.status.busy": "2024-05-22T17:08:53.993685Z",
     "iopub.status.idle": "2024-05-22T17:08:56.291620Z",
     "shell.execute_reply": "2024-05-22T17:08:56.290654Z",
     "shell.execute_reply.started": "2024-05-22T17:08:53.993887Z"
    }
   },
   "outputs": [
    {
     "name": "stdout",
     "output_type": "stream",
     "text": [
      "Model: \"sequential_5\"\n",
      "_________________________________________________________________\n",
      "Layer (type)                 Output Shape              Param #   \n",
      "=================================================================\n",
      "mobilenet_1.00_128 (Model)   (None, 4, 4, 1024)        3228864   \n",
      "_________________________________________________________________\n",
      "global_average_pooling2d_5 ( (None, 1024)              0         \n",
      "_________________________________________________________________\n",
      "dense_19 (Dense)             (None, 512)               524800    \n",
      "_________________________________________________________________\n",
      "dense_20 (Dense)             (None, 256)               131328    \n",
      "_________________________________________________________________\n",
      "reshape_3 (Reshape)          (None, 1, 1, 256)         0         \n",
      "_________________________________________________________________\n",
      "self_attention_5 (SelfAttent (None, 1, 1, 256)         82240     \n",
      "_________________________________________________________________\n",
      "flatten_1 (Flatten)          (None, 256)               0         \n",
      "_________________________________________________________________\n",
      "dense_21 (Dense)             (None, 128)               32896     \n",
      "_________________________________________________________________\n",
      "dense_22 (Dense)             (None, 64)                8256      \n",
      "_________________________________________________________________\n",
      "dense_23 (Dense)             (None, 2)                 130       \n",
      "=================================================================\n",
      "Total params: 4,008,514\n",
      "Trainable params: 3,986,626\n",
      "Non-trainable params: 21,888\n",
      "_________________________________________________________________\n"
     ]
    }
   ],
   "source": [
    "# Define the custom self-attention layer\n",
    "class SelfAttention(Layer):\n",
    "    def _init_(self, **kwargs):\n",
    "        super(SelfAttention, self)._init_(**kwargs)\n",
    "\n",
    "    def build(self, input_shape):\n",
    "        self.query_conv = Conv2D(filters=input_shape[-1] // 8, kernel_size=1)\n",
    "        self.key_conv = Conv2D(filters=input_shape[-1] // 8, kernel_size=1)\n",
    "        self.value_conv = Conv2D(filters=input_shape[-1], kernel_size=1)\n",
    "        super(SelfAttention, self).build(input_shape)\n",
    "\n",
    "    def call(self, inputs):\n",
    "        query = self.query_conv(inputs)\n",
    "        key = self.key_conv(inputs)\n",
    "        value = self.value_conv(inputs)\n",
    "\n",
    "        # Compute attention scores\n",
    "        attention_scores = tf.matmul(tf.reshape(query, [tf.shape(query)[0], -1, tf.shape(query)[-1]]),\n",
    "                                     tf.reshape(key, [tf.shape(key)[0], -1, tf.shape(key)[-1]]),\n",
    "                                     transpose_b=True)\n",
    "        attention_scores = tf.nn.softmax(attention_scores)\n",
    "\n",
    "        # Apply attention scores to value\n",
    "        attention_output = tf.matmul(attention_scores,\n",
    "                                     tf.reshape(value, [tf.shape(value)[0], -1, tf.shape(value)[-1]]))\n",
    "        attention_output = tf.reshape(attention_output, tf.shape(inputs))\n",
    "\n",
    "        return attention_output\n",
    "\n",
    "# Load the MobileNet model\n",
    "input_shape = (128, 128, 3)\n",
    "mobilenet = MobileNet(include_top=False, weights='imagenet', input_shape=input_shape)\n",
    "mobilenet.trainable = True\n",
    "\n",
    "# Create a Sequential model and add the MobileNet model\n",
    "model = Sequential()\n",
    "model.add(mobilenet)\n",
    "\n",
    "# Add pooling and dense layers\n",
    "model.add(GlobalAveragePooling2D())\n",
    "model.add(Dense(units=512, activation='relu'))\n",
    "\n",
    "# Add the remaining dense layers before the self-attention layer\n",
    "model.add(Dense(units=256, activation='relu'))\n",
    "\n",
    "# Reshape the output to 4D before adding the custom self-attention layer\n",
    "model.add(Reshape((1, 1, 256)))\n",
    "\n",
    "# Add the custom self-attention layer\n",
    "model.add(SelfAttention())\n",
    "\n",
    "# Flatten the output back to 2D\n",
    "model.add(Flatten())\n",
    "\n",
    "# Add the remaining dense layers\n",
    "model.add(Dense(units=128, activation='relu'))\n",
    "model.add(Dense(units=64, activation='relu'))\n",
    "model.add(Dense(units=2, activation='sigmoid'))\n",
    "\n",
    "# Compile the model\n",
    "model.compile(\n",
    "    loss='binary_crossentropy',\n",
    "    optimizer=optimizers.Adam(lr=1e-5, beta_1=0.9, beta_2=0.999, epsilon=None, decay=0.0, amsgrad=False),\n",
    "    metrics=['accuracy']\n",
    ")\n",
    "\n",
    "# Print the model summary\n",
    "model.summary()"
   ]
  },
  {
   "cell_type": "code",
   "execution_count": null,
   "metadata": {},
   "outputs": [],
   "source": []
  },
  {
   "cell_type": "code",
   "execution_count": 17,
   "metadata": {
    "execution": {
     "iopub.execute_input": "2024-05-22T17:08:56.293675Z",
     "iopub.status.busy": "2024-05-22T17:08:56.293216Z",
     "iopub.status.idle": "2024-05-22T17:12:49.752922Z",
     "shell.execute_reply": "2024-05-22T17:12:49.752134Z",
     "shell.execute_reply.started": "2024-05-22T17:08:56.293497Z"
    }
   },
   "outputs": [
    {
     "name": "stdout",
     "output_type": "stream",
     "text": [
      "Train on 7565 samples, validate on 1621 samples\n",
      "Epoch 1/20\n",
      "7565/7565 [==============================] - 18s 2ms/sample - loss: 0.4758 - accuracy: 0.7800 - val_loss: 0.4687 - val_accuracy: 0.7909\n",
      "Epoch 2/20\n",
      "7565/7565 [==============================] - 11s 1ms/sample - loss: 0.3398 - accuracy: 0.8436 - val_loss: 0.3375 - val_accuracy: 0.8627\n",
      "Epoch 3/20\n",
      "7565/7565 [==============================] - 11s 2ms/sample - loss: 0.2268 - accuracy: 0.9140 - val_loss: 0.2076 - val_accuracy: 0.9133\n",
      "Epoch 4/20\n",
      "7565/7565 [==============================] - 11s 1ms/sample - loss: 0.1378 - accuracy: 0.9576 - val_loss: 0.1380 - val_accuracy: 0.9476\n",
      "Epoch 5/20\n",
      "7565/7565 [==============================] - 11s 1ms/sample - loss: 0.0851 - accuracy: 0.9757 - val_loss: 0.1055 - val_accuracy: 0.9587\n",
      "Epoch 6/20\n",
      "7565/7565 [==============================] - 11s 2ms/sample - loss: 0.0516 - accuracy: 0.9887 - val_loss: 0.0873 - val_accuracy: 0.9664\n",
      "Epoch 7/20\n",
      "7565/7565 [==============================] - 11s 1ms/sample - loss: 0.0317 - accuracy: 0.9945 - val_loss: 0.0768 - val_accuracy: 0.9692\n",
      "Epoch 8/20\n",
      "7565/7565 [==============================] - 11s 1ms/sample - loss: 0.0201 - accuracy: 0.9976 - val_loss: 0.0715 - val_accuracy: 0.9695\n",
      "Epoch 9/20\n",
      "7565/7565 [==============================] - 11s 2ms/sample - loss: 0.0136 - accuracy: 0.9989 - val_loss: 0.0676 - val_accuracy: 0.9722\n",
      "Epoch 10/20\n",
      "7565/7565 [==============================] - 11s 1ms/sample - loss: 0.0094 - accuracy: 0.9991 - val_loss: 0.0662 - val_accuracy: 0.9741\n",
      "Epoch 11/20\n",
      "7565/7565 [==============================] - 11s 1ms/sample - loss: 0.0070 - accuracy: 0.9997 - val_loss: 0.0638 - val_accuracy: 0.9747\n",
      "Epoch 12/20\n",
      "7565/7565 [==============================] - 11s 1ms/sample - loss: 0.0046 - accuracy: 0.9998 - val_loss: 0.0632 - val_accuracy: 0.9756\n",
      "Epoch 13/20\n",
      "7565/7565 [==============================] - 11s 1ms/sample - loss: 0.0058 - accuracy: 0.9992 - val_loss: 0.0691 - val_accuracy: 0.9744\n",
      "Epoch 14/20\n",
      "7565/7565 [==============================] - 11s 1ms/sample - loss: 0.0039 - accuracy: 0.9997 - val_loss: 0.0631 - val_accuracy: 0.9769\n",
      "Epoch 15/20\n",
      "7565/7565 [==============================] - 11s 2ms/sample - loss: 0.0022 - accuracy: 1.0000 - val_loss: 0.0622 - val_accuracy: 0.9781\n",
      "Epoch 16/20\n",
      "7565/7565 [==============================] - 11s 1ms/sample - loss: 0.0020 - accuracy: 1.0000 - val_loss: 0.0612 - val_accuracy: 0.9778\n",
      "Epoch 17/20\n",
      "7565/7565 [==============================] - 11s 1ms/sample - loss: 0.0017 - accuracy: 0.9999 - val_loss: 0.0620 - val_accuracy: 0.9784\n",
      "Epoch 18/20\n",
      "7565/7565 [==============================] - 11s 2ms/sample - loss: 0.0014 - accuracy: 1.0000 - val_loss: 0.0617 - val_accuracy: 0.9778\n",
      "Epoch 19/20\n",
      "7565/7565 [==============================] - 11s 1ms/sample - loss: 0.0015 - accuracy: 1.0000 - val_loss: 0.0631 - val_accuracy: 0.9781\n",
      "Epoch 20/20\n",
      "7565/7565 [==============================] - 11s 1ms/sample - loss: 0.0012 - accuracy: 1.0000 - val_loss: 0.0598 - val_accuracy: 0.9784\n"
     ]
    }
   ],
   "source": [
    "# Define the number of epochs\n",
    "EPOCHS = 20\n",
    "\n",
    "# Train the model for 20 epochs\n",
    "history = model.fit(\n",
    "    X_train, Y_train,\n",
    "    batch_size=64,\n",
    "    epochs=EPOCHS,\n",
    "    validation_data=(X_val, Y_val),\n",
    "    verbose=1\n",
    ")"
   ]
  },
  {
   "cell_type": "markdown",
   "metadata": {},
   "source": [
    "**Test Accuracy**"
   ]
  },
  {
   "cell_type": "code",
   "execution_count": 18,
   "metadata": {
    "execution": {
     "iopub.execute_input": "2024-05-22T17:12:49.755021Z",
     "iopub.status.busy": "2024-05-22T17:12:49.754770Z",
     "iopub.status.idle": "2024-05-22T17:12:50.842008Z",
     "shell.execute_reply": "2024-05-22T17:12:50.841204Z",
     "shell.execute_reply.started": "2024-05-22T17:12:49.754977Z"
    }
   },
   "outputs": [
    {
     "name": "stdout",
     "output_type": "stream",
     "text": [
      "1622/1622 [==============================] - 1s 490us/sample - loss: 0.1209 - accuracy: 0.9689\n",
      "Test Loss: 0.12093600630071175\n",
      "Test Accuracy: 0.9688655734062195\n"
     ]
    }
   ],
   "source": [
    "from sklearn.metrics import confusion_matrix, classification_report\n",
    "\n",
    "# Test the model\n",
    "test_loss, test_accuracy = model.evaluate(X_test, Y_test)\n",
    "print(f\"Test Loss: {test_loss}\")\n",
    "print(f\"Test Accuracy: {test_accuracy}\")"
   ]
  },
  {
   "cell_type": "markdown",
   "metadata": {},
   "source": [
    "**Plot**"
   ]
  },
  {
   "cell_type": "code",
   "execution_count": 19,
   "metadata": {
    "execution": {
     "iopub.execute_input": "2024-05-22T17:12:50.845007Z",
     "iopub.status.busy": "2024-05-22T17:12:50.844642Z",
     "iopub.status.idle": "2024-05-22T17:12:51.446569Z",
     "shell.execute_reply": "2024-05-22T17:12:51.442716Z",
     "shell.execute_reply.started": "2024-05-22T17:12:50.844929Z"
    }
   },
   "outputs": [
    {
     "data": {
      "image/png": "[encoded data removed]",
      "text/plain": [
       "<Figure size 432x288 with 1 Axes>"
      ]
     },
     "metadata": {
      "needs_background": "light"
     },
     "output_type": "display_data"
    },
    {
     "data": {
      "image/png": "[encoded data removed]",
      "text/plain": [
       "<Figure size 432x288 with 1 Axes>"
      ]
     },
     "metadata": {
      "needs_background": "light"
     },
     "output_type": "display_data"
    }
   ],
   "source": [
    "import matplotlib.pyplot as plt\n",
    "\n",
    "# Plot training & validation loss values\n",
    "plt.plot(history.history['loss'])\n",
    "plt.plot(history.history['val_loss'])\n",
    "plt.title('Model Loss')\n",
    "plt.ylabel('Loss')\n",
    "plt.xlabel('Epoch')\n",
    "plt.legend(['Train', 'Validation'], loc='upper left')\n",
    "plt.show()\n",
    "\n",
    "# Plot training & validation accuracy values\n",
    "plt.plot(history.history['accuracy'])\n",
    "plt.plot(history.history['val_accuracy'])\n",
    "plt.title('Model Accuracy')\n",
    "plt.ylabel('Accuracy')\n",
    "plt.xlabel('Epoch')\n",
    "plt.legend(['Train', 'Validation'], loc='upper left')\n",
    "plt.show()"
   ]
  },
  {
   "cell_type": "markdown",
   "metadata": {},
   "source": [
    "**Confusion matrix**"
   ]
  },
  {
   "cell_type": "code",
   "execution_count": 20,
   "metadata": {
    "execution": {
     "iopub.execute_input": "2024-05-22T17:12:51.449500Z",
     "iopub.status.busy": "2024-05-22T17:12:51.448917Z",
     "iopub.status.idle": "2024-05-22T17:12:52.834256Z",
     "shell.execute_reply": "2024-05-22T17:12:52.833321Z",
     "shell.execute_reply.started": "2024-05-22T17:12:51.449274Z"
    }
   },
   "outputs": [
    {
     "name": "stdout",
     "output_type": "stream",
     "text": [
      "Confusion Matrix:\n",
      "[[1275   19]\n",
      " [  30  298]]\n"
     ]
    }
   ],
   "source": [
    "# Predict classes for test data\n",
    "Y_pred = model.predict(X_test)\n",
    "Y_pred_classes = np.argmax(Y_pred, axis=1)\n",
    "Y_true = np.argmax(Y_test, axis=1)\n",
    "\n",
    "# Confusion Matrix\n",
    "conf_matrix = confusion_matrix(Y_true, Y_pred_classes)\n",
    "print(\"Confusion Matrix:\")\n",
    "print(conf_matrix)"
   ]
  },
  {
   "cell_type": "markdown",
   "metadata": {},
   "source": [
    "**Classification Report**"
   ]
  },
  {
   "cell_type": "code",
   "execution_count": 21,
   "metadata": {
    "execution": {
     "iopub.execute_input": "2024-05-22T17:12:52.836074Z",
     "iopub.status.busy": "2024-05-22T17:12:52.835739Z",
     "iopub.status.idle": "2024-05-22T17:12:52.847811Z",
     "shell.execute_reply": "2024-05-22T17:12:52.846720Z",
     "shell.execute_reply.started": "2024-05-22T17:12:52.836014Z"
    }
   },
   "outputs": [
    {
     "name": "stdout",
     "output_type": "stream",
     "text": [
      "Classification Report:\n",
      "              precision    recall  f1-score   support\n",
      "\n",
      "           0       0.98      0.99      0.98      1294\n",
      "           1       0.94      0.91      0.92       328\n",
      "\n",
      "    accuracy                           0.97      1622\n",
      "   macro avg       0.96      0.95      0.95      1622\n",
      "weighted avg       0.97      0.97      0.97      1622\n",
      "\n"
     ]
    }
   ],
   "source": [
    "# Classification Report\n",
    "class_report = classification_report(Y_true, Y_pred_classes)\n",
    "print(\"Classification Report:\")\n",
    "print(class_report)"
   ]
  },
  {
   "cell_type": "code",
   "execution_count": null,
   "metadata": {},
   "outputs": [],
   "source": []
  },
  {
   "cell_type": "code",
   "execution_count": null,
   "metadata": {},
   "outputs": [],
   "source": []
  }
 ],
 "metadata": {
  "kaggle": {
   "accelerator": "gpu",
   "dataSources": [
    {
     "databundleVersionId": 858837,
     "sourceId": 16880,
     "sourceType": "competition"
    },
    {
     "datasetId": 446509,
     "sourceId": 845111,
     "sourceType": "datasetVersion"
    }
   ],
   "dockerImageVersionId": 29845,
   "isGpuEnabled": true,
   "isInternetEnabled": true,
   "language": "python",
   "sourceType": "notebook"
  },
  "kernelspec": {
   "display_name": "Python 3 (ipykernel)",
   "language": "python",
   "name": "python3"
  },
  "language_info": {
   "codemirror_mode": {
    "name": "ipython",
    "version": 3
   },
   "file_extension": ".py",
   "mimetype": "text/x-python",
   "name": "python",
   "nbconvert_exporter": "python",
   "pygments_lexer": "ipython3",
   "version": "3.9.13"
  }
 },
 "nbformat": 4,
 "nbformat_minor": 4
}
