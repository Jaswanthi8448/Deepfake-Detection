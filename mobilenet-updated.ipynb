{
 "cells": [
  {
   "cell_type": "code",
   "execution_count": 1,
   "metadata": {
    "_cell_guid": "b1076dfc-b9ad-4769-8c92-a6c4dae69d19",
    "_uuid": "8f2839f25d086af736a60e9eeb907d3b93b6e0e5",
    "execution": {
     "iopub.execute_input": "2024-05-21T14:28:25.793795Z",
     "iopub.status.busy": "2024-05-21T14:28:25.793514Z",
     "iopub.status.idle": "2024-05-21T14:34:07.665852Z",
     "shell.execute_reply": "2024-05-21T14:34:07.664858Z",
     "shell.execute_reply.started": "2024-05-21T14:28:25.793739Z"
    }
   },
   "outputs": [
    {
     "name": "stdout",
     "output_type": "stream",
     "text": [
      "Processing /kaggle/input/dlibpkg/dlib-19.19.0\n",
      "Building wheels for collected packages: dlib\n",
      "  Building wheel for dlib (setup.py) ... \u001b[?25ldone\n",
      "\u001b[?25h  Created wheel for dlib: filename=dlib-19.19.0-cp36-cp36m-linux_x86_64.whl size=4086377 sha256=2af64121c041dbffc8e72392208ebecdfcac924a693f9a9cb11de63d12e0afad\n",
      "  Stored in directory: /root/.cache/pip/wheels/f3/da/18/38136f7dd8e242c1cc2236d574a50f34463b8c59aab887dd79\n",
      "Successfully built dlib\n",
      "Installing collected packages: dlib\n",
      "Successfully installed dlib-19.19.0\n"
     ]
    }
   ],
   "source": [
    "!pip install '/kaggle/input/dlibpkg/dlib-19.19.0'"
   ]
  },
  {
   "cell_type": "code",
   "execution_count": 2,
   "metadata": {
    "execution": {
     "iopub.execute_input": "2024-05-21T14:34:07.668158Z",
     "iopub.status.busy": "2024-05-21T14:34:07.667900Z",
     "iopub.status.idle": "2024-05-21T14:34:08.089766Z",
     "shell.execute_reply": "2024-05-21T14:34:08.089138Z",
     "shell.execute_reply.started": "2024-05-21T14:34:07.668114Z"
    }
   },
   "outputs": [],
   "source": [
    "import os\n",
    "import json\n",
    "import cv2\n",
    "import dlib\n",
    "import numpy as np\n",
    "import dlib\n",
    "import cv2\n",
    "import os\n",
    "import re\n",
    "import json\n",
    "from pylab import *\n",
    "from PIL import Image, ImageChops, ImageEnhance"
   ]
  },
  {
   "cell_type": "markdown",
   "metadata": {},
   "source": [
    "**Data Augementation**"
   ]
  },
  {
   "cell_type": "code",
   "execution_count": 3,
   "metadata": {
    "execution": {
     "iopub.execute_input": "2024-05-21T14:34:08.091613Z",
     "iopub.status.busy": "2024-05-21T14:34:08.091290Z",
     "iopub.status.idle": "2024-05-21T14:34:08.614822Z",
     "shell.execute_reply": "2024-05-21T14:34:08.614214Z",
     "shell.execute_reply.started": "2024-05-21T14:34:08.091552Z"
    }
   },
   "outputs": [],
   "source": [
    "train_frame_folder = '/kaggle/input/deepfake-detection-challenge/train_sample_videos'\n",
    "output_real_folder = '/kaggle/working/dataset/real'\n",
    "output_fake_folder = '/kaggle/working/dataset/fake'\n",
    "\n",
    "# Create directories if they do not exist\n",
    "os.makedirs(output_real_folder, exist_ok=True)\n",
    "os.makedirs(output_fake_folder, exist_ok=True)\n",
    "\n",
    "with open(os.path.join(train_frame_folder, 'metadata.json'), 'r') as file:\n",
    "    data = json.load(file)\n",
    "\n",
    "list_of_train_data = [f for f in os.listdir(train_frame_folder) if f.endswith('.mp4')]\n",
    "detector = dlib.get_frontal_face_detector()\n",
    "\n",
    "# Counters for frames and images\n",
    "original_real_count = 0\n",
    "original_fake_count = 0\n",
    "augmented_real_count = 0\n",
    "augmented_fake_count = 0"
   ]
  },
  {
   "cell_type": "code",
   "execution_count": 4,
   "metadata": {
    "execution": {
     "iopub.execute_input": "2024-05-21T14:34:08.616486Z",
     "iopub.status.busy": "2024-05-21T14:34:08.616247Z",
     "iopub.status.idle": "2024-05-21T15:45:34.807117Z",
     "shell.execute_reply": "2024-05-21T15:45:34.806440Z",
     "shell.execute_reply.started": "2024-05-21T14:34:08.616446Z"
    }
   },
   "outputs": [],
   "source": [
    "def augment_frame(frame):\n",
    "    # Example augmentations: flipping, rotation\n",
    "    augmented_frames = []\n",
    "    \n",
    "    # Original frame\n",
    "    augmented_frames.append(frame)\n",
    "    \n",
    "    # Horizontal flip\n",
    "    flip_frame = cv2.flip(frame, 1)\n",
    "    augmented_frames.append(flip_frame)\n",
    "    \n",
    "    # Shift by 15 pixels to the right\n",
    "    shift_M = np.float32([[1, 0, 15], [0, 1, 0]])\n",
    "    shift_frame = cv2.warpAffine(frame, shift_M, (frame.shape[1], frame.shape[0]))\n",
    "    augmented_frames.append(shift_frame)\n",
    "    \n",
    "    return augmented_frames\n",
    "\n",
    "for vid in list_of_train_data:\n",
    "    cap = cv2.VideoCapture(os.path.join(train_frame_folder, vid))\n",
    "    frameRate = cap.get(5)\n",
    "    while cap.isOpened():\n",
    "        frameId = cap.get(1)\n",
    "        ret, frame = cap.read()\n",
    "        if not ret:\n",
    "            break\n",
    "        if frameId % ((int(frameRate) + 1) * 1) == 0:\n",
    "            label = data[vid]['label']\n",
    "            if label == 'REAL':\n",
    "                original_real_count += 1\n",
    "            elif label == 'FAKE':\n",
    "                original_fake_count += 1\n",
    "\n",
    "            augmented_frames = augment_frame(frame)\n",
    "            for aug_idx, aug_frame in enumerate(augmented_frames):\n",
    "                face_rects, scores, idx = detector.run(aug_frame, 0)\n",
    "                for i, d in enumerate(face_rects):\n",
    "                    x1 = max(0, d.left())\n",
    "                    y1 = max(0, d.top())\n",
    "                    x2 = min(aug_frame.shape[1], d.right())\n",
    "                    y2 = min(aug_frame.shape[0], d.bottom())\n",
    "                    \n",
    "                    if x2 > x1 and y2 > y1:  # Ensure the rectangle is valid\n",
    "                        crop_img = aug_frame[y1:y2, x1:x2]\n",
    "                        if crop_img.size != 0:  # Ensure the cropped image is not empty\n",
    "                            resized_img = cv2.resize(crop_img, (128, 128))\n",
    "                            if label == 'REAL':\n",
    "                                augmented_real_count += 1\n",
    "                                output_path = os.path.join(output_real_folder, f\"{vid.split('.')[0]}_{str(int(frameId))}_aug_{aug_idx}.png\")\n",
    "                                cv2.imwrite(output_path, resized_img)\n",
    "                            elif label == 'FAKE':\n",
    "                                augmented_fake_count += 1\n",
    "                                output_path = os.path.join(output_fake_folder, f\"{vid.split('.')[0]}_{str(int(frameId))}_aug_{aug_idx}.png\")\n",
    "                                cv2.imwrite(output_path, resized_img)\n",
    "    cap.release()"
   ]
  },
  {
   "cell_type": "code",
   "execution_count": 5,
   "metadata": {
    "execution": {
     "iopub.execute_input": "2024-05-21T15:45:34.809914Z",
     "iopub.status.busy": "2024-05-21T15:45:34.809655Z",
     "iopub.status.idle": "2024-05-21T15:45:34.815257Z",
     "shell.execute_reply": "2024-05-21T15:45:34.814311Z",
     "shell.execute_reply.started": "2024-05-21T15:45:34.809872Z"
    }
   },
   "outputs": [
    {
     "name": "stdout",
     "output_type": "stream",
     "text": [
      "Number of original REAL frames: 770\n",
      "Number of original FAKE frames: 3230\n",
      "Number of augmented REAL frames: 2279\n",
      "Number of augmented FAKE frames: 8936\n"
     ]
    }
   ],
   "source": [
    "# Print the number of frames before and after augmenting\n",
    "print(f\"Number of original REAL frames: {original_real_count}\")\n",
    "print(f\"Number of original FAKE frames: {original_fake_count}\")\n",
    "print(f\"Number of augmented REAL frames: {augmented_real_count}\")\n",
    "print(f\"Number of augmented FAKE frames: {augmented_fake_count}\")"
   ]
  },
  {
   "cell_type": "code",
   "execution_count": null,
   "metadata": {},
   "outputs": [],
   "source": [
    "import matplotlib.pyplot as plt\n",
    "\n",
    "# Data for the plots\n",
    "before_augmentation = {\n",
    "    'REAL': 770,\n",
    "    'FAKE': 3230\n",
    "}\n",
    "after_augmentation = {\n",
    "    'REAL': 2279,\n",
    "    'FAKE': 8936\n",
    "}\n",
    "\n",
    "# Bar plot before augmentation\n",
    "plt.figure(figsize=(8, 5))\n",
    "plt.bar(before_augmentation.keys(), before_augmentation.values(), color=['blue', 'orange'])\n",
    "plt.xlabel('Categories')\n",
    "plt.ylabel('Number of Frames')\n",
    "plt.title('Number of Images in REAL and FAKE Class')\n",
    "plt.ylim(0, max(before_augmentation.values()) * 1.1)\n",
    "\n",
    "# Adding text annotations\n",
    "for category, count in before_augmentation.items():\n",
    "    plt.text(category, count + 50, str(count), ha='center', va='bottom', fontsize=12)\n",
    "\n",
    "plt.show()\n",
    "\n",
    "# Bar plot after augmentation\n",
    "plt.figure(figsize=(8, 5))\n",
    "plt.bar(after_augmentation.keys(), after_augmentation.values(), color=['blue', 'orange'])\n",
    "plt.xlabel('Categories')\n",
    "plt.ylabel('Number of Frames')\n",
    "plt.title('Number of Frames After Augmentation')\n",
    "plt.ylim(0, max(after_augmentation.values()) * 1.1)\n",
    "\n",
    "# Adding text annotations\n",
    "for category, count in after_augmentation.items():\n",
    "    plt.text(category, count + 50, str(count), ha='center', va='bottom', fontsize=12)\n",
    "\n",
    "plt.show()"
   ]
  },
  {
   "cell_type": "code",
   "execution_count": 6,
   "metadata": {
    "execution": {
     "iopub.execute_input": "2024-05-21T15:45:34.816974Z",
     "iopub.status.busy": "2024-05-21T15:45:34.816720Z",
     "iopub.status.idle": "2024-05-21T15:45:40.272040Z",
     "shell.execute_reply": "2024-05-21T15:45:40.271399Z",
     "shell.execute_reply.started": "2024-05-21T15:45:34.816911Z"
    }
   },
   "outputs": [],
   "source": [
    "import os\n",
    "import cv2\n",
    "import json\n",
    "import tensorflow as tf\n",
    "import numpy as np\n",
    "import matplotlib.pyplot as plt\n",
    "import seaborn as sn\n",
    "import pandas as pd\n",
    "from tensorflow.keras.preprocessing.image import ImageDataGenerator, img_to_array, load_img\n",
    "from tensorflow.keras.utils import to_categorical\n",
    "from sklearn.model_selection import train_test_split\n",
    "from sklearn.metrics import confusion_matrix"
   ]
  },
  {
   "cell_type": "code",
   "execution_count": 7,
   "metadata": {
    "execution": {
     "iopub.execute_input": "2024-05-21T15:45:40.273833Z",
     "iopub.status.busy": "2024-05-21T15:45:40.273549Z",
     "iopub.status.idle": "2024-05-21T15:45:51.968702Z",
     "shell.execute_reply": "2024-05-21T15:45:51.967739Z",
     "shell.execute_reply.started": "2024-05-21T15:45:40.273781Z"
    }
   },
   "outputs": [
    {
     "name": "stderr",
     "output_type": "stream",
     "text": [
      "Using TensorFlow backend.\n"
     ]
    },
    {
     "name": "stdout",
     "output_type": "stream",
     "text": [
      "Number of training samples: 7565\n",
      "Number of validation samples: 1621\n",
      "Number of test samples: 1622\n"
     ]
    }
   ],
   "source": [
    "import os\n",
    "import numpy as np\n",
    "from keras.preprocessing.image import img_to_array, load_img\n",
    "from keras.utils import to_categorical\n",
    "from sklearn.model_selection import train_test_split\n",
    "\n",
    "input_shape = (128, 128, 3)\n",
    "data_dir = '/kaggle/working/dataset'\n",
    "\n",
    "real_data = [f for f in os.listdir(data_dir + '/real') if f.endswith('.png')]\n",
    "fake_data = [f for f in os.listdir(data_dir + '/fake') if f.endswith('.png')]\n",
    "\n",
    "X = []\n",
    "Y = []\n",
    "\n",
    "for img in real_data:\n",
    "    X.append(img_to_array(load_img(data_dir + '/real/' + img)).flatten() / 255.0)\n",
    "    Y.append(1)\n",
    "for img in fake_data:\n",
    "    X.append(img_to_array(load_img(data_dir + '/fake/' + img)).flatten() / 255.0)\n",
    "    Y.append(0)\n",
    "\n",
    "Y_val_org = Y\n",
    "\n",
    "# Normalization\n",
    "X = np.array(X)\n",
    "Y = to_categorical(Y, 2)\n",
    "\n",
    "# Reshape\n",
    "X = X.reshape(-1, 128, 128, 3)\n",
    "\n",
    "# Initial Train-Test split (80% train, 20% temp)\n",
    "X_train, X_temp, Y_train, Y_temp = train_test_split(X, Y, test_size=0.3, random_state=5)\n",
    "\n",
    "# Further split temp into validation and test (50% each from temp, resulting in 10% each from original dataset)\n",
    "X_val, X_test, Y_val, Y_test = train_test_split(X_temp, Y_temp, test_size=0.5, random_state=5)\n",
    "\n",
    "# Print dataset sizes to verify splits\n",
    "print(f\"Number of training samples: {len(X_train)}\")\n",
    "print(f\"Number of validation samples: {len(X_val)}\")\n",
    "print(f\"Number of test samples: {len(X_test)}\")"
   ]
  },
  {
   "cell_type": "markdown",
   "metadata": {},
   "source": [
    "**Training**"
   ]
  },
  {
   "cell_type": "code",
   "execution_count": 8,
   "metadata": {
    "execution": {
     "iopub.execute_input": "2024-05-21T15:45:51.970313Z",
     "iopub.status.busy": "2024-05-21T15:45:51.970024Z",
     "iopub.status.idle": "2024-05-21T15:45:51.983630Z",
     "shell.execute_reply": "2024-05-21T15:45:51.982941Z",
     "shell.execute_reply.started": "2024-05-21T15:45:51.970262Z"
    }
   },
   "outputs": [],
   "source": [
    "from tensorflow.keras.applications import InceptionResNetV2\n",
    "from tensorflow.keras.layers import Conv2D\n",
    "from tensorflow.keras.layers import MaxPooling2D\n",
    "from tensorflow.keras.layers import Flatten\n",
    "from tensorflow.keras.layers import Dense\n",
    "from tensorflow.keras.layers import Dropout\n",
    "from tensorflow.keras.layers import InputLayer\n",
    "from tensorflow.keras.layers import GlobalAveragePooling2D\n",
    "from tensorflow.keras.models import Sequential\n",
    "from tensorflow.keras.models import Model\n",
    "from tensorflow.keras import optimizers\n",
    "from tensorflow.keras.callbacks import ReduceLROnPlateau, EarlyStopping"
   ]
  },
  {
   "cell_type": "code",
   "execution_count": 9,
   "metadata": {
    "execution": {
     "iopub.execute_input": "2024-05-21T15:45:51.985647Z",
     "iopub.status.busy": "2024-05-21T15:45:51.985194Z",
     "iopub.status.idle": "2024-05-21T15:45:58.637387Z",
     "shell.execute_reply": "2024-05-21T15:45:58.636574Z",
     "shell.execute_reply.started": "2024-05-21T15:45:51.985504Z"
    }
   },
   "outputs": [
    {
     "name": "stdout",
     "output_type": "stream",
     "text": [
      "Downloading data from https://github.com/JonathanCMitchell/mobilenet_v2_keras/releases/download/v1.1/mobilenet_v2_weights_tf_dim_ordering_tf_kernels_1.0_128_no_top.h5\n",
      "9412608/9406464 [==============================] - 0s 0us/step\n",
      "Model: \"sequential\"\n",
      "_________________________________________________________________\n",
      "Layer (type)                 Output Shape              Param #   \n",
      "=================================================================\n",
      "mobilenetv2_1.00_128 (Model) (None, 4, 4, 1280)        2257984   \n",
      "_________________________________________________________________\n",
      "global_average_pooling2d (Gl (None, 1280)              0         \n",
      "_________________________________________________________________\n",
      "dense (Dense)                (None, 512)               655872    \n",
      "_________________________________________________________________\n",
      "dropout (Dropout)            (None, 512)               0         \n",
      "_________________________________________________________________\n",
      "dense_1 (Dense)              (None, 256)               131328    \n",
      "_________________________________________________________________\n",
      "dense_2 (Dense)              (None, 128)               32896     \n",
      "_________________________________________________________________\n",
      "dense_3 (Dense)              (None, 64)                8256      \n",
      "_________________________________________________________________\n",
      "dense_4 (Dense)              (None, 2)                 130       \n",
      "=================================================================\n",
      "Total params: 3,086,466\n",
      "Trainable params: 3,052,354\n",
      "Non-trainable params: 34,112\n",
      "_________________________________________________________________\n"
     ]
    }
   ],
   "source": [
    "from tensorflow.keras.applications import MobileNetV2\n",
    "from tensorflow.keras.layers import GlobalAveragePooling2D, Dense, Dropout\n",
    "from tensorflow.keras.models import Sequential\n",
    "from tensorflow.keras import optimizers\n",
    "\n",
    "# Load the MobileNetV2 model\n",
    "#input_shape = (224, 224, 3)  # Example input shape\n",
    "mobilenet_v2 = MobileNetV2(include_top=False, weights='imagenet', input_shape=input_shape)\n",
    "mobilenet_v2.trainable = True\n",
    "model = Sequential()\n",
    "model.add(mobilenet_v2)\n",
    "model.add(GlobalAveragePooling2D())\n",
    "\n",
    "# Add additional dense and dropout layers\n",
    "model.add(Dense(units=512, activation='relu'))\n",
    "model.add(Dropout(0.5))\n",
    "model.add(Dense(units=256, activation='relu'))\n",
    "model.add(Dense(units=128, activation='relu'))\n",
    "model.add(Dense(units=64, activation='relu'))\n",
    "model.add(Dense(units=2, activation='sigmoid'))\n",
    "\n",
    "# Compile the model\n",
    "model.compile(\n",
    "    loss='binary_crossentropy',\n",
    "    optimizer=optimizers.Adam(lr=1e-5, beta_1=0.9, beta_2=0.999, epsilon=None, decay=0.0, amsgrad=False),\n",
    "    metrics=['accuracy']\n",
    ")\n",
    "\n",
    "# Print the model summary\n",
    "model.summary()\n"
   ]
  },
  {
   "cell_type": "code",
   "execution_count": 20,
   "metadata": {
    "execution": {
     "iopub.execute_input": "2024-05-21T16:12:13.524047Z",
     "iopub.status.busy": "2024-05-21T16:12:13.523720Z",
     "iopub.status.idle": "2024-05-21T16:16:22.143196Z",
     "shell.execute_reply": "2024-05-21T16:16:22.142552Z",
     "shell.execute_reply.started": "2024-05-21T16:12:13.524002Z"
    }
   },
   "outputs": [
    {
     "name": "stdout",
     "output_type": "stream",
     "text": [
      "Train on 7565 samples, validate on 1621 samples\n",
      "Epoch 1/20\n",
      "7565/7565 [==============================] - 13s 2ms/sample - loss: 0.0013 - accuracy: 0.9997 - val_loss: 0.1698 - val_accuracy: 0.9701\n",
      "Epoch 2/20\n",
      "7565/7565 [==============================] - 12s 2ms/sample - loss: 0.0015 - accuracy: 0.9998 - val_loss: 0.1589 - val_accuracy: 0.9716\n",
      "Epoch 3/20\n",
      "7565/7565 [==============================] - 12s 2ms/sample - loss: 8.1721e-04 - accuracy: 0.9999 - val_loss: 0.1430 - val_accuracy: 0.9732\n",
      "Epoch 4/20\n",
      "7565/7565 [==============================] - 13s 2ms/sample - loss: 0.0011 - accuracy: 0.9997 - val_loss: 0.1363 - val_accuracy: 0.9744\n",
      "Epoch 5/20\n",
      "7565/7565 [==============================] - 12s 2ms/sample - loss: 6.5173e-04 - accuracy: 0.9998 - val_loss: 0.1434 - val_accuracy: 0.9738\n",
      "Epoch 6/20\n",
      "7565/7565 [==============================] - 12s 2ms/sample - loss: 6.8852e-04 - accuracy: 0.9998 - val_loss: 0.1474 - val_accuracy: 0.9753\n",
      "Epoch 7/20\n",
      "7565/7565 [==============================] - 13s 2ms/sample - loss: 4.2661e-04 - accuracy: 1.0000 - val_loss: 0.1407 - val_accuracy: 0.9747\n",
      "Epoch 8/20\n",
      "7565/7565 [==============================] - 12s 2ms/sample - loss: 9.5268e-04 - accuracy: 0.9997 - val_loss: 0.1404 - val_accuracy: 0.9747\n",
      "Epoch 9/20\n",
      "7565/7565 [==============================] - 12s 2ms/sample - loss: 0.0016 - accuracy: 0.9996 - val_loss: 0.1369 - val_accuracy: 0.9756\n",
      "Epoch 10/20\n",
      "7565/7565 [==============================] - 13s 2ms/sample - loss: 0.0017 - accuracy: 0.9996 - val_loss: 0.1398 - val_accuracy: 0.9741\n",
      "Epoch 11/20\n",
      "7565/7565 [==============================] - 12s 2ms/sample - loss: 0.0012 - accuracy: 0.9993 - val_loss: 0.1434 - val_accuracy: 0.9747\n",
      "Epoch 12/20\n",
      "7565/7565 [==============================] - 12s 2ms/sample - loss: 0.0011 - accuracy: 0.9995 - val_loss: 0.1360 - val_accuracy: 0.9725\n",
      "Epoch 13/20\n",
      "7565/7565 [==============================] - 13s 2ms/sample - loss: 7.2996e-04 - accuracy: 0.9998 - val_loss: 0.1404 - val_accuracy: 0.9741\n",
      "Epoch 14/20\n",
      "7565/7565 [==============================] - 12s 2ms/sample - loss: 6.6904e-04 - accuracy: 0.9998 - val_loss: 0.1331 - val_accuracy: 0.9741\n",
      "Epoch 15/20\n",
      "7565/7565 [==============================] - 12s 2ms/sample - loss: 0.0015 - accuracy: 0.9995 - val_loss: 0.1468 - val_accuracy: 0.9716\n",
      "Epoch 16/20\n",
      "7565/7565 [==============================] - 13s 2ms/sample - loss: 0.0011 - accuracy: 0.9999 - val_loss: 0.1398 - val_accuracy: 0.9716\n",
      "Epoch 17/20\n",
      "7565/7565 [==============================] - 12s 2ms/sample - loss: 0.0021 - accuracy: 0.9992 - val_loss: 0.1566 - val_accuracy: 0.9729\n",
      "Epoch 18/20\n",
      "7565/7565 [==============================] - 12s 2ms/sample - loss: 3.3588e-04 - accuracy: 1.0000 - val_loss: 0.1480 - val_accuracy: 0.9741\n",
      "Epoch 19/20\n",
      "7565/7565 [==============================] - 13s 2ms/sample - loss: 7.4207e-04 - accuracy: 0.9997 - val_loss: 0.1525 - val_accuracy: 0.9725\n",
      "Epoch 20/20\n",
      "7565/7565 [==============================] - 12s 2ms/sample - loss: 0.0018 - accuracy: 0.9995 - val_loss: 0.1400 - val_accuracy: 0.9753\n"
     ]
    }
   ],
   "source": [
    "# Define the number of epochs\n",
    "EPOCHS = 20\n",
    "\n",
    "# Train the model for 10 epochs\n",
    "history = model.fit(\n",
    "    X_train, Y_train,\n",
    "    batch_size=64,\n",
    "    epochs=EPOCHS,\n",
    "    validation_data=(X_val, Y_val),\n",
    "    verbose=1\n",
    ")"
   ]
  },
  {
   "cell_type": "markdown",
   "metadata": {},
   "source": [
    "**Test Accuracy**"
   ]
  },
  {
   "cell_type": "code",
   "execution_count": 21,
   "metadata": {
    "execution": {
     "iopub.execute_input": "2024-05-21T16:16:52.818712Z",
     "iopub.status.busy": "2024-05-21T16:16:52.818381Z",
     "iopub.status.idle": "2024-05-21T16:16:53.893182Z",
     "shell.execute_reply": "2024-05-21T16:16:53.892249Z",
     "shell.execute_reply.started": "2024-05-21T16:16:52.818653Z"
    }
   },
   "outputs": [
    {
     "name": "stdout",
     "output_type": "stream",
     "text": [
      "1622/1622 [==============================] - 1s 485us/sample - loss: 0.1552 - accuracy: 0.9716\n",
      "Test Loss: 0.1552463576139883\n",
      "Test Accuracy: 0.9716399312019348\n"
     ]
    }
   ],
   "source": [
    "from sklearn.metrics import confusion_matrix, classification_report\n",
    "\n",
    "# Test the model\n",
    "test_loss, test_accuracy = model.evaluate(X_test, Y_test)\n",
    "print(f\"Test Loss: {test_loss}\")\n",
    "print(f\"Test Accuracy: {test_accuracy}\")"
   ]
  },
  {
   "cell_type": "markdown",
   "metadata": {},
   "source": [
    "**Plot**"
   ]
  },
  {
   "cell_type": "code",
   "execution_count": 22,
   "metadata": {
    "execution": {
     "iopub.execute_input": "2024-05-21T16:16:54.489445Z",
     "iopub.status.busy": "2024-05-21T16:16:54.489139Z",
     "iopub.status.idle": "2024-05-21T16:16:54.935322Z",
     "shell.execute_reply": "2024-05-21T16:16:54.934211Z",
     "shell.execute_reply.started": "2024-05-21T16:16:54.489394Z"
    }
   },
   "outputs": [
    {
     "data": {
      "image/png": "[encoded data removed]",
      "text/plain": [
       "<Figure size 432x288 with 1 Axes>"
      ]
     },
     "metadata": {
      "needs_background": "light"
     },
     "output_type": "display_data"
    },
    {
     "data": {
      "image/png": "[encoded data removed]",
      "text/plain": [
       "<Figure size 432x288 with 1 Axes>"
      ]
     },
     "metadata": {
      "needs_background": "light"
     },
     "output_type": "display_data"
    }
   ],
   "source": [
    "import matplotlib.pyplot as plt\n",
    "\n",
    "# Plot training & validation loss values\n",
    "plt.plot(history.history['loss'])\n",
    "plt.plot(history.history['val_loss'])\n",
    "plt.title('Model Loss')\n",
    "plt.ylabel('Loss')\n",
    "plt.xlabel('Epoch')\n",
    "plt.legend(['Train', 'Validation'], loc='upper left')\n",
    "plt.show()\n",
    "\n",
    "# Plot training & validation accuracy values\n",
    "plt.plot(history.history['accuracy'])\n",
    "plt.plot(history.history['val_accuracy'])\n",
    "plt.title('Model Accuracy')\n",
    "plt.ylabel('Accuracy')\n",
    "plt.xlabel('Epoch')\n",
    "plt.legend(['Train', 'Validation'], loc='upper left')\n",
    "plt.show()"
   ]
  },
  {
   "cell_type": "markdown",
   "metadata": {},
   "source": [
    "**Confusion matrix**"
   ]
  },
  {
   "cell_type": "code",
   "execution_count": 18,
   "metadata": {
    "execution": {
     "iopub.execute_input": "2024-05-21T16:08:05.194572Z",
     "iopub.status.busy": "2024-05-21T16:08:05.193891Z",
     "iopub.status.idle": "2024-05-21T16:08:06.588183Z",
     "shell.execute_reply": "2024-05-21T16:08:06.586318Z",
     "shell.execute_reply.started": "2024-05-21T16:08:05.194422Z"
    }
   },
   "outputs": [
    {
     "name": "stdout",
     "output_type": "stream",
     "text": [
      "Confusion Matrix:\n",
      "[[1278   16]\n",
      " [  32  296]]\n"
     ]
    }
   ],
   "source": [
    "# Predict classes for test data\n",
    "Y_pred = model.predict(X_test)\n",
    "Y_pred_classes = np.argmax(Y_pred, axis=1)\n",
    "Y_true = np.argmax(Y_test, axis=1)\n",
    "\n",
    "# Confusion Matrix\n",
    "conf_matrix = confusion_matrix(Y_true, Y_pred_classes)\n",
    "print(\"Confusion Matrix:\")\n",
    "print(conf_matrix)"
   ]
  },
  {
   "cell_type": "markdown",
   "metadata": {},
   "source": [
    "**Classification Report**"
   ]
  },
  {
   "cell_type": "code",
   "execution_count": 19,
   "metadata": {
    "execution": {
     "iopub.execute_input": "2024-05-21T16:08:06.591708Z",
     "iopub.status.busy": "2024-05-21T16:08:06.591357Z",
     "iopub.status.idle": "2024-05-21T16:08:06.602736Z",
     "shell.execute_reply": "2024-05-21T16:08:06.602001Z",
     "shell.execute_reply.started": "2024-05-21T16:08:06.591644Z"
    }
   },
   "outputs": [
    {
     "name": "stdout",
     "output_type": "stream",
     "text": [
      "Classification Report:\n",
      "              precision    recall  f1-score   support\n",
      "\n",
      "           0       0.98      0.99      0.98      1294\n",
      "           1       0.95      0.90      0.92       328\n",
      "\n",
      "    accuracy                           0.97      1622\n",
      "   macro avg       0.96      0.95      0.95      1622\n",
      "weighted avg       0.97      0.97      0.97      1622\n",
      "\n"
     ]
    }
   ],
   "source": [
    "# Classification Report\n",
    "class_report = classification_report(Y_true, Y_pred_classes)\n",
    "print(\"Classification Report:\")\n",
    "print(class_report)"
   ]
  },
  {
   "cell_type": "code",
   "execution_count": null,
   "metadata": {},
   "outputs": [],
   "source": []
  },
  {
   "cell_type": "code",
   "execution_count": null,
   "metadata": {},
   "outputs": [],
   "source": []
  }
 ],
 "metadata": {
  "kaggle": {
   "accelerator": "gpu",
   "dataSources": [
    {
     "databundleVersionId": 858837,
     "sourceId": 16880,
     "sourceType": "competition"
    },
    {
     "datasetId": 446509,
     "sourceId": 845111,
     "sourceType": "datasetVersion"
    }
   ],
   "dockerImageVersionId": 29845,
   "isGpuEnabled": true,
   "isInternetEnabled": true,
   "language": "python",
   "sourceType": "notebook"
  },
  "kernelspec": {
   "display_name": "Python 3 (ipykernel)",
   "language": "python",
   "name": "python3"
  },
  "language_info": {
   "codemirror_mode": {
    "name": "ipython",
    "version": 3
   },
   "file_extension": ".py",
   "mimetype": "text/x-python",
   "name": "python",
   "nbconvert_exporter": "python",
   "pygments_lexer": "ipython3",
   "version": "3.9.13"
  }
 },
 "nbformat": 4,
 "nbformat_minor": 4
}
