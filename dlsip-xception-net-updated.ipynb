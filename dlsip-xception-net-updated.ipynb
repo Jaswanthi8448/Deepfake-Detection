{
 "cells": [
  {
   "cell_type": "code",
   "execution_count": 1,
   "metadata": {
    "_cell_guid": "b1076dfc-b9ad-4769-8c92-a6c4dae69d19",
    "_uuid": "8f2839f25d086af736a60e9eeb907d3b93b6e0e5",
    "execution": {
     "iopub.execute_input": "2024-05-21T14:30:46.173676Z",
     "iopub.status.busy": "2024-05-21T14:30:46.173300Z",
     "iopub.status.idle": "2024-05-21T14:36:39.926822Z",
     "shell.execute_reply": "2024-05-21T14:36:39.925983Z",
     "shell.execute_reply.started": "2024-05-21T14:30:46.173604Z"
    }
   },
   "outputs": [
    {
     "name": "stdout",
     "output_type": "stream",
     "text": [
      "Processing /kaggle/input/dlibpkg/dlib-19.19.0\n",
      "Building wheels for collected packages: dlib\n",
      "  Building wheel for dlib (setup.py) ... \u001b[?25ldone\n",
      "\u001b[?25h  Created wheel for dlib: filename=dlib-19.19.0-cp36-cp36m-linux_x86_64.whl size=4086368 sha256=c1d0bbd2bf5fea8100426498f7b79494268b98ee01ccbc2a2816a4a2b42de0fb\n",
      "  Stored in directory: /root/.cache/pip/wheels/f3/da/18/38136f7dd8e242c1cc2236d574a50f34463b8c59aab887dd79\n",
      "Successfully built dlib\n",
      "Installing collected packages: dlib\n",
      "Successfully installed dlib-19.19.0\n"
     ]
    }
   ],
   "source": [
    "!pip install '/kaggle/input/dlibpkg/dlib-19.19.0'"
   ]
  },
  {
   "cell_type": "code",
   "execution_count": 2,
   "metadata": {
    "execution": {
     "iopub.execute_input": "2024-05-21T14:37:26.034474Z",
     "iopub.status.busy": "2024-05-21T14:37:26.034163Z",
     "iopub.status.idle": "2024-05-21T14:37:26.511314Z",
     "shell.execute_reply": "2024-05-21T14:37:26.510364Z",
     "shell.execute_reply.started": "2024-05-21T14:37:26.034430Z"
    }
   },
   "outputs": [],
   "source": [
    "import os\n",
    "import json\n",
    "import cv2\n",
    "import dlib\n",
    "import numpy as np\n",
    "import dlib\n",
    "import cv2\n",
    "import os\n",
    "import re\n",
    "import json\n",
    "from pylab import *\n",
    "from PIL import Image, ImageChops, ImageEnhance"
   ]
  },
  {
   "cell_type": "markdown",
   "metadata": {},
   "source": [
    "**Data Augementation**"
   ]
  },
  {
   "cell_type": "code",
   "execution_count": 3,
   "metadata": {
    "execution": {
     "iopub.execute_input": "2024-05-21T14:37:28.293013Z",
     "iopub.status.busy": "2024-05-21T14:37:28.292649Z",
     "iopub.status.idle": "2024-05-21T14:37:28.731886Z",
     "shell.execute_reply": "2024-05-21T14:37:28.731223Z",
     "shell.execute_reply.started": "2024-05-21T14:37:28.292951Z"
    }
   },
   "outputs": [],
   "source": [
    "train_frame_folder = '/kaggle/input/deepfake-detection-challenge/train_sample_videos'\n",
    "output_real_folder = '/kaggle/working/dataset/real'\n",
    "output_fake_folder = '/kaggle/working/dataset/fake'\n",
    "\n",
    "# Create directories if they do not exist\n",
    "os.makedirs(output_real_folder, exist_ok=True)\n",
    "os.makedirs(output_fake_folder, exist_ok=True)\n",
    "\n",
    "with open(os.path.join(train_frame_folder, 'metadata.json'), 'r') as file:\n",
    "    data = json.load(file)\n",
    "\n",
    "list_of_train_data = [f for f in os.listdir(train_frame_folder) if f.endswith('.mp4')]\n",
    "detector = dlib.get_frontal_face_detector()\n",
    "\n",
    "# Counters for frames and images\n",
    "original_real_count = 0\n",
    "original_fake_count = 0\n",
    "augmented_real_count = 0\n",
    "augmented_fake_count = 0"
   ]
  },
  {
   "cell_type": "code",
   "execution_count": 4,
   "metadata": {
    "execution": {
     "iopub.execute_input": "2024-05-21T14:37:33.491196Z",
     "iopub.status.busy": "2024-05-21T14:37:33.490879Z",
     "iopub.status.idle": "2024-05-21T15:55:47.407792Z",
     "shell.execute_reply": "2024-05-21T15:55:47.407061Z",
     "shell.execute_reply.started": "2024-05-21T14:37:33.491151Z"
    }
   },
   "outputs": [],
   "source": [
    "def augment_frame(frame):\n",
    "    # Example augmentations: flipping, rotation\n",
    "    augmented_frames = []\n",
    "    \n",
    "    # Original frame\n",
    "    augmented_frames.append(frame)\n",
    "    \n",
    "    # Horizontal flip\n",
    "    flip_frame = cv2.flip(frame, 1)\n",
    "    augmented_frames.append(flip_frame)\n",
    "    \n",
    "    # Shift by 15 pixels to the right\n",
    "    shift_M = np.float32([[1, 0, 15], [0, 1, 0]])\n",
    "    shift_frame = cv2.warpAffine(frame, shift_M, (frame.shape[1], frame.shape[0]))\n",
    "    augmented_frames.append(shift_frame)\n",
    "    \n",
    "    return augmented_frames\n",
    "\n",
    "for vid in list_of_train_data:\n",
    "    cap = cv2.VideoCapture(os.path.join(train_frame_folder, vid))\n",
    "    frameRate = cap.get(5)\n",
    "    while cap.isOpened():\n",
    "        frameId = cap.get(1)\n",
    "        ret, frame = cap.read()\n",
    "        if not ret:\n",
    "            break\n",
    "        if frameId % ((int(frameRate) + 1) * 1) == 0:\n",
    "            label = data[vid]['label']\n",
    "            if label == 'REAL':\n",
    "                original_real_count += 1\n",
    "            elif label == 'FAKE':\n",
    "                original_fake_count += 1\n",
    "\n",
    "            augmented_frames = augment_frame(frame)\n",
    "            for aug_idx, aug_frame in enumerate(augmented_frames):\n",
    "                face_rects, scores, idx = detector.run(aug_frame, 0)\n",
    "                for i, d in enumerate(face_rects):\n",
    "                    x1 = max(0, d.left())\n",
    "                    y1 = max(0, d.top())\n",
    "                    x2 = min(aug_frame.shape[1], d.right())\n",
    "                    y2 = min(aug_frame.shape[0], d.bottom())\n",
    "                    \n",
    "                    if x2 > x1 and y2 > y1:  # Ensure the rectangle is valid\n",
    "                        crop_img = aug_frame[y1:y2, x1:x2]\n",
    "                        if crop_img.size != 0:  # Ensure the cropped image is not empty\n",
    "                            resized_img = cv2.resize(crop_img, (128, 128))\n",
    "                            if label == 'REAL':\n",
    "                                augmented_real_count += 1\n",
    "                                output_path = os.path.join(output_real_folder, f\"{vid.split('.')[0]}_{str(int(frameId))}_aug_{aug_idx}.png\")\n",
    "                                cv2.imwrite(output_path, resized_img)\n",
    "                            elif label == 'FAKE':\n",
    "                                augmented_fake_count += 1\n",
    "                                output_path = os.path.join(output_fake_folder, f\"{vid.split('.')[0]}_{str(int(frameId))}_aug_{aug_idx}.png\")\n",
    "                                cv2.imwrite(output_path, resized_img)\n",
    "    cap.release()"
   ]
  },
  {
   "cell_type": "code",
   "execution_count": 5,
   "metadata": {
    "execution": {
     "iopub.execute_input": "2024-05-21T16:00:00.286618Z",
     "iopub.status.busy": "2024-05-21T16:00:00.286268Z",
     "iopub.status.idle": "2024-05-21T16:00:00.292090Z",
     "shell.execute_reply": "2024-05-21T16:00:00.290965Z",
     "shell.execute_reply.started": "2024-05-21T16:00:00.286568Z"
    }
   },
   "outputs": [
    {
     "name": "stdout",
     "output_type": "stream",
     "text": [
      "Number of original REAL frames: 770\n",
      "Number of original FAKE frames: 3230\n",
      "Number of augmented REAL frames: 2279\n",
      "Number of augmented FAKE frames: 8936\n"
     ]
    }
   ],
   "source": [
    "# Print the number of frames before and after augmenting\n",
    "print(f\"Number of original REAL frames: {original_real_count}\")\n",
    "print(f\"Number of original FAKE frames: {original_fake_count}\")\n",
    "print(f\"Number of augmented REAL frames: {augmented_real_count}\")\n",
    "print(f\"Number of augmented FAKE frames: {augmented_fake_count}\")"
   ]
  },
  {
   "cell_type": "markdown",
   "metadata": {},
   "source": []
  },
  {
   "cell_type": "code",
   "execution_count": 6,
   "metadata": {
    "execution": {
     "iopub.execute_input": "2024-05-21T16:00:02.793443Z",
     "iopub.status.busy": "2024-05-21T16:00:02.793084Z",
     "iopub.status.idle": "2024-05-21T16:00:08.626981Z",
     "shell.execute_reply": "2024-05-21T16:00:08.625975Z",
     "shell.execute_reply.started": "2024-05-21T16:00:02.793390Z"
    }
   },
   "outputs": [],
   "source": [
    "import os\n",
    "import cv2\n",
    "import json\n",
    "import tensorflow as tf\n",
    "import numpy as np\n",
    "import matplotlib.pyplot as plt\n",
    "import seaborn as sn\n",
    "import pandas as pd\n",
    "from tensorflow.keras.preprocessing.image import ImageDataGenerator, img_to_array, load_img\n",
    "from tensorflow.keras.utils import to_categorical\n",
    "from sklearn.model_selection import train_test_split\n",
    "from sklearn.metrics import confusion_matrix"
   ]
  },
  {
   "cell_type": "code",
   "execution_count": 7,
   "metadata": {
    "execution": {
     "iopub.execute_input": "2024-05-21T16:00:29.607034Z",
     "iopub.status.busy": "2024-05-21T16:00:29.606680Z",
     "iopub.status.idle": "2024-05-21T16:00:41.764868Z",
     "shell.execute_reply": "2024-05-21T16:00:41.764004Z",
     "shell.execute_reply.started": "2024-05-21T16:00:29.606983Z"
    }
   },
   "outputs": [
    {
     "name": "stderr",
     "output_type": "stream",
     "text": [
      "Using TensorFlow backend.\n"
     ]
    },
    {
     "name": "stdout",
     "output_type": "stream",
     "text": [
      "Number of training samples: 7565\n",
      "Number of validation samples: 1621\n",
      "Number of test samples: 1622\n"
     ]
    }
   ],
   "source": [
    "import os\n",
    "import numpy as np\n",
    "from keras.preprocessing.image import img_to_array, load_img\n",
    "from keras.utils import to_categorical\n",
    "from sklearn.model_selection import train_test_split\n",
    "\n",
    "input_shape = (128, 128, 3)\n",
    "data_dir = '/kaggle/working/dataset'\n",
    "\n",
    "real_data = [f for f in os.listdir(data_dir + '/real') if f.endswith('.png')]\n",
    "fake_data = [f for f in os.listdir(data_dir + '/fake') if f.endswith('.png')]\n",
    "\n",
    "X = []\n",
    "Y = []\n",
    "\n",
    "for img in real_data:\n",
    "    X.append(img_to_array(load_img(data_dir + '/real/' + img)).flatten() / 255.0)\n",
    "    Y.append(1)\n",
    "for img in fake_data:\n",
    "    X.append(img_to_array(load_img(data_dir + '/fake/' + img)).flatten() / 255.0)\n",
    "    Y.append(0)\n",
    "\n",
    "Y_val_org = Y\n",
    "\n",
    "# Normalization\n",
    "X = np.array(X)\n",
    "Y = to_categorical(Y, 2)\n",
    "\n",
    "# Reshape\n",
    "X = X.reshape(-1, 128, 128, 3)\n",
    "\n",
    "# Initial Train-Test split (80% train, 20% temp)\n",
    "X_train, X_temp, Y_train, Y_temp = train_test_split(X, Y, test_size=0.3, random_state=5)\n",
    "\n",
    "# Further split temp into validation and test (50% each from temp, resulting in 10% each from original dataset)\n",
    "X_val, X_test, Y_val, Y_test = train_test_split(X_temp, Y_temp, test_size=0.5, random_state=5)\n",
    "\n",
    "# Print dataset sizes to verify splits\n",
    "print(f\"Number of training samples: {len(X_train)}\")\n",
    "print(f\"Number of validation samples: {len(X_val)}\")\n",
    "print(f\"Number of test samples: {len(X_test)}\")"
   ]
  },
  {
   "cell_type": "markdown",
   "metadata": {},
   "source": [
    "**Training**"
   ]
  },
  {
   "cell_type": "code",
   "execution_count": 8,
   "metadata": {
    "execution": {
     "iopub.execute_input": "2024-05-21T16:01:09.434143Z",
     "iopub.status.busy": "2024-05-21T16:01:09.433844Z",
     "iopub.status.idle": "2024-05-21T16:01:15.888355Z",
     "shell.execute_reply": "2024-05-21T16:01:15.887413Z",
     "shell.execute_reply.started": "2024-05-21T16:01:09.434100Z"
    }
   },
   "outputs": [
    {
     "name": "stdout",
     "output_type": "stream",
     "text": [
      "Downloading data from https://github.com/fchollet/deep-learning-models/releases/download/v0.4/xception_weights_tf_dim_ordering_tf_kernels_notop.h5\n",
      "83689472/83683744 [==============================] - 0s 0us/step\n",
      "Model: \"sequential\"\n",
      "_________________________________________________________________\n",
      "Layer (type)                 Output Shape              Param #   \n",
      "=================================================================\n",
      "xception (Model)             (None, 4, 4, 2048)        20861480  \n",
      "_________________________________________________________________\n",
      "global_average_pooling2d (Gl (None, 2048)              0         \n",
      "_________________________________________________________________\n",
      "dense (Dense)                (None, 512)               1049088   \n",
      "_________________________________________________________________\n",
      "dropout (Dropout)            (None, 512)               0         \n",
      "_________________________________________________________________\n",
      "dense_1 (Dense)              (None, 256)               131328    \n",
      "_________________________________________________________________\n",
      "dense_2 (Dense)              (None, 128)               32896     \n",
      "_________________________________________________________________\n",
      "dense_3 (Dense)              (None, 64)                8256      \n",
      "_________________________________________________________________\n",
      "dense_4 (Dense)              (None, 2)                 130       \n",
      "=================================================================\n",
      "Total params: 22,083,178\n",
      "Trainable params: 22,028,650\n",
      "Non-trainable params: 54,528\n",
      "_________________________________________________________________\n"
     ]
    }
   ],
   "source": [
    "from tensorflow.keras.applications import Xception\n",
    "from tensorflow.keras.layers import GlobalAveragePooling2D, Dense, Dropout\n",
    "from tensorflow.keras.models import Sequential\n",
    "from tensorflow.keras import optimizers\n",
    "\n",
    "# Define input shape\n",
    "input_shape = (128, 128, 3)\n",
    "\n",
    "# Load the Xception model\n",
    "xception_net = Xception(include_top=False, weights='imagenet', input_shape=input_shape)\n",
    "xception_net.trainable = True\n",
    "\n",
    "# Create a Sequential model and add the Xception model\n",
    "model = Sequential()\n",
    "model.add(xception_net)\n",
    "model.add(GlobalAveragePooling2D())\n",
    "\n",
    "# Add four dense layers\n",
    "model.add(Dense(units=512, activation='relu'))\n",
    "model.add(Dropout(0.5))  # Dropout layer added here\n",
    "model.add(Dense(units=256, activation='relu'))\n",
    "model.add(Dense(units=128, activation='relu'))\n",
    "model.add(Dense(units=64, activation='relu'))\n",
    "\n",
    "# Add the final output layer\n",
    "model.add(Dense(units=2, activation='sigmoid'))\n",
    "\n",
    "# Compile the model\n",
    "model.compile(\n",
    "    loss='binary_crossentropy',\n",
    "    optimizer=optimizers.Adam(learning_rate=1e-5, beta_1=0.9, beta_2=0.999, epsilon=None, decay=0.0, amsgrad=False),\n",
    "    metrics=['accuracy']\n",
    ")\n",
    "\n",
    "# Print the model summary\n",
    "model.summary()"
   ]
  },
  {
   "cell_type": "code",
   "execution_count": 9,
   "metadata": {
    "execution": {
     "iopub.execute_input": "2024-05-21T16:01:28.381614Z",
     "iopub.status.busy": "2024-05-21T16:01:28.381271Z",
     "iopub.status.idle": "2024-05-21T16:10:57.421443Z",
     "shell.execute_reply": "2024-05-21T16:10:57.420657Z",
     "shell.execute_reply.started": "2024-05-21T16:01:28.381563Z"
    }
   },
   "outputs": [
    {
     "name": "stdout",
     "output_type": "stream",
     "text": [
      "Train on 7565 samples, validate on 1621 samples\n",
      "Epoch 1/20\n",
      "7565/7565 [==============================] - 38s 5ms/sample - loss: 0.5762 - accuracy: 0.7902 - val_loss: 0.4941 - val_accuracy: 0.7853\n",
      "Epoch 2/20\n",
      "7565/7565 [==============================] - 28s 4ms/sample - loss: 0.3605 - accuracy: 0.8020 - val_loss: 0.3949 - val_accuracy: 0.7853\n",
      "Epoch 3/20\n",
      "7565/7565 [==============================] - 28s 4ms/sample - loss: 0.2584 - accuracy: 0.8020 - val_loss: 0.3173 - val_accuracy: 0.7853\n",
      "Epoch 4/20\n",
      "7565/7565 [==============================] - 28s 4ms/sample - loss: 0.2088 - accuracy: 0.8023 - val_loss: 0.2720 - val_accuracy: 0.7869\n",
      "Epoch 5/20\n",
      "7565/7565 [==============================] - 28s 4ms/sample - loss: 0.1822 - accuracy: 0.8139 - val_loss: 0.2531 - val_accuracy: 0.8060\n",
      "Epoch 6/20\n",
      "7565/7565 [==============================] - 28s 4ms/sample - loss: 0.1650 - accuracy: 0.8482 - val_loss: 0.2594 - val_accuracy: 0.8331\n",
      "Epoch 7/20\n",
      "7565/7565 [==============================] - 28s 4ms/sample - loss: 0.1538 - accuracy: 0.8999 - val_loss: 0.2526 - val_accuracy: 0.8732\n",
      "Epoch 8/20\n",
      "7565/7565 [==============================] - 28s 4ms/sample - loss: 0.1468 - accuracy: 0.9406 - val_loss: 0.2587 - val_accuracy: 0.8890\n",
      "Epoch 9/20\n",
      "7565/7565 [==============================] - 28s 4ms/sample - loss: 0.1417 - accuracy: 0.9722 - val_loss: 0.2566 - val_accuracy: 0.9053\n",
      "Epoch 10/20\n",
      "7565/7565 [==============================] - 28s 4ms/sample - loss: 0.1368 - accuracy: 0.9815 - val_loss: 0.2542 - val_accuracy: 0.9167\n",
      "Epoch 11/20\n",
      "7565/7565 [==============================] - 28s 4ms/sample - loss: 0.1334 - accuracy: 0.9891 - val_loss: 0.2482 - val_accuracy: 0.9300\n",
      "Epoch 12/20\n",
      "7565/7565 [==============================] - 28s 4ms/sample - loss: 0.1286 - accuracy: 0.9946 - val_loss: 0.2503 - val_accuracy: 0.9324\n",
      "Epoch 13/20\n",
      "7565/7565 [==============================] - 28s 4ms/sample - loss: 0.1243 - accuracy: 0.9967 - val_loss: 0.2547 - val_accuracy: 0.9355\n",
      "Epoch 14/20\n",
      "7565/7565 [==============================] - 28s 4ms/sample - loss: 0.1188 - accuracy: 0.9978 - val_loss: 0.2438 - val_accuracy: 0.9386\n",
      "Epoch 15/20\n",
      "7565/7565 [==============================] - 28s 4ms/sample - loss: 0.1113 - accuracy: 0.9985 - val_loss: 0.2410 - val_accuracy: 0.9448\n",
      "Epoch 16/20\n",
      "7565/7565 [==============================] - 28s 4ms/sample - loss: 0.0989 - accuracy: 0.9995 - val_loss: 0.2429 - val_accuracy: 0.9479\n",
      "Epoch 17/20\n",
      "7565/7565 [==============================] - 28s 4ms/sample - loss: 0.0652 - accuracy: 0.9997 - val_loss: 0.1922 - val_accuracy: 0.9528\n",
      "Epoch 18/20\n",
      "7565/7565 [==============================] - 28s 4ms/sample - loss: 0.0252 - accuracy: 0.9995 - val_loss: 0.2257 - val_accuracy: 0.9525\n",
      "Epoch 19/20\n",
      "7565/7565 [==============================] - 28s 4ms/sample - loss: 0.0115 - accuracy: 0.9981 - val_loss: 0.2207 - val_accuracy: 0.9531\n",
      "Epoch 20/20\n",
      "7565/7565 [==============================] - 28s 4ms/sample - loss: 0.0081 - accuracy: 0.9983 - val_loss: 0.2341 - val_accuracy: 0.9519\n"
     ]
    }
   ],
   "source": [
    "\n",
    "# Define the number of epochs\n",
    "EPOCHS = 20\n",
    "\n",
    "# Train the model\n",
    "history = model.fit(\n",
    "    X_train, Y_train,\n",
    "    batch_size=64,\n",
    "    epochs=EPOCHS,\n",
    "    validation_data=(X_val, Y_val),\n",
    "    verbose=1\n",
    ")\n"
   ]
  },
  {
   "cell_type": "code",
   "execution_count": 10,
   "metadata": {
    "execution": {
     "iopub.execute_input": "2024-05-21T16:11:46.053028Z",
     "iopub.status.busy": "2024-05-21T16:11:46.052613Z",
     "iopub.status.idle": "2024-05-21T16:11:48.276413Z",
     "shell.execute_reply": "2024-05-21T16:11:48.275565Z",
     "shell.execute_reply.started": "2024-05-21T16:11:46.052971Z"
    }
   },
   "outputs": [
    {
     "name": "stdout",
     "output_type": "stream",
     "text": [
      "1622/1622 [==============================] - 2s 1ms/sample - loss: 0.1989 - accuracy: 0.9531\n",
      "Test Loss: 0.1989128818579303\n",
      "Test Accuracy: 0.9531442523002625\n"
     ]
    }
   ],
   "source": [
    "from sklearn.metrics import confusion_matrix, classification_report\n",
    "\n",
    "# Test the model\n",
    "test_loss, test_accuracy = model.evaluate(X_test, Y_test)\n",
    "print(f\"Test Loss: {test_loss}\")\n",
    "print(f\"Test Accuracy: {test_accuracy}\")"
   ]
  },
  {
   "cell_type": "code",
   "execution_count": 11,
   "metadata": {
    "execution": {
     "iopub.execute_input": "2024-05-21T16:11:51.714311Z",
     "iopub.status.busy": "2024-05-21T16:11:51.713939Z",
     "iopub.status.idle": "2024-05-21T16:11:52.335911Z",
     "shell.execute_reply": "2024-05-21T16:11:52.334449Z",
     "shell.execute_reply.started": "2024-05-21T16:11:51.714247Z"
    }
   },
   "outputs": [
    {
     "data": {
      "image/png": "[encoded data removed]",
      "text/plain": [
       "<Figure size 432x288 with 1 Axes>"
      ]
     },
     "metadata": {
      "needs_background": "light"
     },
     "output_type": "display_data"
    },
    {
     "data": {
      "image/png": "[encoded data removed]",
      "text/plain": [
       "<Figure size 432x288 with 1 Axes>"
      ]
     },
     "metadata": {
      "needs_background": "light"
     },
     "output_type": "display_data"
    }
   ],
   "source": [
    "import matplotlib.pyplot as plt\n",
    "\n",
    "# Plot training & validation loss values\n",
    "plt.plot(history.history['loss'])\n",
    "plt.plot(history.history['val_loss'])\n",
    "plt.title('Model Loss')\n",
    "plt.ylabel('Loss')\n",
    "plt.xlabel('Epoch')\n",
    "plt.legend(['Train', 'Validation'], loc='upper left')\n",
    "plt.show()\n",
    "\n",
    "# Plot training & validation accuracy values\n",
    "plt.plot(history.history['accuracy'])\n",
    "plt.plot(history.history['val_accuracy'])\n",
    "plt.title('Model Accuracy')\n",
    "plt.ylabel('Accuracy')\n",
    "plt.xlabel('Epoch')\n",
    "plt.legend(['Train', 'Validation'], loc='upper left')\n",
    "plt.show()"
   ]
  },
  {
   "cell_type": "code",
   "execution_count": 12,
   "metadata": {
    "execution": {
     "iopub.execute_input": "2024-05-21T16:12:09.685013Z",
     "iopub.status.busy": "2024-05-21T16:12:09.684661Z",
     "iopub.status.idle": "2024-05-21T16:12:12.323232Z",
     "shell.execute_reply": "2024-05-21T16:12:12.322440Z",
     "shell.execute_reply.started": "2024-05-21T16:12:09.684960Z"
    }
   },
   "outputs": [
    {
     "name": "stdout",
     "output_type": "stream",
     "text": [
      "Confusion Matrix:\n",
      "[[1256   38]\n",
      " [  36  292]]\n"
     ]
    }
   ],
   "source": [
    "# Predict classes for test data\n",
    "Y_pred = model.predict(X_test)\n",
    "Y_pred_classes = np.argmax(Y_pred, axis=1)\n",
    "Y_true = np.argmax(Y_test, axis=1)\n",
    "\n",
    "# Confusion Matrix\n",
    "conf_matrix = confusion_matrix(Y_true, Y_pred_classes)\n",
    "print(\"Confusion Matrix:\")\n",
    "print(conf_matrix)"
   ]
  },
  {
   "cell_type": "code",
   "execution_count": 13,
   "metadata": {
    "execution": {
     "iopub.execute_input": "2024-05-21T16:12:15.521676Z",
     "iopub.status.busy": "2024-05-21T16:12:15.521377Z",
     "iopub.status.idle": "2024-05-21T16:12:15.534631Z",
     "shell.execute_reply": "2024-05-21T16:12:15.533802Z",
     "shell.execute_reply.started": "2024-05-21T16:12:15.521634Z"
    }
   },
   "outputs": [
    {
     "name": "stdout",
     "output_type": "stream",
     "text": [
      "Classification Report:\n",
      "              precision    recall  f1-score   support\n",
      "\n",
      "           0       0.97      0.97      0.97      1294\n",
      "           1       0.88      0.89      0.89       328\n",
      "\n",
      "    accuracy                           0.95      1622\n",
      "   macro avg       0.93      0.93      0.93      1622\n",
      "weighted avg       0.95      0.95      0.95      1622\n",
      "\n"
     ]
    }
   ],
   "source": [
    "# Classification Report\n",
    "class_report = classification_report(Y_true, Y_pred_classes)\n",
    "print(\"Classification Report:\")\n",
    "print(class_report)"
   ]
  },
  {
   "cell_type": "code",
   "execution_count": null,
   "metadata": {},
   "outputs": [],
   "source": []
  }
 ],
 "metadata": {
  "kaggle": {
   "accelerator": "gpu",
   "dataSources": [
    {
     "databundleVersionId": 858837,
     "sourceId": 16880,
     "sourceType": "competition"
    },
    {
     "datasetId": 446509,
     "sourceId": 845111,
     "sourceType": "datasetVersion"
    }
   ],
   "dockerImageVersionId": 29845,
   "isGpuEnabled": true,
   "isInternetEnabled": true,
   "language": "python",
   "sourceType": "notebook"
  },
  "kernelspec": {
   "display_name": "Python 3 (ipykernel)",
   "language": "python",
   "name": "python3"
  },
  "language_info": {
   "codemirror_mode": {
    "name": "ipython",
    "version": 3
   },
   "file_extension": ".py",
   "mimetype": "text/x-python",
   "name": "python",
   "nbconvert_exporter": "python",
   "pygments_lexer": "ipython3",
   "version": "3.9.13"
  }
 },
 "nbformat": 4,
 "nbformat_minor": 4
}
