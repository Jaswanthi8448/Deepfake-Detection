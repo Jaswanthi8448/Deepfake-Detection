{
 "cells": [
  {
   "cell_type": "code",
   "execution_count": 1,
   "metadata": {
    "_cell_guid": "b1076dfc-b9ad-4769-8c92-a6c4dae69d19",
    "_uuid": "8f2839f25d086af736a60e9eeb907d3b93b6e0e5",
    "execution": {
     "iopub.execute_input": "2024-05-21T06:33:30.466896Z",
     "iopub.status.busy": "2024-05-21T06:33:30.466418Z",
     "iopub.status.idle": "2024-05-21T06:39:43.796652Z",
     "shell.execute_reply": "2024-05-21T06:39:43.795403Z",
     "shell.execute_reply.started": "2024-05-21T06:33:30.466833Z"
    }
   },
   "outputs": [
    {
     "name": "stdout",
     "output_type": "stream",
     "text": [
      "Processing /kaggle/input/dlibpkg/dlib-19.19.0\n",
      "Building wheels for collected packages: dlib\n",
      "  Building wheel for dlib (setup.py) ... \u001b[?25ldone\n",
      "\u001b[?25h  Created wheel for dlib: filename=dlib-19.19.0-cp36-cp36m-linux_x86_64.whl size=3872026 sha256=a685f3f84541e0eca94a0fb8ff9a23c3a5eeec5312bc32fc4300f2eddae88e21\n",
      "  Stored in directory: /root/.cache/pip/wheels/f3/da/18/38136f7dd8e242c1cc2236d574a50f34463b8c59aab887dd79\n",
      "Successfully built dlib\n",
      "Installing collected packages: dlib\n",
      "Successfully installed dlib-19.19.0\n"
     ]
    }
   ],
   "source": [
    "!pip install '/kaggle/input/dlibpkg/dlib-19.19.0'"
   ]
  },
  {
   "cell_type": "code",
   "execution_count": 2,
   "metadata": {
    "execution": {
     "iopub.execute_input": "2024-05-21T06:39:43.799368Z",
     "iopub.status.busy": "2024-05-21T06:39:43.799018Z",
     "iopub.status.idle": "2024-05-21T06:39:44.061679Z",
     "shell.execute_reply": "2024-05-21T06:39:44.060651Z",
     "shell.execute_reply.started": "2024-05-21T06:39:43.799305Z"
    }
   },
   "outputs": [],
   "source": [
    "import os\n",
    "import json\n",
    "import cv2\n",
    "import dlib\n",
    "import numpy as np\n",
    "import dlib\n",
    "import cv2\n",
    "import os\n",
    "import re\n",
    "import json\n",
    "from pylab import *\n",
    "from PIL import Image, ImageChops, ImageEnhance"
   ]
  },
  {
   "cell_type": "markdown",
   "metadata": {},
   "source": [
    "**Data Augementation**"
   ]
  },
  {
   "cell_type": "code",
   "execution_count": 3,
   "metadata": {
    "execution": {
     "iopub.execute_input": "2024-05-21T06:39:44.063347Z",
     "iopub.status.busy": "2024-05-21T06:39:44.063039Z",
     "iopub.status.idle": "2024-05-21T06:39:44.672146Z",
     "shell.execute_reply": "2024-05-21T06:39:44.671101Z",
     "shell.execute_reply.started": "2024-05-21T06:39:44.063305Z"
    }
   },
   "outputs": [],
   "source": [
    "train_frame_folder = '/kaggle/input/deepfake-detection-challenge/train_sample_videos'\n",
    "output_real_folder = '/kaggle/working/dataset/real'\n",
    "output_fake_folder = '/kaggle/working/dataset/fake'\n",
    "\n",
    "# Create directories if they do not exist\n",
    "os.makedirs(output_real_folder, exist_ok=True)\n",
    "os.makedirs(output_fake_folder, exist_ok=True)\n",
    "\n",
    "with open(os.path.join(train_frame_folder, 'metadata.json'), 'r') as file:\n",
    "    data = json.load(file)\n",
    "\n",
    "list_of_train_data = [f for f in os.listdir(train_frame_folder) if f.endswith('.mp4')]\n",
    "detector = dlib.get_frontal_face_detector()\n",
    "\n",
    "# Counters for frames and images\n",
    "original_real_count = 0\n",
    "original_fake_count = 0\n",
    "augmented_real_count = 0\n",
    "augmented_fake_count = 0"
   ]
  },
  {
   "cell_type": "code",
   "execution_count": 4,
   "metadata": {
    "execution": {
     "iopub.execute_input": "2024-05-21T06:39:44.674209Z",
     "iopub.status.busy": "2024-05-21T06:39:44.673815Z",
     "iopub.status.idle": "2024-05-21T08:04:36.916999Z",
     "shell.execute_reply": "2024-05-21T08:04:36.914541Z",
     "shell.execute_reply.started": "2024-05-21T06:39:44.674124Z"
    }
   },
   "outputs": [],
   "source": [
    "def augment_frame(frame):\n",
    "    # Example augmentations: flipping, rotation\n",
    "    augmented_frames = []\n",
    "    \n",
    "    # Original frame\n",
    "    augmented_frames.append(frame)\n",
    "    \n",
    "    # Horizontal flip\n",
    "    flip_frame = cv2.flip(frame, 1)\n",
    "    augmented_frames.append(flip_frame)\n",
    "    \n",
    "    # Shift by 15 pixels to the right\n",
    "    shift_M = np.float32([[1, 0, 15], [0, 1, 0]])\n",
    "    shift_frame = cv2.warpAffine(frame, shift_M, (frame.shape[1], frame.shape[0]))\n",
    "    augmented_frames.append(shift_frame)\n",
    "    \n",
    "    return augmented_frames\n",
    "\n",
    "for vid in list_of_train_data:\n",
    "    cap = cv2.VideoCapture(os.path.join(train_frame_folder, vid))\n",
    "    frameRate = cap.get(5)\n",
    "    while cap.isOpened():\n",
    "        frameId = cap.get(1)\n",
    "        ret, frame = cap.read()\n",
    "        if not ret:\n",
    "            break\n",
    "        if frameId % ((int(frameRate) + 1) * 1) == 0:\n",
    "            label = data[vid]['label']\n",
    "            if label == 'REAL':\n",
    "                original_real_count += 1\n",
    "            elif label == 'FAKE':\n",
    "                original_fake_count += 1\n",
    "\n",
    "            augmented_frames = augment_frame(frame)\n",
    "            for aug_idx, aug_frame in enumerate(augmented_frames):\n",
    "                face_rects, scores, idx = detector.run(aug_frame, 0)\n",
    "                for i, d in enumerate(face_rects):\n",
    "                    x1 = max(0, d.left())\n",
    "                    y1 = max(0, d.top())\n",
    "                    x2 = min(aug_frame.shape[1], d.right())\n",
    "                    y2 = min(aug_frame.shape[0], d.bottom())\n",
    "                    \n",
    "                    if x2 > x1 and y2 > y1:  # Ensure the rectangle is valid\n",
    "                        crop_img = aug_frame[y1:y2, x1:x2]\n",
    "                        if crop_img.size != 0:  # Ensure the cropped image is not empty\n",
    "                            resized_img = cv2.resize(crop_img, (128, 128))\n",
    "                            if label == 'REAL':\n",
    "                                augmented_real_count += 1\n",
    "                                output_path = os.path.join(output_real_folder, f\"{vid.split('.')[0]}_{str(int(frameId))}_aug_{aug_idx}.png\")\n",
    "                                cv2.imwrite(output_path, resized_img)\n",
    "                            elif label == 'FAKE':\n",
    "                                augmented_fake_count += 1\n",
    "                                output_path = os.path.join(output_fake_folder, f\"{vid.split('.')[0]}_{str(int(frameId))}_aug_{aug_idx}.png\")\n",
    "                                cv2.imwrite(output_path, resized_img)\n",
    "    cap.release()"
   ]
  },
  {
   "cell_type": "code",
   "execution_count": 16,
   "metadata": {
    "execution": {
     "iopub.execute_input": "2024-05-21T08:18:02.781264Z",
     "iopub.status.busy": "2024-05-21T08:18:02.780849Z",
     "iopub.status.idle": "2024-05-21T08:18:02.787483Z",
     "shell.execute_reply": "2024-05-21T08:18:02.786310Z",
     "shell.execute_reply.started": "2024-05-21T08:18:02.781180Z"
    }
   },
   "outputs": [
    {
     "name": "stdout",
     "output_type": "stream",
     "text": [
      "Number of original REAL frames: 770\n",
      "Number of original FAKE frames: 3230\n",
      "Number of augmented REAL frames: 2279\n",
      "Number of augmented FAKE frames: 8936\n"
     ]
    }
   ],
   "source": [
    "# Print the number of frames before and after augmenting\n",
    "print(f\"Number of original REAL frames: {original_real_count}\")\n",
    "print(f\"Number of original FAKE frames: {original_fake_count}\")\n",
    "print(f\"Number of augmented REAL frames: {augmented_real_count}\")\n",
    "print(f\"Number of augmented FAKE frames: {augmented_fake_count}\")"
   ]
  },
  {
   "cell_type": "markdown",
   "metadata": {},
   "source": [
    "**Train-test-split**"
   ]
  },
  {
   "cell_type": "code",
   "execution_count": 17,
   "metadata": {
    "execution": {
     "iopub.execute_input": "2024-05-21T08:18:04.857959Z",
     "iopub.status.busy": "2024-05-21T08:18:04.857615Z",
     "iopub.status.idle": "2024-05-21T08:18:04.864011Z",
     "shell.execute_reply": "2024-05-21T08:18:04.862948Z",
     "shell.execute_reply.started": "2024-05-21T08:18:04.857908Z"
    }
   },
   "outputs": [],
   "source": [
    "import os\n",
    "import cv2\n",
    "import json\n",
    "import tensorflow as tf\n",
    "import numpy as np\n",
    "import matplotlib.pyplot as plt\n",
    "import seaborn as sn\n",
    "import pandas as pd\n",
    "from tensorflow.keras.preprocessing.image import ImageDataGenerator, img_to_array, load_img\n",
    "from tensorflow.keras.utils import to_categorical\n",
    "from sklearn.model_selection import train_test_split\n",
    "from sklearn.metrics import confusion_matrix"
   ]
  },
  {
   "cell_type": "code",
   "execution_count": 18,
   "metadata": {
    "execution": {
     "iopub.execute_input": "2024-05-21T08:18:05.948712Z",
     "iopub.status.busy": "2024-05-21T08:18:05.948115Z",
     "iopub.status.idle": "2024-05-21T08:18:18.983430Z",
     "shell.execute_reply": "2024-05-21T08:18:18.982069Z",
     "shell.execute_reply.started": "2024-05-21T08:18:05.948627Z"
    }
   },
   "outputs": [
    {
     "name": "stdout",
     "output_type": "stream",
     "text": [
      "Number of training samples: 7565\n",
      "Number of validation samples: 1621\n",
      "Number of test samples: 1622\n"
     ]
    }
   ],
   "source": [
    "import os\n",
    "import numpy as np\n",
    "from keras.preprocessing.image import img_to_array, load_img\n",
    "from keras.utils import to_categorical\n",
    "from sklearn.model_selection import train_test_split\n",
    "\n",
    "input_shape = (128, 128, 3)\n",
    "data_dir = '/kaggle/working/dataset'\n",
    "\n",
    "real_data = [f for f in os.listdir(data_dir + '/real') if f.endswith('.png')]\n",
    "fake_data = [f for f in os.listdir(data_dir + '/fake') if f.endswith('.png')]\n",
    "\n",
    "X = []\n",
    "Y = []\n",
    "\n",
    "for img in real_data:\n",
    "    X.append(img_to_array(load_img(data_dir + '/real/' + img)).flatten() / 255.0)\n",
    "    Y.append(1)\n",
    "for img in fake_data:\n",
    "    X.append(img_to_array(load_img(data_dir + '/fake/' + img)).flatten() / 255.0)\n",
    "    Y.append(0)\n",
    "\n",
    "Y_val_org = Y\n",
    "\n",
    "# Normalization\n",
    "X = np.array(X)\n",
    "Y = to_categorical(Y, 2)\n",
    "\n",
    "# Reshape\n",
    "X = X.reshape(-1, 128, 128, 3)\n",
    "\n",
    "# Initial Train-Test split (80% train, 20% temp)\n",
    "X_train, X_temp, Y_train, Y_temp = train_test_split(X, Y, test_size=0.3, random_state=5)\n",
    "\n",
    "# Further split temp into validation and test (50% each from temp, resulting in 10% each from original dataset)\n",
    "X_val, X_test, Y_val, Y_test = train_test_split(X_temp, Y_temp, test_size=0.5, random_state=5)\n",
    "\n",
    "# Print dataset sizes to verify splits\n",
    "print(f\"Number of training samples: {len(X_train)}\")\n",
    "print(f\"Number of validation samples: {len(X_val)}\")\n",
    "print(f\"Number of test samples: {len(X_test)}\")"
   ]
  },
  {
   "cell_type": "markdown",
   "metadata": {},
   "source": [
    "**Training**"
   ]
  },
  {
   "cell_type": "code",
   "execution_count": 19,
   "metadata": {
    "execution": {
     "iopub.execute_input": "2024-05-21T08:18:27.964426Z",
     "iopub.status.busy": "2024-05-21T08:18:27.964044Z",
     "iopub.status.idle": "2024-05-21T08:18:27.971466Z",
     "shell.execute_reply": "2024-05-21T08:18:27.970572Z",
     "shell.execute_reply.started": "2024-05-21T08:18:27.964366Z"
    }
   },
   "outputs": [],
   "source": [
    "from tensorflow.keras.applications import InceptionResNetV2\n",
    "from tensorflow.keras.layers import Conv2D\n",
    "from tensorflow.keras.layers import MaxPooling2D\n",
    "from tensorflow.keras.layers import Flatten\n",
    "from tensorflow.keras.layers import Dense\n",
    "from tensorflow.keras.layers import Dropout\n",
    "from tensorflow.keras.layers import InputLayer\n",
    "from tensorflow.keras.layers import GlobalAveragePooling2D\n",
    "from tensorflow.keras.models import Sequential\n",
    "from tensorflow.keras.models import Model\n",
    "from tensorflow.keras import optimizers\n",
    "from tensorflow.keras.callbacks import ReduceLROnPlateau, EarlyStopping"
   ]
  },
  {
   "cell_type": "code",
   "execution_count": 22,
   "metadata": {
    "execution": {
     "iopub.execute_input": "2024-05-21T09:16:24.278401Z",
     "iopub.status.busy": "2024-05-21T09:16:24.277956Z",
     "iopub.status.idle": "2024-05-21T09:16:43.733672Z",
     "shell.execute_reply": "2024-05-21T09:16:43.732744Z",
     "shell.execute_reply.started": "2024-05-21T09:16:24.278330Z"
    }
   },
   "outputs": [
    {
     "name": "stdout",
     "output_type": "stream",
     "text": [
      "Model: \"sequential_2\"\n",
      "_________________________________________________________________\n",
      "Layer (type)                 Output Shape              Param #   \n",
      "=================================================================\n",
      "inception_resnet_v2 (Model)  (None, 2, 2, 1536)        54336736  \n",
      "_________________________________________________________________\n",
      "global_average_pooling2d_2 ( (None, 1536)              0         \n",
      "_________________________________________________________________\n",
      "dense_10 (Dense)             (None, 512)               786944    \n",
      "_________________________________________________________________\n",
      "dense_11 (Dense)             (None, 256)               131328    \n",
      "_________________________________________________________________\n",
      "dropout_2 (Dropout)          (None, 256)               0         \n",
      "_________________________________________________________________\n",
      "dense_12 (Dense)             (None, 128)               32896     \n",
      "_________________________________________________________________\n",
      "dense_13 (Dense)             (None, 64)                8256      \n",
      "_________________________________________________________________\n",
      "dense_14 (Dense)             (None, 2)                 130       \n",
      "=================================================================\n",
      "Total params: 55,296,290\n",
      "Trainable params: 55,235,746\n",
      "Non-trainable params: 60,544\n",
      "_________________________________________________________________\n"
     ]
    }
   ],
   "source": [
    "# Load the InceptionResNetV2 model\n",
    "inception_resnet = InceptionResNetV2(include_top=False, weights='imagenet', input_shape=input_shape)\n",
    "inception_resnet.trainable = True\n",
    "\n",
    "# Create a Sequential model and add the InceptionResNetV2 model\n",
    "model = Sequential()\n",
    "model.add(inception_resnet)\n",
    "model.add(GlobalAveragePooling2D())\n",
    "\n",
    "# Add four Dense layers\n",
    "model.add(Dense(units=512, activation='relu'))\n",
    "model.add(Dense(units=256, activation='relu'))\n",
    "model.add(Dropout(rate=0.5))  # Adjust the dropout rate as needed\n",
    "model.add(Dense(units=128, activation='relu'))\n",
    "model.add(Dense(units=64, activation='relu'))\n",
    "# Add the final Dense layer with 2 units for binary classification\n",
    "model.add(Dense(units=2, activation='sigmoid'))\n",
    "\n",
    "\n",
    "# Compile the model\n",
    "model.compile(\n",
    "    loss='binary_crossentropy',\n",
    "    optimizer=optimizers.Adam(lr=1e-5, beta_1=0.9, beta_2=0.999, epsilon=None, decay=0.0, amsgrad=False),\n",
    "    metrics=['accuracy']\n",
    ")\n",
    "\n",
    "# Print the model summary\n",
    "model.summary()"
   ]
  },
  {
   "cell_type": "code",
   "execution_count": 23,
   "metadata": {
    "execution": {
     "iopub.execute_input": "2024-05-21T09:16:43.736658Z",
     "iopub.status.busy": "2024-05-21T09:16:43.736282Z",
     "iopub.status.idle": "2024-05-21T15:52:14.993741Z",
     "shell.execute_reply": "2024-05-21T15:52:14.990432Z",
     "shell.execute_reply.started": "2024-05-21T09:16:43.736599Z"
    }
   },
   "outputs": [
    {
     "name": "stdout",
     "output_type": "stream",
     "text": [
      "Train on 7565 samples, validate on 1621 samples\n",
      "Epoch 1/20\n",
      "7565/7565 [==============================] - 1195s 158ms/sample - loss: 0.5651 - accuracy: 0.7711 - val_loss: 0.5316 - val_accuracy: 0.7853\n",
      "Epoch 2/20\n",
      "7565/7565 [==============================] - 1176s 156ms/sample - loss: 0.3740 - accuracy: 0.8020 - val_loss: 0.3685 - val_accuracy: 0.7853\n",
      "Epoch 3/20\n",
      "7565/7565 [==============================] - 1204s 159ms/sample - loss: 0.2682 - accuracy: 0.8021 - val_loss: 0.2823 - val_accuracy: 0.7853\n",
      "Epoch 4/20\n",
      "7565/7565 [==============================] - 1201s 159ms/sample - loss: 0.2161 - accuracy: 0.8144 - val_loss: 0.2506 - val_accuracy: 0.8143\n",
      "Epoch 5/20\n",
      "7565/7565 [==============================] - 1193s 158ms/sample - loss: 0.1972 - accuracy: 0.8815 - val_loss: 0.2320 - val_accuracy: 0.8831\n",
      "Epoch 6/20\n",
      "7565/7565 [==============================] - 1202s 159ms/sample - loss: 0.1765 - accuracy: 0.9366 - val_loss: 0.2310 - val_accuracy: 0.9161\n",
      "Epoch 7/20\n",
      "7565/7565 [==============================] - 1206s 159ms/sample - loss: 0.1650 - accuracy: 0.9641 - val_loss: 0.2307 - val_accuracy: 0.9405\n",
      "Epoch 8/20\n",
      "7565/7565 [==============================] - 1205s 159ms/sample - loss: 0.1486 - accuracy: 0.9738 - val_loss: 0.1648 - val_accuracy: 0.9540\n",
      "Epoch 9/20\n",
      "7565/7565 [==============================] - 1208s 160ms/sample - loss: 0.0750 - accuracy: 0.9834 - val_loss: 0.1341 - val_accuracy: 0.9608\n",
      "Epoch 10/20\n",
      "7565/7565 [==============================] - 1204s 159ms/sample - loss: 0.0523 - accuracy: 0.9843 - val_loss: 0.1152 - val_accuracy: 0.9670\n",
      "Epoch 11/20\n",
      "7565/7565 [==============================] - 1208s 160ms/sample - loss: 0.0376 - accuracy: 0.9887 - val_loss: 0.1187 - val_accuracy: 0.9661\n",
      "Epoch 12/20\n",
      "7565/7565 [==============================] - 1203s 159ms/sample - loss: 0.0314 - accuracy: 0.9903 - val_loss: 0.1186 - val_accuracy: 0.9670\n",
      "Epoch 13/20\n",
      "7565/7565 [==============================] - 1211s 160ms/sample - loss: 0.0306 - accuracy: 0.9898 - val_loss: 0.1136 - val_accuracy: 0.9688\n",
      "Epoch 14/20\n",
      "7565/7565 [==============================] - 1177s 156ms/sample - loss: 0.0257 - accuracy: 0.9915 - val_loss: 0.1122 - val_accuracy: 0.9658\n",
      "Epoch 15/20\n",
      "7565/7565 [==============================] - 1160s 153ms/sample - loss: 0.0228 - accuracy: 0.9917 - val_loss: 0.1091 - val_accuracy: 0.9710\n",
      "Epoch 16/20\n",
      "7565/7565 [==============================] - 1162s 154ms/sample - loss: 0.0228 - accuracy: 0.9921 - val_loss: 0.1012 - val_accuracy: 0.9713\n",
      "Epoch 17/20\n",
      "7565/7565 [==============================] - 1149s 152ms/sample - loss: 0.0222 - accuracy: 0.9927 - val_loss: 0.1094 - val_accuracy: 0.9704\n",
      "Epoch 18/20\n",
      "7565/7565 [==============================] - 1151s 152ms/sample - loss: 0.0206 - accuracy: 0.9927 - val_loss: 0.1060 - val_accuracy: 0.9744\n",
      "Epoch 19/20\n",
      "7565/7565 [==============================] - 1168s 154ms/sample - loss: 0.0228 - accuracy: 0.9935 - val_loss: 0.0987 - val_accuracy: 0.9735\n",
      "Epoch 20/20\n",
      "7565/7565 [==============================] - 1144s 151ms/sample - loss: 0.0142 - accuracy: 0.9955 - val_loss: 0.0998 - val_accuracy: 0.9756\n"
     ]
    }
   ],
   "source": [
    "# Define the number of epochs\n",
    "EPOCHS = 20\n",
    "\n",
    "# Train the model for 10 epochs\n",
    "history = model.fit(\n",
    "    X_train, Y_train,\n",
    "    batch_size=64,\n",
    "    epochs=EPOCHS,\n",
    "    validation_data=(X_val, Y_val),\n",
    "    verbose=1\n",
    ")"
   ]
  },
  {
   "cell_type": "markdown",
   "metadata": {},
   "source": [
    "**Test Accuracy**"
   ]
  },
  {
   "cell_type": "code",
   "execution_count": 24,
   "metadata": {
    "execution": {
     "iopub.execute_input": "2024-05-21T15:52:15.002401Z",
     "iopub.status.busy": "2024-05-21T15:52:15.001874Z",
     "iopub.status.idle": "2024-05-21T15:53:02.115343Z",
     "shell.execute_reply": "2024-05-21T15:53:02.114393Z",
     "shell.execute_reply.started": "2024-05-21T15:52:15.002337Z"
    }
   },
   "outputs": [
    {
     "name": "stdout",
     "output_type": "stream",
     "text": [
      "1622/1622 [==============================] - 46s 28ms/sample - loss: 0.1606 - accuracy: 0.9673\n",
      "Test Loss: 0.16064737404526686\n",
      "Test Accuracy: 0.9673243165016174\n"
     ]
    }
   ],
   "source": [
    "from sklearn.metrics import confusion_matrix, classification_report\n",
    "\n",
    "# Test the model\n",
    "test_loss, test_accuracy = model.evaluate(X_test, Y_test)\n",
    "print(f\"Test Loss: {test_loss}\")\n",
    "print(f\"Test Accuracy: {test_accuracy}\")"
   ]
  },
  {
   "cell_type": "markdown",
   "metadata": {},
   "source": [
    "**Plot**"
   ]
  },
  {
   "cell_type": "code",
   "execution_count": 25,
   "metadata": {
    "execution": {
     "iopub.execute_input": "2024-05-21T15:53:02.118015Z",
     "iopub.status.busy": "2024-05-21T15:53:02.117740Z",
     "iopub.status.idle": "2024-05-21T15:53:02.722573Z",
     "shell.execute_reply": "2024-05-21T15:53:02.719540Z",
     "shell.execute_reply.started": "2024-05-21T15:53:02.117968Z"
    }
   },
   "outputs": [
    {
     "data": {
      "image/png": "[encoded data removed]",
      "text/plain": [
       "<Figure size 432x288 with 1 Axes>"
      ]
     },
     "metadata": {
      "needs_background": "light"
     },
     "output_type": "display_data"
    },
    {
     "data": {
      "image/png": "[encoded data removed]",
      "text/plain": [
       "<Figure size 432x288 with 1 Axes>"
      ]
     },
     "metadata": {
      "needs_background": "light"
     },
     "output_type": "display_data"
    }
   ],
   "source": [
    "import matplotlib.pyplot as plt\n",
    "\n",
    "# Plot training & validation loss values\n",
    "plt.plot(history.history['loss'])\n",
    "plt.plot(history.history['val_loss'])\n",
    "plt.title('Model Loss')\n",
    "plt.ylabel('Loss')\n",
    "plt.xlabel('Epoch')\n",
    "plt.legend(['Train', 'Validation'], loc='upper left')\n",
    "plt.show()\n",
    "\n",
    "# Plot training & validation accuracy values\n",
    "plt.plot(history.history['accuracy'])\n",
    "plt.plot(history.history['val_accuracy'])\n",
    "plt.title('Model Accuracy')\n",
    "plt.ylabel('Accuracy')\n",
    "plt.xlabel('Epoch')\n",
    "plt.legend(['Train', 'Validation'], loc='upper left')\n",
    "plt.show()"
   ]
  },
  {
   "cell_type": "markdown",
   "metadata": {},
   "source": [
    "**Confusion matrix**"
   ]
  },
  {
   "cell_type": "code",
   "execution_count": 26,
   "metadata": {
    "execution": {
     "iopub.execute_input": "2024-05-21T15:53:02.725293Z",
     "iopub.status.busy": "2024-05-21T15:53:02.724694Z",
     "iopub.status.idle": "2024-05-21T15:53:53.521564Z",
     "shell.execute_reply": "2024-05-21T15:53:53.520494Z",
     "shell.execute_reply.started": "2024-05-21T15:53:02.725055Z"
    }
   },
   "outputs": [
    {
     "name": "stdout",
     "output_type": "stream",
     "text": [
      "Confusion Matrix:\n",
      "[[1268   26]\n",
      " [  27  301]]\n"
     ]
    }
   ],
   "source": [
    "# Predict classes for test data\n",
    "Y_pred = model.predict(X_test)\n",
    "Y_pred_classes = np.argmax(Y_pred, axis=1)\n",
    "Y_true = np.argmax(Y_test, axis=1)\n",
    "\n",
    "# Confusion Matrix\n",
    "conf_matrix = confusion_matrix(Y_true, Y_pred_classes)\n",
    "print(\"Confusion Matrix:\")\n",
    "print(conf_matrix)"
   ]
  },
  {
   "cell_type": "markdown",
   "metadata": {},
   "source": [
    "**Classification Matrix**"
   ]
  },
  {
   "cell_type": "code",
   "execution_count": 27,
   "metadata": {
    "execution": {
     "iopub.execute_input": "2024-05-21T15:53:53.524077Z",
     "iopub.status.busy": "2024-05-21T15:53:53.523396Z",
     "iopub.status.idle": "2024-05-21T15:53:53.540644Z",
     "shell.execute_reply": "2024-05-21T15:53:53.539597Z",
     "shell.execute_reply.started": "2024-05-21T15:53:53.524010Z"
    }
   },
   "outputs": [
    {
     "name": "stdout",
     "output_type": "stream",
     "text": [
      "Classification Report:\n",
      "              precision    recall  f1-score   support\n",
      "\n",
      "           0       0.98      0.98      0.98      1294\n",
      "           1       0.92      0.92      0.92       328\n",
      "\n",
      "    accuracy                           0.97      1622\n",
      "   macro avg       0.95      0.95      0.95      1622\n",
      "weighted avg       0.97      0.97      0.97      1622\n",
      "\n"
     ]
    }
   ],
   "source": [
    "# Classification Report\n",
    "class_report = classification_report(Y_true, Y_pred_classes)\n",
    "print(\"Classification Report:\")\n",
    "print(class_report)"
   ]
  },
  {
   "cell_type": "code",
   "execution_count": null,
   "metadata": {},
   "outputs": [],
   "source": []
  }
 ],
 "metadata": {
  "kaggle": {
   "accelerator": "none",
   "dataSources": [
    {
     "databundleVersionId": 858837,
     "sourceId": 16880,
     "sourceType": "competition"
    },
    {
     "datasetId": 446509,
     "sourceId": 845111,
     "sourceType": "datasetVersion"
    }
   ],
   "dockerImageVersionId": 29844,
   "isGpuEnabled": false,
   "isInternetEnabled": true,
   "language": "python",
   "sourceType": "notebook"
  },
  "kernelspec": {
   "display_name": "Python 3 (ipykernel)",
   "language": "python",
   "name": "python3"
  },
  "language_info": {
   "codemirror_mode": {
    "name": "ipython",
    "version": 3
   },
   "file_extension": ".py",
   "mimetype": "text/x-python",
   "name": "python",
   "nbconvert_exporter": "python",
   "pygments_lexer": "ipython3",
   "version": "3.9.13"
  }
 },
 "nbformat": 4,
 "nbformat_minor": 4
}
