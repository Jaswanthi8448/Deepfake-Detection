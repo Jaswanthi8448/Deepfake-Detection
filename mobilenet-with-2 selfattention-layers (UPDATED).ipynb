{
 "cells": [
  {
   "cell_type": "code",
   "execution_count": 2,
   "metadata": {
    "_cell_guid": "b1076dfc-b9ad-4769-8c92-a6c4dae69d19",
    "_uuid": "8f2839f25d086af736a60e9eeb907d3b93b6e0e5",
    "execution": {
     "iopub.execute_input": "2024-05-22T17:25:16.795977Z",
     "iopub.status.busy": "2024-05-22T17:25:16.795669Z",
     "iopub.status.idle": "2024-05-22T17:31:07.766246Z",
     "shell.execute_reply": "2024-05-22T17:31:07.765432Z",
     "shell.execute_reply.started": "2024-05-22T17:25:16.795932Z"
    }
   },
   "outputs": [
    {
     "name": "stdout",
     "output_type": "stream",
     "text": [
      "Processing /kaggle/input/dlibpkg/dlib-19.19.0\n",
      "Building wheels for collected packages: dlib\n",
      "  Building wheel for dlib (setup.py) ... \u001b[?25ldone\n",
      "\u001b[?25h  Created wheel for dlib: filename=dlib-19.19.0-cp36-cp36m-linux_x86_64.whl size=4086380 sha256=a29dfb2b8b2b2ab89e1e472baf96e23ca04ed5786406b52c76b92a93c10331b4\n",
      "  Stored in directory: /root/.cache/pip/wheels/f3/da/18/38136f7dd8e242c1cc2236d574a50f34463b8c59aab887dd79\n",
      "Successfully built dlib\n",
      "Installing collected packages: dlib\n",
      "  Found existing installation: dlib 19.19.0\n",
      "    Uninstalling dlib-19.19.0:\n",
      "      Successfully uninstalled dlib-19.19.0\n",
      "Successfully installed dlib-19.19.0\n"
     ]
    }
   ],
   "source": [
    "!pip install '/kaggle/input/dlibpkg/dlib-19.19.0'"
   ]
  },
  {
   "cell_type": "code",
   "execution_count": 3,
   "metadata": {
    "execution": {
     "iopub.execute_input": "2024-05-22T17:31:07.769254Z",
     "iopub.status.busy": "2024-05-22T17:31:07.768893Z",
     "iopub.status.idle": "2024-05-22T17:31:07.840799Z",
     "shell.execute_reply": "2024-05-22T17:31:07.840095Z",
     "shell.execute_reply.started": "2024-05-22T17:31:07.769192Z"
    }
   },
   "outputs": [],
   "source": [
    "import os\n",
    "import json\n",
    "import cv2\n",
    "import dlib\n",
    "import numpy as np\n",
    "import dlib\n",
    "import cv2\n",
    "import os\n",
    "import re\n",
    "import json\n",
    "from pylab import *\n",
    "from PIL import Image, ImageChops, ImageEnhance"
   ]
  },
  {
   "cell_type": "markdown",
   "metadata": {},
   "source": [
    "**Data Augementation**"
   ]
  },
  {
   "cell_type": "code",
   "execution_count": 4,
   "metadata": {
    "execution": {
     "iopub.execute_input": "2024-05-22T17:31:07.842779Z",
     "iopub.status.busy": "2024-05-22T17:31:07.842458Z",
     "iopub.status.idle": "2024-05-22T17:31:08.189806Z",
     "shell.execute_reply": "2024-05-22T17:31:08.188939Z",
     "shell.execute_reply.started": "2024-05-22T17:31:07.842721Z"
    }
   },
   "outputs": [],
   "source": [
    "train_frame_folder = '/kaggle/input/deepfake-detection-challenge/train_sample_videos'\n",
    "output_real_folder = '/kaggle/working/dataset/real'\n",
    "output_fake_folder = '/kaggle/working/dataset/fake'\n",
    "\n",
    "# Create directories if they do not exist\n",
    "os.makedirs(output_real_folder, exist_ok=True)\n",
    "os.makedirs(output_fake_folder, exist_ok=True)\n",
    "\n",
    "with open(os.path.join(train_frame_folder, 'metadata.json'), 'r') as file:\n",
    "    data = json.load(file)\n",
    "\n",
    "list_of_train_data = [f for f in os.listdir(train_frame_folder) if f.endswith('.mp4')]\n",
    "detector = dlib.get_frontal_face_detector()\n",
    "\n",
    "# Counters for frames and images\n",
    "original_real_count = 0\n",
    "original_fake_count = 0\n",
    "augmented_real_count = 0\n",
    "augmented_fake_count = 0"
   ]
  },
  {
   "cell_type": "code",
   "execution_count": 5,
   "metadata": {
    "execution": {
     "iopub.execute_input": "2024-05-22T17:31:08.191359Z",
     "iopub.status.busy": "2024-05-22T17:31:08.191108Z",
     "iopub.status.idle": "2024-05-22T18:45:20.394850Z",
     "shell.execute_reply": "2024-05-22T18:45:20.393780Z",
     "shell.execute_reply.started": "2024-05-22T17:31:08.191318Z"
    }
   },
   "outputs": [],
   "source": [
    "def augment_frame(frame):\n",
    "    # Example augmentations: flipping, rotation\n",
    "    augmented_frames = []\n",
    "    \n",
    "    # Original frame\n",
    "    augmented_frames.append(frame)\n",
    "    \n",
    "    # Horizontal flip\n",
    "    flip_frame = cv2.flip(frame, 1)\n",
    "    augmented_frames.append(flip_frame)\n",
    "    \n",
    "    # Shift by 15 pixels to the right\n",
    "    shift_M = np.float32([[1, 0, 15], [0, 1, 0]])\n",
    "    shift_frame = cv2.warpAffine(frame, shift_M, (frame.shape[1], frame.shape[0]))\n",
    "    augmented_frames.append(shift_frame)\n",
    "    \n",
    "    return augmented_frames\n",
    "\n",
    "for vid in list_of_train_data:\n",
    "    cap = cv2.VideoCapture(os.path.join(train_frame_folder, vid))\n",
    "    frameRate = cap.get(5)\n",
    "    while cap.isOpened():\n",
    "        frameId = cap.get(1)\n",
    "        ret, frame = cap.read()\n",
    "        if not ret:\n",
    "            break\n",
    "        if frameId % ((int(frameRate) + 1) * 1) == 0:\n",
    "            label = data[vid]['label']\n",
    "            if label == 'REAL':\n",
    "                original_real_count += 1\n",
    "            elif label == 'FAKE':\n",
    "                original_fake_count += 1\n",
    "\n",
    "            augmented_frames = augment_frame(frame)\n",
    "            for aug_idx, aug_frame in enumerate(augmented_frames):\n",
    "                face_rects, scores, idx = detector.run(aug_frame, 0)\n",
    "                for i, d in enumerate(face_rects):\n",
    "                    x1 = max(0, d.left())\n",
    "                    y1 = max(0, d.top())\n",
    "                    x2 = min(aug_frame.shape[1], d.right())\n",
    "                    y2 = min(aug_frame.shape[0], d.bottom())\n",
    "                    \n",
    "                    if x2 > x1 and y2 > y1:  # Ensure the rectangle is valid\n",
    "                        crop_img = aug_frame[y1:y2, x1:x2]\n",
    "                        if crop_img.size != 0:  # Ensure the cropped image is not empty\n",
    "                            resized_img = cv2.resize(crop_img, (128, 128))\n",
    "                            if label == 'REAL':\n",
    "                                augmented_real_count += 1\n",
    "                                output_path = os.path.join(output_real_folder, f\"{vid.split('.')[0]}_{str(int(frameId))}_aug_{aug_idx}.png\")\n",
    "                                cv2.imwrite(output_path, resized_img)\n",
    "                            elif label == 'FAKE':\n",
    "                                augmented_fake_count += 1\n",
    "                                output_path = os.path.join(output_fake_folder, f\"{vid.split('.')[0]}_{str(int(frameId))}_aug_{aug_idx}.png\")\n",
    "                                cv2.imwrite(output_path, resized_img)\n",
    "    cap.release()"
   ]
  },
  {
   "cell_type": "code",
   "execution_count": 6,
   "metadata": {
    "execution": {
     "iopub.execute_input": "2024-05-22T19:07:55.344115Z",
     "iopub.status.busy": "2024-05-22T19:07:55.343714Z",
     "iopub.status.idle": "2024-05-22T19:07:55.349587Z",
     "shell.execute_reply": "2024-05-22T19:07:55.348772Z",
     "shell.execute_reply.started": "2024-05-22T19:07:55.344050Z"
    }
   },
   "outputs": [
    {
     "name": "stdout",
     "output_type": "stream",
     "text": [
      "Number of original REAL frames: 770\n",
      "Number of original FAKE frames: 3230\n",
      "Number of augmented REAL frames: 2279\n",
      "Number of augmented FAKE frames: 8936\n"
     ]
    }
   ],
   "source": [
    "# Print the number of frames before and after augmenting\n",
    "print(f\"Number of original REAL frames: {original_real_count}\")\n",
    "print(f\"Number of original FAKE frames: {original_fake_count}\")\n",
    "print(f\"Number of augmented REAL frames: {augmented_real_count}\")\n",
    "print(f\"Number of augmented FAKE frames: {augmented_fake_count}\")"
   ]
  },
  {
   "cell_type": "markdown",
   "metadata": {},
   "source": [
    "**Train-test split**"
   ]
  },
  {
   "cell_type": "code",
   "execution_count": 7,
   "metadata": {
    "execution": {
     "iopub.execute_input": "2024-05-22T19:07:57.905053Z",
     "iopub.status.busy": "2024-05-22T19:07:57.904748Z",
     "iopub.status.idle": "2024-05-22T19:08:03.041821Z",
     "shell.execute_reply": "2024-05-22T19:08:03.039544Z",
     "shell.execute_reply.started": "2024-05-22T19:07:57.905009Z"
    }
   },
   "outputs": [],
   "source": [
    "import os\n",
    "import cv2\n",
    "import json\n",
    "import tensorflow as tf\n",
    "import numpy as np\n",
    "import matplotlib.pyplot as plt\n",
    "import seaborn as sn\n",
    "import pandas as pd\n",
    "from tensorflow.keras.preprocessing.image import ImageDataGenerator, img_to_array, load_img\n",
    "from tensorflow.keras.utils import to_categorical\n",
    "from sklearn.model_selection import train_test_split\n",
    "from sklearn.metrics import confusion_matrix"
   ]
  },
  {
   "cell_type": "code",
   "execution_count": 8,
   "metadata": {
    "execution": {
     "iopub.execute_input": "2024-05-22T19:08:03.043880Z",
     "iopub.status.busy": "2024-05-22T19:08:03.043601Z",
     "iopub.status.idle": "2024-05-22T19:08:21.388832Z",
     "shell.execute_reply": "2024-05-22T19:08:21.388064Z",
     "shell.execute_reply.started": "2024-05-22T19:08:03.043827Z"
    }
   },
   "outputs": [
    {
     "name": "stderr",
     "output_type": "stream",
     "text": [
      "Using TensorFlow backend.\n"
     ]
    },
    {
     "name": "stdout",
     "output_type": "stream",
     "text": [
      "Number of training samples: 7565\n",
      "Number of validation samples: 1621\n",
      "Number of test samples: 1622\n"
     ]
    }
   ],
   "source": [
    "import os\n",
    "import numpy as np\n",
    "from keras.preprocessing.image import img_to_array, load_img\n",
    "from keras.utils import to_categorical\n",
    "from sklearn.model_selection import train_test_split\n",
    "\n",
    "input_shape = (224, 224, 3)  # Change input shape\n",
    "data_dir = '/kaggle/working/dataset'\n",
    "\n",
    "real_data = [f for f in os.listdir(data_dir + '/real') if f.endswith('.png')]\n",
    "fake_data = [f for f in os.listdir(data_dir + '/fake') if f.endswith('.png')]\n",
    "\n",
    "X = []\n",
    "Y = []\n",
    "\n",
    "for img in real_data:\n",
    "    image = load_img(data_dir + '/real/' + img, target_size=input_shape[:2])  # Load image with target size\n",
    "    X.append(img_to_array(image) / 255.0)\n",
    "    Y.append(1)\n",
    "for img in fake_data:\n",
    "    image = load_img(data_dir + '/fake/' + img, target_size=input_shape[:2])  # Load image with target size\n",
    "    X.append(img_to_array(image) / 255.0)\n",
    "    Y.append(0)\n",
    "\n",
    "Y_val_org = Y\n",
    "\n",
    "# Normalization\n",
    "X = np.array(X)\n",
    "Y = to_categorical(Y, 2)\n",
    "\n",
    "# Reshape\n",
    "X = X.reshape(-1, input_shape[0], input_shape[1], input_shape[2])\n",
    "\n",
    "# Initial Train-Test split (80% train, 20% temp)\n",
    "X_train, X_temp, Y_train, Y_temp = train_test_split(X, Y, test_size=0.3, random_state=5)\n",
    "\n",
    "# Further split temp into validation and test (50% each from temp, resulting in 10% each from original dataset)\n",
    "X_val, X_test, Y_val, Y_test = train_test_split(X_temp, Y_temp, test_size=0.5, random_state=5)\n",
    "\n",
    "# Print dataset sizes to verify splits\n",
    "print(f\"Number of training samples: {len(X_train)}\")\n",
    "print(f\"Number of validation samples: {len(X_val)}\")\n",
    "print(f\"Number of test samples: {len(X_test)}\")\n"
   ]
  },
  {
   "cell_type": "markdown",
   "metadata": {},
   "source": [
    "**Training using Mobilenet with self attention**"
   ]
  },
  {
   "cell_type": "code",
   "execution_count": 9,
   "metadata": {
    "execution": {
     "iopub.execute_input": "2024-05-22T19:08:21.391116Z",
     "iopub.status.busy": "2024-05-22T19:08:21.390844Z",
     "iopub.status.idle": "2024-05-22T19:08:21.399901Z",
     "shell.execute_reply": "2024-05-22T19:08:21.399177Z",
     "shell.execute_reply.started": "2024-05-22T19:08:21.391064Z"
    }
   },
   "outputs": [],
   "source": [
    "from tensorflow.keras.layers import Conv2D\n",
    "from tensorflow.keras.layers import MaxPooling2D\n",
    "from tensorflow.keras.layers import Flatten\n",
    "from tensorflow.keras.layers import Dense\n",
    "from tensorflow.keras.layers import Dropout\n",
    "from tensorflow.keras.layers import InputLayer\n",
    "from tensorflow.keras.layers import GlobalAveragePooling2D\n",
    "from tensorflow.keras.models import Sequential\n",
    "from tensorflow.keras.models import Model\n",
    "from tensorflow.keras import optimizers\n",
    "from tensorflow.keras.callbacks import ReduceLROnPlateau, EarlyStopping"
   ]
  },
  {
   "cell_type": "code",
   "execution_count": 12,
   "metadata": {
    "execution": {
     "iopub.execute_input": "2024-05-22T19:12:19.557302Z",
     "iopub.status.busy": "2024-05-22T19:12:19.556968Z",
     "iopub.status.idle": "2024-05-22T19:12:22.189243Z",
     "shell.execute_reply": "2024-05-22T19:12:22.188340Z",
     "shell.execute_reply.started": "2024-05-22T19:12:19.557257Z"
    }
   },
   "outputs": [
    {
     "name": "stdout",
     "output_type": "stream",
     "text": [
      "Model: \"sequential_1\"\n",
      "_________________________________________________________________\n",
      "Layer (type)                 Output Shape              Param #   \n",
      "=================================================================\n",
      "mobilenet_1.00_224 (Model)   (None, 7, 7, 1024)        3228864   \n",
      "_________________________________________________________________\n",
      "global_average_pooling2d_1 ( (None, 1024)              0         \n",
      "_________________________________________________________________\n",
      "dense_1 (Dense)              (None, 512)               524800    \n",
      "_________________________________________________________________\n",
      "reshape (Reshape)            (None, 1, 1, 512)         0         \n",
      "_________________________________________________________________\n",
      "self_attention (SelfAttentio (None, 1, 1, 512)         328320    \n",
      "_________________________________________________________________\n",
      "self_attention_1 (SelfAttent (None, 1, 1, 512)         328320    \n",
      "_________________________________________________________________\n",
      "flatten (Flatten)            (None, 512)               0         \n",
      "_________________________________________________________________\n",
      "dense_2 (Dense)              (None, 256)               131328    \n",
      "_________________________________________________________________\n",
      "dense_3 (Dense)              (None, 128)               32896     \n",
      "_________________________________________________________________\n",
      "dense_4 (Dense)              (None, 64)                8256      \n",
      "_________________________________________________________________\n",
      "dense_5 (Dense)              (None, 2)                 130       \n",
      "=================================================================\n",
      "Total params: 4,582,914\n",
      "Trainable params: 4,561,026\n",
      "Non-trainable params: 21,888\n",
      "_________________________________________________________________\n"
     ]
    }
   ],
   "source": [
    "\n",
    "import tensorflow as tf\n",
    "from tensorflow.keras.layers import Layer, Input, GlobalAveragePooling2D, Dense, Conv2D, Flatten\n",
    "from tensorflow.keras.models import Model, Sequential\n",
    "from tensorflow.keras.applications import MobileNet\n",
    "from tensorflow.keras import optimizers\n",
    "from tensorflow.keras.layers import Reshape\n",
    "\"\"\"\n",
    "# Define the custom self-attention layer\n",
    "class SelfAttention(Layer):\n",
    "    def __init__(self, **kwargs):\n",
    "        super(SelfAttention, self).__init__(**kwargs)\n",
    "\n",
    "    def build(self, input_shape):\n",
    "        self.query_conv = Conv2D(filters=input_shape[-1] // 8, kernel_size=1)\n",
    "        self.key_conv = Conv2D(filters=input_shape[-1] // 8, kernel_size=1)\n",
    "        self.value_conv = Conv2D(filters=input_shape[-1], kernel_size=1)\n",
    "        super(SelfAttention, self).build(input_shape)\n",
    "\n",
    "    def call(self, inputs):\n",
    "        query = self.query_conv(inputs)\n",
    "        key = self.key_conv(inputs)\n",
    "        value = self.value_conv(inputs)\n",
    "\n",
    "        # Compute attention scores\n",
    "        attention_scores = tf.matmul(tf.reshape(query, [tf.shape(query)[0], -1, tf.shape(query)[-1]]),\n",
    "                                     tf.reshape(key, [tf.shape(key)[0], -1, tf.shape(key)[-1]]),\n",
    "                                     transpose_b=True)\n",
    "        attention_scores = tf.nn.softmax(attention_scores)\n",
    "\n",
    "        # Apply attention scores to value\n",
    "        attention_output = tf.matmul(attention_scores,\n",
    "                                     tf.reshape(value, [tf.shape(value)[0], -1, tf.shape(value)[-1]]))\n",
    "        attention_output = tf.reshape(attention_output, tf.shape(inputs))\n",
    "\n",
    "        return attention_output\n",
    "\n",
    "# Load the MobileNet model\n",
    "input_shape = (224, 224, 3)  # Example input shape, adjust according to your data\n",
    "mobilenet = MobileNet(include_top=False, weights='imagenet', input_shape=input_shape)\n",
    "mobilenet.trainable = True\n",
    "\n",
    "# Create a Sequential model and add the MobileNet model\n",
    "model = Sequential()\n",
    "model.add(mobilenet)\n",
    "\n",
    "# Add the custom self-attention layer before the pooling layer\n",
    "model.add(SelfAttention())\n",
    "model.add(SelfAttention())\n",
    "\n",
    "# Add pooling and dense layers\n",
    "model.add(GlobalAveragePooling2D())\n",
    "model.add(Dense(units=1024, activation='relu'))\n",
    "\n",
    "# Add the remaining dense layers\n",
    "model.add(Flatten())\n",
    "model.add(Dense(units=256, activation='relu'))\n",
    "model.add(Dense(units=128, activation='relu'))\n",
    "model.add(Dense(units=64, activation='relu'))\n",
    "model.add(Dense(units=2, activation='sigmoid'))\n",
    "\n",
    "# Compile the model\n",
    "model.compile(\n",
    "    loss='binary_crossentropy',\n",
    "    optimizer=optimizers.Adam(lr=1e-5, beta_1=0.9, beta_2=0.999, epsilon=None, decay=0.0, amsgrad=False),\n",
    "    metrics=['accuracy']\n",
    ")\n",
    "\n",
    "# Print the model summary\n",
    "model.summary()\n",
    "\"\"\"\n",
    "\n",
    "\n",
    "# Define the custom self-attention layer\n",
    "class SelfAttention(Layer):\n",
    "    def _init_(self, **kwargs):\n",
    "        super(SelfAttention, self)._init_(**kwargs)\n",
    "\n",
    "    def build(self, input_shape):\n",
    "        self.query_conv = Conv2D(filters=input_shape[-1] // 8, kernel_size=1)\n",
    "        self.key_conv = Conv2D(filters=input_shape[-1] // 8, kernel_size=1)\n",
    "        self.value_conv = Conv2D(filters=input_shape[-1], kernel_size=1)\n",
    "        super(SelfAttention, self).build(input_shape)\n",
    "\n",
    "    def call(self, inputs):\n",
    "        query = self.query_conv(inputs)\n",
    "        key = self.key_conv(inputs)\n",
    "        value = self.value_conv(inputs)\n",
    "\n",
    "        # Compute attention scores\n",
    "        attention_scores = tf.matmul(tf.reshape(query, [tf.shape(query)[0], -1, tf.shape(query)[-1]]),\n",
    "                                     tf.reshape(key, [tf.shape(key)[0], -1, tf.shape(key)[-1]]),\n",
    "                                     transpose_b=True)\n",
    "        attention_scores = tf.nn.softmax(attention_scores)\n",
    "\n",
    "        # Apply attention scores to value\n",
    "        attention_output = tf.matmul(attention_scores,\n",
    "                                     tf.reshape(value, [tf.shape(value)[0], -1, tf.shape(value)[-1]]))\n",
    "        attention_output = tf.reshape(attention_output, tf.shape(inputs))\n",
    "\n",
    "        return attention_output\n",
    "\n",
    "# Load the MobileNet model\n",
    "input_shape = (224, 224, 3)\n",
    "mobilenet = MobileNet(include_top=False, weights='imagenet', input_shape=input_shape)\n",
    "mobilenet.trainable = True\n",
    "\n",
    "# Create a Sequential model and add the MobileNet model\n",
    "model = Sequential()\n",
    "model.add(mobilenet)\n",
    "\n",
    "# Add pooling and dense layers\n",
    "model.add(GlobalAveragePooling2D())\n",
    "model.add(Dense(units=512, activation='relu'))\n",
    "\n",
    "# Reshape the output to 4D before adding the custom self-attention layer\n",
    "model.add(Reshape((1, 1, 512)))\n",
    "\n",
    "# Add the custom self-attention layer\n",
    "model.add(SelfAttention())\n",
    "model.add(SelfAttention())\n",
    "# Flatten the output back to 2D\n",
    "model.add(Flatten())\n",
    "\n",
    "# Add the remaining dense layers\n",
    "model.add(Dense(units=256, activation='relu'))\n",
    "model.add(Dense(units=128, activation='relu'))\n",
    "model.add(Dense(units=64, activation='relu'))\n",
    "model.add(Dense(units=2, activation='sigmoid'))\n",
    "\n",
    "# Compile the model\n",
    "model.compile(\n",
    "    loss='binary_crossentropy',\n",
    "    optimizer=optimizers.Adam(lr=1e-5, beta_1=0.9, beta_2=0.999, epsilon=None, decay=0.0, amsgrad=False),\n",
    "    metrics=['accuracy']\n",
    ")\n",
    "\n",
    "# Print the model summary\n",
    "model.summary()"
   ]
  },
  {
   "cell_type": "code",
   "execution_count": 13,
   "metadata": {
    "execution": {
     "iopub.execute_input": "2024-05-22T19:12:26.277682Z",
     "iopub.status.busy": "2024-05-22T19:12:26.277368Z",
     "iopub.status.idle": "2024-05-22T19:29:59.930904Z",
     "shell.execute_reply": "2024-05-22T19:29:59.930025Z",
     "shell.execute_reply.started": "2024-05-22T19:12:26.277638Z"
    }
   },
   "outputs": [
    {
     "name": "stdout",
     "output_type": "stream",
     "text": [
      "Train on 7565 samples, validate on 1621 samples\n",
      "Epoch 1/30\n",
      "7565/7565 [==============================] - 43s 6ms/sample - loss: 0.4457 - accuracy: 0.8033 - val_loss: 0.4570 - val_accuracy: 0.7862\n",
      "Epoch 2/30\n",
      "7565/7565 [==============================] - 34s 5ms/sample - loss: 0.2885 - accuracy: 0.8748 - val_loss: 0.2895 - val_accuracy: 0.8856\n",
      "Epoch 3/30\n",
      "7565/7565 [==============================] - 35s 5ms/sample - loss: 0.1586 - accuracy: 0.9452 - val_loss: 0.1848 - val_accuracy: 0.9371\n",
      "Epoch 4/30\n",
      "7565/7565 [==============================] - 34s 5ms/sample - loss: 0.0854 - accuracy: 0.9746 - val_loss: 0.1438 - val_accuracy: 0.9451\n",
      "Epoch 5/30\n",
      "7565/7565 [==============================] - 35s 5ms/sample - loss: 0.0456 - accuracy: 0.9899 - val_loss: 0.1297 - val_accuracy: 0.9500\n",
      "Epoch 6/30\n",
      "7565/7565 [==============================] - 35s 5ms/sample - loss: 0.0261 - accuracy: 0.9958 - val_loss: 0.1068 - val_accuracy: 0.9593\n",
      "Epoch 7/30\n",
      "7565/7565 [==============================] - 34s 5ms/sample - loss: 0.0167 - accuracy: 0.9970 - val_loss: 0.1011 - val_accuracy: 0.9584\n",
      "Epoch 8/30\n",
      "7565/7565 [==============================] - 34s 5ms/sample - loss: 0.0103 - accuracy: 0.9985 - val_loss: 0.1021 - val_accuracy: 0.9574\n",
      "Epoch 9/30\n",
      "7565/7565 [==============================] - 35s 5ms/sample - loss: 0.0140 - accuracy: 0.9968 - val_loss: 0.0979 - val_accuracy: 0.9614\n",
      "Epoch 10/30\n",
      "7565/7565 [==============================] - 34s 5ms/sample - loss: 0.0051 - accuracy: 0.9996 - val_loss: 0.0955 - val_accuracy: 0.9636\n",
      "Epoch 11/30\n",
      "7565/7565 [==============================] - 34s 5ms/sample - loss: 0.0031 - accuracy: 0.9999 - val_loss: 0.1013 - val_accuracy: 0.9636\n",
      "Epoch 12/30\n",
      "7565/7565 [==============================] - 35s 5ms/sample - loss: 0.0029 - accuracy: 0.9999 - val_loss: 0.0975 - val_accuracy: 0.9627\n",
      "Epoch 13/30\n",
      "7565/7565 [==============================] - 34s 5ms/sample - loss: 0.0032 - accuracy: 0.9997 - val_loss: 0.0982 - val_accuracy: 0.9639\n",
      "Epoch 14/30\n",
      "7565/7565 [==============================] - 34s 5ms/sample - loss: 0.0058 - accuracy: 0.9988 - val_loss: 0.0973 - val_accuracy: 0.9639\n",
      "Epoch 15/30\n",
      "7565/7565 [==============================] - 35s 5ms/sample - loss: 0.0029 - accuracy: 0.9995 - val_loss: 0.1206 - val_accuracy: 0.9599\n",
      "Epoch 16/30\n",
      "7565/7565 [==============================] - 34s 5ms/sample - loss: 0.0016 - accuracy: 0.9999 - val_loss: 0.1023 - val_accuracy: 0.9627\n",
      "Epoch 17/30\n",
      "7565/7565 [==============================] - 34s 5ms/sample - loss: 0.0012 - accuracy: 1.0000 - val_loss: 0.1002 - val_accuracy: 0.9667\n",
      "Epoch 18/30\n",
      "7565/7565 [==============================] - 35s 5ms/sample - loss: 0.0012 - accuracy: 0.9999 - val_loss: 0.1054 - val_accuracy: 0.9676\n",
      "Epoch 19/30\n",
      "7565/7565 [==============================] - 34s 5ms/sample - loss: 0.0011 - accuracy: 0.9999 - val_loss: 0.0983 - val_accuracy: 0.9685\n",
      "Epoch 20/30\n",
      "7565/7565 [==============================] - 34s 5ms/sample - loss: 0.0013 - accuracy: 0.9999 - val_loss: 0.0977 - val_accuracy: 0.9692\n",
      "Epoch 21/30\n",
      "7565/7565 [==============================] - 34s 5ms/sample - loss: 5.7816e-04 - accuracy: 1.0000 - val_loss: 0.1019 - val_accuracy: 0.9688\n",
      "Epoch 24/30\n",
      "7565/7565 [==============================] - 35s 5ms/sample - loss: 6.2685e-04 - accuracy: 1.0000 - val_loss: 0.0989 - val_accuracy: 0.9685\n",
      "Epoch 25/30\n",
      "7565/7565 [==============================] - 34s 5ms/sample - loss: 5.6168e-04 - accuracy: 1.0000 - val_loss: 0.1007 - val_accuracy: 0.9707\n",
      "Epoch 26/30\n",
      "7565/7565 [==============================] - 35s 5ms/sample - loss: 4.0050e-04 - accuracy: 1.0000 - val_loss: 0.1023 - val_accuracy: 0.9698\n",
      "Epoch 27/30\n",
      "7565/7565 [==============================] - 35s 5ms/sample - loss: 3.4821e-04 - accuracy: 1.0000 - val_loss: 0.1088 - val_accuracy: 0.9704\n",
      "Epoch 28/30\n",
      "7565/7565 [==============================] - 34s 5ms/sample - loss: 2.6072e-04 - accuracy: 1.0000 - val_loss: 0.1049 - val_accuracy: 0.9704\n",
      "Epoch 29/30\n",
      "7565/7565 [==============================] - 34s 5ms/sample - loss: 2.4792e-04 - accuracy: 1.0000 - val_loss: 0.1030 - val_accuracy: 0.9713\n",
      "Epoch 30/30\n",
      "7565/7565 [==============================] - 35s 5ms/sample - loss: 2.9399e-04 - accuracy: 1.0000 - val_loss: 0.1143 - val_accuracy: 0.9704\n"
     ]
    }
   ],
   "source": [
    "# Define the number of epochs\n",
    "EPOCHS = 30\n",
    "\n",
    "# Train the model for 20 epochs\n",
    "history = model.fit(\n",
    "    X_train, Y_train,\n",
    "    batch_size=64,\n",
    "    epochs=EPOCHS,\n",
    "    validation_data=(X_val, Y_val),\n",
    "    verbose=1\n",
    ")"
   ]
  },
  {
   "cell_type": "markdown",
   "metadata": {},
   "source": [
    "**Test Accuracy**"
   ]
  },
  {
   "cell_type": "code",
   "execution_count": 14,
   "metadata": {
    "execution": {
     "iopub.execute_input": "2024-05-22T19:30:09.280787Z",
     "iopub.status.busy": "2024-05-22T19:30:09.280465Z",
     "iopub.status.idle": "2024-05-22T19:30:11.835651Z",
     "shell.execute_reply": "2024-05-22T19:30:11.834896Z",
     "shell.execute_reply.started": "2024-05-22T19:30:09.280743Z"
    }
   },
   "outputs": [
    {
     "name": "stdout",
     "output_type": "stream",
     "text": [
      "1622/1622 [==============================] - 2s 1ms/sample - loss: 0.1538 - accuracy: 0.9633\n",
      "Test Loss: 0.15378756230782015\n",
      "Test Accuracy: 0.9633169174194336\n"
     ]
    }
   ],
   "source": [
    "from sklearn.metrics import confusion_matrix, classification_report\n",
    "\n",
    "# Test the model\n",
    "test_loss, test_accuracy = model.evaluate(X_test, Y_test)\n",
    "print(f\"Test Loss: {test_loss}\")\n",
    "print(f\"Test Accuracy: {test_accuracy}\")"
   ]
  },
  {
   "cell_type": "markdown",
   "metadata": {},
   "source": [
    "**Plot**"
   ]
  },
  {
   "cell_type": "code",
   "execution_count": 15,
   "metadata": {
    "execution": {
     "iopub.execute_input": "2024-05-22T19:30:18.357899Z",
     "iopub.status.busy": "2024-05-22T19:30:18.357588Z",
     "iopub.status.idle": "2024-05-22T19:30:19.008103Z",
     "shell.execute_reply": "2024-05-22T19:30:19.006956Z",
     "shell.execute_reply.started": "2024-05-22T19:30:18.357856Z"
    }
   },
   "outputs": [
    {
     "data": {
      "image/png": "[encoded data removed]",
      "text/plain": [
       "<Figure size 432x288 with 1 Axes>"
      ]
     },
     "metadata": {
      "needs_background": "light"
     },
     "output_type": "display_data"
    },
    {
     "data": {
      "image/png": "[encoded data removed]",
      "text/plain": [
       "<Figure size 432x288 with 1 Axes>"
      ]
     },
     "metadata": {
      "needs_background": "light"
     },
     "output_type": "display_data"
    }
   ],
   "source": [
    "import matplotlib.pyplot as plt\n",
    "\n",
    "# Plot training & validation loss values\n",
    "plt.plot(history.history['loss'])\n",
    "plt.plot(history.history['val_loss'])\n",
    "plt.title('Model Loss')\n",
    "plt.ylabel('Loss')\n",
    "plt.xlabel('Epoch')\n",
    "plt.legend(['Train', 'Validation'], loc='upper left')\n",
    "plt.show()\n",
    "\n",
    "# Plot training & validation accuracy values\n",
    "plt.plot(history.history['accuracy'])\n",
    "plt.plot(history.history['val_accuracy'])\n",
    "plt.title('Model Accuracy')\n",
    "plt.ylabel('Accuracy')\n",
    "plt.xlabel('Epoch')\n",
    "plt.legend(['Train', 'Validation'], loc='upper left')\n",
    "plt.show()"
   ]
  },
  {
   "cell_type": "markdown",
   "metadata": {},
   "source": [
    "**Confusion matrix**"
   ]
  },
  {
   "cell_type": "code",
   "execution_count": 16,
   "metadata": {
    "execution": {
     "iopub.execute_input": "2024-05-22T19:30:25.540719Z",
     "iopub.status.busy": "2024-05-22T19:30:25.540379Z",
     "iopub.status.idle": "2024-05-22T19:30:28.363008Z",
     "shell.execute_reply": "2024-05-22T19:30:28.361934Z",
     "shell.execute_reply.started": "2024-05-22T19:30:25.540672Z"
    }
   },
   "outputs": [
    {
     "name": "stdout",
     "output_type": "stream",
     "text": [
      "Confusion Matrix:\n",
      "[[1275   19]\n",
      " [  41  287]]\n"
     ]
    }
   ],
   "source": [
    "# Predict classes for test data\n",
    "Y_pred = model.predict(X_test)\n",
    "Y_pred_classes = np.argmax(Y_pred, axis=1)\n",
    "Y_true = np.argmax(Y_test, axis=1)\n",
    "\n",
    "# Confusion Matrix\n",
    "conf_matrix = confusion_matrix(Y_true, Y_pred_classes)\n",
    "print(\"Confusion Matrix:\")\n",
    "print(conf_matrix)"
   ]
  },
  {
   "cell_type": "markdown",
   "metadata": {},
   "source": [
    "**Classification Report**"
   ]
  },
  {
   "cell_type": "code",
   "execution_count": 17,
   "metadata": {
    "execution": {
     "iopub.execute_input": "2024-05-22T19:30:33.190189Z",
     "iopub.status.busy": "2024-05-22T19:30:33.189844Z",
     "iopub.status.idle": "2024-05-22T19:30:33.201855Z",
     "shell.execute_reply": "2024-05-22T19:30:33.201148Z",
     "shell.execute_reply.started": "2024-05-22T19:30:33.190115Z"
    }
   },
   "outputs": [
    {
     "name": "stdout",
     "output_type": "stream",
     "text": [
      "Classification Report:\n",
      "              precision    recall  f1-score   support\n",
      "\n",
      "           0       0.97      0.99      0.98      1294\n",
      "           1       0.94      0.88      0.91       328\n",
      "\n",
      "    accuracy                           0.96      1622\n",
      "   macro avg       0.95      0.93      0.94      1622\n",
      "weighted avg       0.96      0.96      0.96      1622\n",
      "\n"
     ]
    }
   ],
   "source": [
    "# Classification Report\n",
    "class_report = classification_report(Y_true, Y_pred_classes)\n",
    "print(\"Classification Report:\")\n",
    "print(class_report)"
   ]
  },
  {
   "cell_type": "code",
   "execution_count": null,
   "metadata": {},
   "outputs": [],
   "source": []
  },
  {
   "cell_type": "code",
   "execution_count": null,
   "metadata": {},
   "outputs": [],
   "source": []
  }
 ],
 "metadata": {
  "kaggle": {
   "accelerator": "gpu",
   "dataSources": [
    {
     "databundleVersionId": 858837,
     "sourceId": 16880,
     "sourceType": "competition"
    },
    {
     "datasetId": 446509,
     "sourceId": 845111,
     "sourceType": "datasetVersion"
    }
   ],
   "dockerImageVersionId": 29845,
   "isGpuEnabled": true,
   "isInternetEnabled": true,
   "language": "python",
   "sourceType": "notebook"
  },
  "kernelspec": {
   "display_name": "Python 3 (ipykernel)",
   "language": "python",
   "name": "python3"
  },
  "language_info": {
   "codemirror_mode": {
    "name": "ipython",
    "version": 3
   },
   "file_extension": ".py",
   "mimetype": "text/x-python",
   "name": "python",
   "nbconvert_exporter": "python",
   "pygments_lexer": "ipython3",
   "version": "3.9.13"
  }
 },
 "nbformat": 4,
 "nbformat_minor": 4
}
