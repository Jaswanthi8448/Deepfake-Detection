{
 "cells": [
  {
   "cell_type": "code",
   "execution_count": 1,
   "metadata": {
    "_cell_guid": "b1076dfc-b9ad-4769-8c92-a6c4dae69d19",
    "_uuid": "8f2839f25d086af736a60e9eeb907d3b93b6e0e5",
    "execution": {
     "iopub.execute_input": "2024-05-21T14:28:25.793795Z",
     "iopub.status.busy": "2024-05-21T14:28:25.793514Z",
     "iopub.status.idle": "2024-05-21T14:34:07.665852Z",
     "shell.execute_reply": "2024-05-21T14:34:07.664858Z",
     "shell.execute_reply.started": "2024-05-21T14:28:25.793739Z"
    }
   },
   "outputs": [
    {
     "name": "stdout",
     "output_type": "stream",
     "text": [
      "Processing /kaggle/input/dlibpkg/dlib-19.19.0\n",
      "Building wheels for collected packages: dlib\n",
      "  Building wheel for dlib (setup.py) ... \u001b[?25ldone\n",
      "\u001b[?25h  Created wheel for dlib: filename=dlib-19.19.0-cp36-cp36m-linux_x86_64.whl size=4086377 sha256=2af64121c041dbffc8e72392208ebecdfcac924a693f9a9cb11de63d12e0afad\n",
      "  Stored in directory: /root/.cache/pip/wheels/f3/da/18/38136f7dd8e242c1cc2236d574a50f34463b8c59aab887dd79\n",
      "Successfully built dlib\n",
      "Installing collected packages: dlib\n",
      "Successfully installed dlib-19.19.0\n"
     ]
    }
   ],
   "source": [
    "!pip install '/kaggle/input/dlibpkg/dlib-19.19.0'"
   ]
  },
  {
   "cell_type": "code",
   "execution_count": 2,
   "metadata": {
    "execution": {
     "iopub.execute_input": "2024-05-21T14:34:07.668158Z",
     "iopub.status.busy": "2024-05-21T14:34:07.667900Z",
     "iopub.status.idle": "2024-05-21T14:34:08.089766Z",
     "shell.execute_reply": "2024-05-21T14:34:08.089138Z",
     "shell.execute_reply.started": "2024-05-21T14:34:07.668114Z"
    }
   },
   "outputs": [],
   "source": [
    "import os\n",
    "import json\n",
    "import cv2\n",
    "import dlib\n",
    "import numpy as np\n",
    "import dlib\n",
    "import cv2\n",
    "import os\n",
    "import re\n",
    "import json\n",
    "from pylab import *\n",
    "from PIL import Image, ImageChops, ImageEnhance"
   ]
  },
  {
   "cell_type": "markdown",
   "metadata": {},
   "source": [
    "**Data Augementation**"
   ]
  },
  {
   "cell_type": "code",
   "execution_count": 3,
   "metadata": {
    "execution": {
     "iopub.execute_input": "2024-05-21T14:34:08.091613Z",
     "iopub.status.busy": "2024-05-21T14:34:08.091290Z",
     "iopub.status.idle": "2024-05-21T14:34:08.614822Z",
     "shell.execute_reply": "2024-05-21T14:34:08.614214Z",
     "shell.execute_reply.started": "2024-05-21T14:34:08.091552Z"
    }
   },
   "outputs": [],
   "source": [
    "train_frame_folder = '/kaggle/input/deepfake-detection-challenge/train_sample_videos'\n",
    "output_real_folder = '/kaggle/working/dataset/real'\n",
    "output_fake_folder = '/kaggle/working/dataset/fake'\n",
    "\n",
    "# Create directories if they do not exist\n",
    "os.makedirs(output_real_folder, exist_ok=True)\n",
    "os.makedirs(output_fake_folder, exist_ok=True)\n",
    "\n",
    "with open(os.path.join(train_frame_folder, 'metadata.json'), 'r') as file:\n",
    "    data = json.load(file)\n",
    "\n",
    "list_of_train_data = [f for f in os.listdir(train_frame_folder) if f.endswith('.mp4')]\n",
    "detector = dlib.get_frontal_face_detector()\n",
    "\n",
    "# Counters for frames and images\n",
    "original_real_count = 0\n",
    "original_fake_count = 0\n",
    "augmented_real_count = 0\n",
    "augmented_fake_count = 0"
   ]
  },
  {
   "cell_type": "code",
   "execution_count": 4,
   "metadata": {
    "execution": {
     "iopub.execute_input": "2024-05-21T14:34:08.616486Z",
     "iopub.status.busy": "2024-05-21T14:34:08.616247Z",
     "iopub.status.idle": "2024-05-21T15:45:34.807117Z",
     "shell.execute_reply": "2024-05-21T15:45:34.806440Z",
     "shell.execute_reply.started": "2024-05-21T14:34:08.616446Z"
    }
   },
   "outputs": [],
   "source": [
    "def augment_frame(frame):\n",
    "    # Example augmentations: flipping, rotation\n",
    "    augmented_frames = []\n",
    "    \n",
    "    # Original frame\n",
    "    augmented_frames.append(frame)\n",
    "    \n",
    "    # Horizontal flip\n",
    "    flip_frame = cv2.flip(frame, 1)\n",
    "    augmented_frames.append(flip_frame)\n",
    "    \n",
    "    # Shift by 15 pixels to the right\n",
    "    shift_M = np.float32([[1, 0, 15], [0, 1, 0]])\n",
    "    shift_frame = cv2.warpAffine(frame, shift_M, (frame.shape[1], frame.shape[0]))\n",
    "    augmented_frames.append(shift_frame)\n",
    "    \n",
    "    return augmented_frames\n",
    "\n",
    "for vid in list_of_train_data:\n",
    "    cap = cv2.VideoCapture(os.path.join(train_frame_folder, vid))\n",
    "    frameRate = cap.get(5)\n",
    "    while cap.isOpened():\n",
    "        frameId = cap.get(1)\n",
    "        ret, frame = cap.read()\n",
    "        if not ret:\n",
    "            break\n",
    "        if frameId % ((int(frameRate) + 1) * 1) == 0:\n",
    "            label = data[vid]['label']\n",
    "            if label == 'REAL':\n",
    "                original_real_count += 1\n",
    "            elif label == 'FAKE':\n",
    "                original_fake_count += 1\n",
    "\n",
    "            augmented_frames = augment_frame(frame)\n",
    "            for aug_idx, aug_frame in enumerate(augmented_frames):\n",
    "                face_rects, scores, idx = detector.run(aug_frame, 0)\n",
    "                for i, d in enumerate(face_rects):\n",
    "                    x1 = max(0, d.left())\n",
    "                    y1 = max(0, d.top())\n",
    "                    x2 = min(aug_frame.shape[1], d.right())\n",
    "                    y2 = min(aug_frame.shape[0], d.bottom())\n",
    "                    \n",
    "                    if x2 > x1 and y2 > y1:  # Ensure the rectangle is valid\n",
    "                        crop_img = aug_frame[y1:y2, x1:x2]\n",
    "                        if crop_img.size != 0:  # Ensure the cropped image is not empty\n",
    "                            resized_img = cv2.resize(crop_img, (128, 128))\n",
    "                            if label == 'REAL':\n",
    "                                augmented_real_count += 1\n",
    "                                output_path = os.path.join(output_real_folder, f\"{vid.split('.')[0]}_{str(int(frameId))}_aug_{aug_idx}.png\")\n",
    "                                cv2.imwrite(output_path, resized_img)\n",
    "                            elif label == 'FAKE':\n",
    "                                augmented_fake_count += 1\n",
    "                                output_path = os.path.join(output_fake_folder, f\"{vid.split('.')[0]}_{str(int(frameId))}_aug_{aug_idx}.png\")\n",
    "                                cv2.imwrite(output_path, resized_img)\n",
    "    cap.release()"
   ]
  },
  {
   "cell_type": "code",
   "execution_count": 5,
   "metadata": {
    "execution": {
     "iopub.execute_input": "2024-05-21T15:45:34.809914Z",
     "iopub.status.busy": "2024-05-21T15:45:34.809655Z",
     "iopub.status.idle": "2024-05-21T15:45:34.815257Z",
     "shell.execute_reply": "2024-05-21T15:45:34.814311Z",
     "shell.execute_reply.started": "2024-05-21T15:45:34.809872Z"
    }
   },
   "outputs": [
    {
     "name": "stdout",
     "output_type": "stream",
     "text": [
      "Number of original REAL frames: 770\n",
      "Number of original FAKE frames: 3230\n",
      "Number of augmented REAL frames: 2279\n",
      "Number of augmented FAKE frames: 8936\n"
     ]
    }
   ],
   "source": [
    "# Print the number of frames before and after augmenting\n",
    "print(f\"Number of original REAL frames: {original_real_count}\")\n",
    "print(f\"Number of original FAKE frames: {original_fake_count}\")\n",
    "print(f\"Number of augmented REAL frames: {augmented_real_count}\")\n",
    "print(f\"Number of augmented FAKE frames: {augmented_fake_count}\")"
   ]
  },
  {
   "cell_type": "code",
   "execution_count": null,
   "metadata": {},
   "outputs": [],
   "source": [
    "import matplotlib.pyplot as plt\n",
    "\n",
    "# Data for the plots\n",
    "before_augmentation = {\n",
    "    'REAL': 770,\n",
    "    'FAKE': 3230\n",
    "}\n",
    "after_augmentation = {\n",
    "    'REAL': 2279,\n",
    "    'FAKE': 8936\n",
    "}\n",
    "\n",
    "# Bar plot before augmentation\n",
    "plt.figure(figsize=(8, 5))\n",
    "plt.bar(before_augmentation.keys(), before_augmentation.values(), color=['blue', 'orange'])\n",
    "plt.xlabel('Categories')\n",
    "plt.ylabel('Number of Frames')\n",
    "plt.title('Number of Images in REAL and FAKE Class')\n",
    "plt.ylim(0, max(before_augmentation.values()) * 1.1)\n",
    "\n",
    "# Adding text annotations\n",
    "for category, count in before_augmentation.items():\n",
    "    plt.text(category, count + 50, str(count), ha='center', va='bottom', fontsize=12)\n",
    "\n",
    "plt.show()\n",
    "\n",
    "# Bar plot after augmentation\n",
    "plt.figure(figsize=(8, 5))\n",
    "plt.bar(after_augmentation.keys(), after_augmentation.values(), color=['blue', 'orange'])\n",
    "plt.xlabel('Categories')\n",
    "plt.ylabel('Number of Frames')\n",
    "plt.title('Number of Frames After Augmentation')\n",
    "plt.ylim(0, max(after_augmentation.values()) * 1.1)\n",
    "\n",
    "# Adding text annotations\n",
    "for category, count in after_augmentation.items():\n",
    "    plt.text(category, count + 50, str(count), ha='center', va='bottom', fontsize=12)\n",
    "\n",
    "plt.show()"
   ]
  },
  {
   "cell_type": "code",
   "execution_count": 6,
   "metadata": {
    "execution": {
     "iopub.execute_input": "2024-05-21T15:45:34.816974Z",
     "iopub.status.busy": "2024-05-21T15:45:34.816720Z",
     "iopub.status.idle": "2024-05-21T15:45:40.272040Z",
     "shell.execute_reply": "2024-05-21T15:45:40.271399Z",
     "shell.execute_reply.started": "2024-05-21T15:45:34.816911Z"
    }
   },
   "outputs": [],
   "source": [
    "import os\n",
    "import cv2\n",
    "import json\n",
    "import tensorflow as tf\n",
    "import numpy as np\n",
    "import matplotlib.pyplot as plt\n",
    "import seaborn as sn\n",
    "import pandas as pd\n",
    "from tensorflow.keras.preprocessing.image import ImageDataGenerator, img_to_array, load_img\n",
    "from tensorflow.keras.utils import to_categorical\n",
    "from sklearn.model_selection import train_test_split\n",
    "from sklearn.metrics import confusion_matrix"
   ]
  },
  {
   "cell_type": "code",
   "execution_count": 7,
   "metadata": {
    "execution": {
     "iopub.execute_input": "2024-05-21T15:45:40.273833Z",
     "iopub.status.busy": "2024-05-21T15:45:40.273549Z",
     "iopub.status.idle": "2024-05-21T15:45:51.968702Z",
     "shell.execute_reply": "2024-05-21T15:45:51.967739Z",
     "shell.execute_reply.started": "2024-05-21T15:45:40.273781Z"
    }
   },
   "outputs": [
    {
     "name": "stderr",
     "output_type": "stream",
     "text": [
      "Using TensorFlow backend.\n"
     ]
    },
    {
     "name": "stdout",
     "output_type": "stream",
     "text": [
      "Number of training samples: 7565\n",
      "Number of validation samples: 1621\n",
      "Number of test samples: 1622\n"
     ]
    }
   ],
   "source": [
    "import os\n",
    "import numpy as np\n",
    "from keras.preprocessing.image import img_to_array, load_img\n",
    "from keras.utils import to_categorical\n",
    "from sklearn.model_selection import train_test_split\n",
    "\n",
    "input_shape = (128, 128, 3)\n",
    "data_dir = '/kaggle/working/dataset'\n",
    "\n",
    "real_data = [f for f in os.listdir(data_dir + '/real') if f.endswith('.png')]\n",
    "fake_data = [f for f in os.listdir(data_dir + '/fake') if f.endswith('.png')]\n",
    "\n",
    "X = []\n",
    "Y = []\n",
    "\n",
    "for img in real_data:\n",
    "    X.append(img_to_array(load_img(data_dir + '/real/' + img)).flatten() / 255.0)\n",
    "    Y.append(1)\n",
    "for img in fake_data:\n",
    "    X.append(img_to_array(load_img(data_dir + '/fake/' + img)).flatten() / 255.0)\n",
    "    Y.append(0)\n",
    "\n",
    "Y_val_org = Y\n",
    "\n",
    "# Normalization\n",
    "X = np.array(X)\n",
    "Y = to_categorical(Y, 2)\n",
    "\n",
    "# Reshape\n",
    "X = X.reshape(-1, 128, 128, 3)\n",
    "\n",
    "# Initial Train-Test split (80% train, 20% temp)\n",
    "X_train, X_temp, Y_train, Y_temp = train_test_split(X, Y, test_size=0.3, random_state=5)\n",
    "\n",
    "# Further split temp into validation and test (50% each from temp, resulting in 10% each from original dataset)\n",
    "X_val, X_test, Y_val, Y_test = train_test_split(X_temp, Y_temp, test_size=0.5, random_state=5)\n",
    "\n",
    "# Print dataset sizes to verify splits\n",
    "print(f\"Number of training samples: {len(X_train)}\")\n",
    "print(f\"Number of validation samples: {len(X_val)}\")\n",
    "print(f\"Number of test samples: {len(X_test)}\")"
   ]
  },
  {
   "cell_type": "markdown",
   "metadata": {},
   "source": [
    "**Training**"
   ]
  },
  {
   "cell_type": "code",
   "execution_count": 8,
   "metadata": {
    "execution": {
     "iopub.execute_input": "2024-05-21T15:45:51.970313Z",
     "iopub.status.busy": "2024-05-21T15:45:51.970024Z",
     "iopub.status.idle": "2024-05-21T15:45:51.983630Z",
     "shell.execute_reply": "2024-05-21T15:45:51.982941Z",
     "shell.execute_reply.started": "2024-05-21T15:45:51.970262Z"
    }
   },
   "outputs": [],
   "source": [
    "from tensorflow.keras.applications import InceptionResNetV2\n",
    "from tensorflow.keras.layers import Conv2D\n",
    "from tensorflow.keras.layers import MaxPooling2D\n",
    "from tensorflow.keras.layers import Flatten\n",
    "from tensorflow.keras.layers import Dense\n",
    "from tensorflow.keras.layers import Dropout\n",
    "from tensorflow.keras.layers import InputLayer\n",
    "from tensorflow.keras.layers import GlobalAveragePooling2D\n",
    "from tensorflow.keras.models import Sequential\n",
    "from tensorflow.keras.models import Model\n",
    "from tensorflow.keras import optimizers\n",
    "from tensorflow.keras.callbacks import ReduceLROnPlateau, EarlyStopping"
   ]
  },
  {
   "cell_type": "code",
   "execution_count": null,
   "metadata": {},
   "outputs": [],
   "source": []
  },
  {
   "cell_type": "code",
   "execution_count": 23,
   "metadata": {
    "execution": {
     "iopub.execute_input": "2024-05-21T16:18:59.330422Z",
     "iopub.status.busy": "2024-05-21T16:18:59.330026Z",
     "iopub.status.idle": "2024-05-21T16:19:18.345102Z",
     "shell.execute_reply": "2024-05-21T16:19:18.344287Z",
     "shell.execute_reply.started": "2024-05-21T16:18:59.330354Z"
    }
   },
   "outputs": [
    {
     "name": "stdout",
     "output_type": "stream",
     "text": [
      "Downloading data from https://github.com/fchollet/deep-learning-models/releases/download/v0.7/inception_resnet_v2_weights_tf_dim_ordering_tf_kernels_notop.h5\n",
      "219062272/219055592 [==============================] - 2s 0us/step\n",
      "Model: \"sequential_1\"\n",
      "_________________________________________________________________\n",
      "Layer (type)                 Output Shape              Param #   \n",
      "=================================================================\n",
      "inception_resnet_v2 (Model)  (None, 2, 2, 1536)        54336736  \n",
      "_________________________________________________________________\n",
      "self_attention (SelfAttentio (None, 2, 2, 1536)        2951040   \n",
      "_________________________________________________________________\n",
      "global_average_pooling2d_1 ( (None, 1536)              0         \n",
      "_________________________________________________________________\n",
      "dense_5 (Dense)              (None, 512)               786944    \n",
      "_________________________________________________________________\n",
      "dropout_1 (Dropout)          (None, 512)               0         \n",
      "_________________________________________________________________\n",
      "dense_6 (Dense)              (None, 256)               131328    \n",
      "_________________________________________________________________\n",
      "dense_7 (Dense)              (None, 128)               32896     \n",
      "_________________________________________________________________\n",
      "dense_8 (Dense)              (None, 64)                8256      \n",
      "_________________________________________________________________\n",
      "dense_9 (Dense)              (None, 2)                 130       \n",
      "=================================================================\n",
      "Total params: 58,247,330\n",
      "Trainable params: 58,186,786\n",
      "Non-trainable params: 60,544\n",
      "_________________________________________________________________\n"
     ]
    }
   ],
   "source": [
    "import tensorflow as tf\n",
    "from tensorflow.keras.layers import Layer, Input, GlobalAveragePooling2D, Dense, Conv2D\n",
    "from tensorflow.keras.models import Model, Sequential\n",
    "from tensorflow.keras.applications import InceptionResNetV2\n",
    "from tensorflow.keras import optimizers\n",
    "\n",
    "# Define the custom self-attention layer\n",
    "class SelfAttention(Layer):\n",
    "    def __init__(self, **kwargs):\n",
    "        super(SelfAttention, self).__init__(**kwargs)\n",
    "\n",
    "    def build(self, input_shape):\n",
    "        self.query_conv = Conv2D(filters=input_shape[-1] // 8, kernel_size=1)\n",
    "        self.key_conv = Conv2D(filters=input_shape[-1] // 8, kernel_size=1)\n",
    "        self.value_conv = Conv2D(filters=input_shape[-1], kernel_size=1)\n",
    "        super(SelfAttention, self).build(input_shape)\n",
    "\n",
    "    def call(self, inputs):\n",
    "        query = self.query_conv(inputs)\n",
    "        key = self.key_conv(inputs)\n",
    "        value = self.value_conv(inputs)\n",
    "\n",
    "        # Compute attention scores\n",
    "        attention_scores = tf.matmul(tf.reshape(query, [tf.shape(query)[0], -1, tf.shape(query)[-1]]),\n",
    "                                     tf.reshape(key, [tf.shape(key)[0], -1, tf.shape(key)[-1]]),\n",
    "                                     transpose_b=True)\n",
    "        attention_scores = tf.nn.softmax(attention_scores)\n",
    "\n",
    "        # Apply attention scores to value\n",
    "        attention_output = tf.matmul(attention_scores,\n",
    "                                     tf.reshape(value, [tf.shape(value)[0], -1, tf.shape(value)[-1]]))\n",
    "        attention_output = tf.reshape(attention_output, tf.shape(inputs))\n",
    "\n",
    "        return attention_output\n",
    "\n",
    "# Load the InceptionResNetV2 model\n",
    "#input_shape = (299, 299, 3)  # Example input shape, adjust according to your data\n",
    "inception_resnet = InceptionResNetV2(include_top=False, weights='imagenet', input_shape=input_shape)\n",
    "inception_resnet.trainable = True\n",
    "\n",
    "# Create a Sequential model and add the InceptionResNetV2 model\n",
    "model = Sequential()\n",
    "model.add(inception_resnet)\n",
    "\n",
    "# Add the custom self-attention layer\n",
    "model.add(SelfAttention())\n",
    "\n",
    "# Add pooling and dense layers\n",
    "model.add(GlobalAveragePooling2D())\n",
    "\n",
    "model.add(Dense(units=512, activation='relu'))\n",
    "model.add(Dropout(0.5))\n",
    "model.add(Dense(units=256, activation='relu'))\n",
    "model.add(Dense(units=128, activation='relu'))\n",
    "model.add(Dense(units=64, activation='relu'))\n",
    "model.add(Dense(units=2, activation='sigmoid'))\n",
    "\n",
    "# Compile the model\n",
    "model.compile(\n",
    "    loss='binary_crossentropy',\n",
    "    optimizer=optimizers.Adam(lr=1e-5, beta_1=0.9, beta_2=0.999, epsilon=None, decay=0.0, amsgrad=False),\n",
    "    metrics=['accuracy']\n",
    ")\n",
    "\n",
    "# Print the model summary\n",
    "model.summary()"
   ]
  },
  {
   "cell_type": "code",
   "execution_count": 29,
   "metadata": {
    "execution": {
     "iopub.execute_input": "2024-05-21T16:34:45.665862Z",
     "iopub.status.busy": "2024-05-21T16:34:45.665522Z",
     "iopub.status.idle": "2024-05-21T16:45:54.775726Z",
     "shell.execute_reply": "2024-05-21T16:45:54.775069Z",
     "shell.execute_reply.started": "2024-05-21T16:34:45.665801Z"
    }
   },
   "outputs": [
    {
     "name": "stdout",
     "output_type": "stream",
     "text": [
      "Train on 7565 samples, validate on 1621 samples\n",
      "Epoch 1/20\n",
      "7565/7565 [==============================] - 33s 4ms/sample - loss: 0.0134 - accuracy: 0.9948 - val_loss: 0.2170 - val_accuracy: 0.9593\n",
      "Epoch 2/20\n",
      "7565/7565 [==============================] - 33s 4ms/sample - loss: 0.0114 - accuracy: 0.9962 - val_loss: 0.2386 - val_accuracy: 0.9577\n",
      "Epoch 3/20\n",
      "7565/7565 [==============================] - 33s 4ms/sample - loss: 0.0184 - accuracy: 0.9940 - val_loss: 0.2335 - val_accuracy: 0.9587\n",
      "Epoch 4/20\n",
      "7565/7565 [==============================] - 34s 4ms/sample - loss: 0.0094 - accuracy: 0.9970 - val_loss: 0.2138 - val_accuracy: 0.9618\n",
      "Epoch 5/20\n",
      "7565/7565 [==============================] - 33s 4ms/sample - loss: 0.0125 - accuracy: 0.9960 - val_loss: 0.2359 - val_accuracy: 0.9614\n",
      "Epoch 6/20\n",
      "7565/7565 [==============================] - 34s 4ms/sample - loss: 0.0115 - accuracy: 0.9963 - val_loss: 0.2466 - val_accuracy: 0.9645\n",
      "Epoch 7/20\n",
      "7565/7565 [==============================] - 33s 4ms/sample - loss: 0.0121 - accuracy: 0.9954 - val_loss: 0.2142 - val_accuracy: 0.9577\n",
      "Epoch 8/20\n",
      "7565/7565 [==============================] - 33s 4ms/sample - loss: 0.0098 - accuracy: 0.9972 - val_loss: 0.2348 - val_accuracy: 0.9630\n",
      "Epoch 9/20\n",
      "7565/7565 [==============================] - 33s 4ms/sample - loss: 0.0090 - accuracy: 0.9968 - val_loss: 0.1999 - val_accuracy: 0.9627\n",
      "Epoch 10/20\n",
      "7565/7565 [==============================] - 33s 4ms/sample - loss: 0.0095 - accuracy: 0.9974 - val_loss: 0.1941 - val_accuracy: 0.9605\n",
      "Epoch 11/20\n",
      "7565/7565 [==============================] - 33s 4ms/sample - loss: 0.0064 - accuracy: 0.9979 - val_loss: 0.1828 - val_accuracy: 0.9614\n",
      "Epoch 12/20\n",
      "7565/7565 [==============================] - 33s 4ms/sample - loss: 0.0063 - accuracy: 0.9980 - val_loss: 0.1753 - val_accuracy: 0.9633\n",
      "Epoch 13/20\n",
      "7565/7565 [==============================] - 33s 4ms/sample - loss: 0.0096 - accuracy: 0.9973 - val_loss: 0.1605 - val_accuracy: 0.9661\n",
      "Epoch 14/20\n",
      "7565/7565 [==============================] - 33s 4ms/sample - loss: 0.0078 - accuracy: 0.9974 - val_loss: 0.2122 - val_accuracy: 0.9590\n",
      "Epoch 15/20\n",
      "7565/7565 [==============================] - 33s 4ms/sample - loss: 0.0079 - accuracy: 0.9978 - val_loss: 0.1703 - val_accuracy: 0.9581\n",
      "Epoch 16/20\n",
      "7565/7565 [==============================] - 33s 4ms/sample - loss: 0.0047 - accuracy: 0.9986 - val_loss: 0.1717 - val_accuracy: 0.9633\n",
      "Epoch 17/20\n",
      "7565/7565 [==============================] - 33s 4ms/sample - loss: 0.0053 - accuracy: 0.9981 - val_loss: 0.1833 - val_accuracy: 0.9618\n",
      "Epoch 18/20\n",
      "7565/7565 [==============================] - 33s 4ms/sample - loss: 0.0086 - accuracy: 0.9973 - val_loss: 0.1800 - val_accuracy: 0.9602\n",
      "Epoch 19/20\n",
      "7565/7565 [==============================] - 34s 4ms/sample - loss: 0.0027 - accuracy: 0.9992 - val_loss: 0.1824 - val_accuracy: 0.9596\n",
      "Epoch 20/20\n",
      "7565/7565 [==============================] - 33s 4ms/sample - loss: 0.0037 - accuracy: 0.9991 - val_loss: 0.2016 - val_accuracy: 0.9611\n"
     ]
    }
   ],
   "source": [
    "# Define the number of epochs\n",
    "EPOCHS = 20\n",
    "\n",
    "# Train the model for 10 epochs\n",
    "history = model.fit(\n",
    "    X_train, Y_train,\n",
    "    batch_size=64,\n",
    "    epochs=EPOCHS,\n",
    "    validation_data=(X_val, Y_val),\n",
    "    verbose=1\n",
    ")"
   ]
  },
  {
   "cell_type": "markdown",
   "metadata": {},
   "source": [
    "**Test Accuracy**"
   ]
  },
  {
   "cell_type": "code",
   "execution_count": 30,
   "metadata": {
    "execution": {
     "iopub.execute_input": "2024-05-21T16:45:54.778210Z",
     "iopub.status.busy": "2024-05-21T16:45:54.777921Z",
     "iopub.status.idle": "2024-05-21T16:45:59.213487Z",
     "shell.execute_reply": "2024-05-21T16:45:59.212630Z",
     "shell.execute_reply.started": "2024-05-21T16:45:54.778162Z"
    }
   },
   "outputs": [
    {
     "name": "stdout",
     "output_type": "stream",
     "text": [
      "1622/1622 [==============================] - 4s 3ms/sample - loss: 0.1559 - accuracy: 0.9723\n",
      "Test Loss: 0.15593249531746722\n",
      "Test Accuracy: 0.9722564816474915\n"
     ]
    }
   ],
   "source": [
    "from sklearn.metrics import confusion_matrix, classification_report\n",
    "\n",
    "# Test the model\n",
    "test_loss, test_accuracy = model.evaluate(X_test, Y_test)\n",
    "print(f\"Test Loss: {test_loss}\")\n",
    "print(f\"Test Accuracy: {test_accuracy}\")"
   ]
  },
  {
   "cell_type": "markdown",
   "metadata": {},
   "source": [
    "**Plot**"
   ]
  },
  {
   "cell_type": "code",
   "execution_count": 31,
   "metadata": {
    "execution": {
     "iopub.execute_input": "2024-05-21T16:45:59.215229Z",
     "iopub.status.busy": "2024-05-21T16:45:59.214952Z",
     "iopub.status.idle": "2024-05-21T16:45:59.788454Z",
     "shell.execute_reply": "2024-05-21T16:45:59.787366Z",
     "shell.execute_reply.started": "2024-05-21T16:45:59.215181Z"
    }
   },
   "outputs": [
    {
     "data": {
      "image/png": "[encoded data removed]",
      "text/plain": [
       "<Figure size 432x288 with 1 Axes>"
      ]
     },
     "metadata": {
      "needs_background": "light"
     },
     "output_type": "display_data"
    },
    {
     "data": {
      "image/png": "[encoded data removed]",
      "text/plain": [
       "<Figure size 432x288 with 1 Axes>"
      ]
     },
     "metadata": {
      "needs_background": "light"
     },
     "output_type": "display_data"
    }
   ],
   "source": [
    "import matplotlib.pyplot as plt\n",
    "\n",
    "# Plot training & validation loss values\n",
    "plt.plot(history.history['loss'])\n",
    "plt.plot(history.history['val_loss'])\n",
    "plt.title('Model Loss')\n",
    "plt.ylabel('Loss')\n",
    "plt.xlabel('Epoch')\n",
    "plt.legend(['Train', 'Validation'], loc='upper left')\n",
    "plt.show()\n",
    "\n",
    "# Plot training & validation accuracy values\n",
    "plt.plot(history.history['accuracy'])\n",
    "plt.plot(history.history['val_accuracy'])\n",
    "plt.title('Model Accuracy')\n",
    "plt.ylabel('Accuracy')\n",
    "plt.xlabel('Epoch')\n",
    "plt.legend(['Train', 'Validation'], loc='upper left')\n",
    "plt.show()"
   ]
  },
  {
   "cell_type": "markdown",
   "metadata": {},
   "source": [
    "**Confusion matrix**"
   ]
  },
  {
   "cell_type": "code",
   "execution_count": 32,
   "metadata": {
    "execution": {
     "iopub.execute_input": "2024-05-21T16:45:59.790913Z",
     "iopub.status.busy": "2024-05-21T16:45:59.790318Z",
     "iopub.status.idle": "2024-05-21T16:46:04.116173Z",
     "shell.execute_reply": "2024-05-21T16:46:04.115413Z",
     "shell.execute_reply.started": "2024-05-21T16:45:59.790844Z"
    }
   },
   "outputs": [
    {
     "name": "stdout",
     "output_type": "stream",
     "text": [
      "Confusion Matrix:\n",
      "[[1279   15]\n",
      " [  30  298]]\n"
     ]
    }
   ],
   "source": [
    "# Predict classes for test data\n",
    "Y_pred = model.predict(X_test)\n",
    "Y_pred_classes = np.argmax(Y_pred, axis=1)\n",
    "Y_true = np.argmax(Y_test, axis=1)\n",
    "\n",
    "# Confusion Matrix\n",
    "conf_matrix = confusion_matrix(Y_true, Y_pred_classes)\n",
    "print(\"Confusion Matrix:\")\n",
    "print(conf_matrix)"
   ]
  },
  {
   "cell_type": "markdown",
   "metadata": {},
   "source": [
    "**Classification Report**"
   ]
  },
  {
   "cell_type": "code",
   "execution_count": 33,
   "metadata": {
    "execution": {
     "iopub.execute_input": "2024-05-21T16:46:04.118768Z",
     "iopub.status.busy": "2024-05-21T16:46:04.118503Z",
     "iopub.status.idle": "2024-05-21T16:46:04.129445Z",
     "shell.execute_reply": "2024-05-21T16:46:04.128524Z",
     "shell.execute_reply.started": "2024-05-21T16:46:04.118715Z"
    }
   },
   "outputs": [
    {
     "name": "stdout",
     "output_type": "stream",
     "text": [
      "Classification Report:\n",
      "              precision    recall  f1-score   support\n",
      "\n",
      "           0       0.98      0.99      0.98      1294\n",
      "           1       0.95      0.91      0.93       328\n",
      "\n",
      "    accuracy                           0.97      1622\n",
      "   macro avg       0.96      0.95      0.96      1622\n",
      "weighted avg       0.97      0.97      0.97      1622\n",
      "\n"
     ]
    }
   ],
   "source": [
    "# Classification Report\n",
    "class_report = classification_report(Y_true, Y_pred_classes)\n",
    "print(\"Classification Report:\")\n",
    "print(class_report)"
   ]
  },
  {
   "cell_type": "code",
   "execution_count": null,
   "metadata": {},
   "outputs": [],
   "source": []
  },
  {
   "cell_type": "code",
   "execution_count": null,
   "metadata": {},
   "outputs": [],
   "source": []
  }
 ],
 "metadata": {
  "kaggle": {
   "accelerator": "gpu",
   "dataSources": [
    {
     "databundleVersionId": 858837,
     "sourceId": 16880,
     "sourceType": "competition"
    },
    {
     "datasetId": 446509,
     "sourceId": 845111,
     "sourceType": "datasetVersion"
    }
   ],
   "dockerImageVersionId": 29845,
   "isGpuEnabled": true,
   "isInternetEnabled": true,
   "language": "python",
   "sourceType": "notebook"
  },
  "kernelspec": {
   "display_name": "Python 3 (ipykernel)",
   "language": "python",
   "name": "python3"
  },
  "language_info": {
   "codemirror_mode": {
    "name": "ipython",
    "version": 3
   },
   "file_extension": ".py",
   "mimetype": "text/x-python",
   "name": "python",
   "nbconvert_exporter": "python",
   "pygments_lexer": "ipython3",
   "version": "3.9.13"
  }
 },
 "nbformat": 4,
 "nbformat_minor": 4
}
