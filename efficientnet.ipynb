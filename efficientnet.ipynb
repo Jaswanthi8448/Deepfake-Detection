{
 "cells": [
  {
   "cell_type": "code",
   "execution_count": 3,
   "metadata": {
    "execution": {
     "iopub.execute_input": "2024-05-21T16:14:36.803503Z",
     "iopub.status.busy": "2024-05-21T16:14:36.803173Z",
     "iopub.status.idle": "2024-05-21T16:14:36.808444Z",
     "shell.execute_reply": "2024-05-21T16:14:36.807472Z",
     "shell.execute_reply.started": "2024-05-21T16:14:36.803456Z"
    }
   },
   "outputs": [
    {
     "name": "stdout",
     "output_type": "stream",
     "text": [
      "2.6.2\n"
     ]
    }
   ],
   "source": [
    "import tensorflow as tf\n",
    "print(tf.__version__)"
   ]
  },
  {
   "cell_type": "code",
   "execution_count": 4,
   "metadata": {
    "execution": {
     "iopub.execute_input": "2024-05-21T16:14:36.810908Z",
     "iopub.status.busy": "2024-05-21T16:14:36.810543Z",
     "iopub.status.idle": "2024-05-21T16:14:43.786792Z",
     "shell.execute_reply": "2024-05-21T16:14:43.785568Z",
     "shell.execute_reply.started": "2024-05-21T16:14:36.810849Z"
    }
   },
   "outputs": [
    {
     "name": "stdout",
     "output_type": "stream",
     "text": [
      "Requirement already up-to-date: tensorflow in /opt/conda/lib/python3.6/site-packages (2.6.2)\n",
      "Requirement already satisfied, skipping upgrade: protobuf>=3.9.2 in /opt/conda/lib/python3.6/site-packages (from tensorflow) (3.11.0)\n",
      "Requirement already satisfied, skipping upgrade: tensorflow-estimator<2.7,>=2.6.0 in /opt/conda/lib/python3.6/site-packages (from tensorflow) (2.6.0)\n",
      "Requirement already satisfied, skipping upgrade: termcolor~=1.1.0 in /opt/conda/lib/python3.6/site-packages (from tensorflow) (1.1.0)\n",
      "Requirement already satisfied, skipping upgrade: flatbuffers~=1.12.0 in /opt/conda/lib/python3.6/site-packages (from tensorflow) (1.12)\n",
      "Requirement already satisfied, skipping upgrade: clang~=5.0 in /opt/conda/lib/python3.6/site-packages (from tensorflow) (5.0)\n",
      "Requirement already satisfied, skipping upgrade: wrapt~=1.12.1 in /opt/conda/lib/python3.6/site-packages (from tensorflow) (1.12.1)\n",
      "Requirement already satisfied, skipping upgrade: tensorboard<2.7,>=2.6.0 in /opt/conda/lib/python3.6/site-packages (from tensorflow) (2.6.0)\n",
      "Requirement already satisfied, skipping upgrade: keras<2.7,>=2.6.0 in /opt/conda/lib/python3.6/site-packages (from tensorflow) (2.6.0)\n",
      "Requirement already satisfied, skipping upgrade: google-pasta~=0.2 in /opt/conda/lib/python3.6/site-packages (from tensorflow) (0.2.0)\n",
      "Requirement already satisfied, skipping upgrade: six~=1.15.0 in /opt/conda/lib/python3.6/site-packages (from tensorflow) (1.15.0)\n",
      "Requirement already satisfied, skipping upgrade: opt-einsum~=3.3.0 in /opt/conda/lib/python3.6/site-packages (from tensorflow) (3.3.0)\n",
      "Requirement already satisfied, skipping upgrade: keras-preprocessing~=1.1.2 in /opt/conda/lib/python3.6/site-packages (from tensorflow) (1.1.2)\n",
      "Requirement already satisfied, skipping upgrade: wheel~=0.35 in /opt/conda/lib/python3.6/site-packages (from tensorflow) (0.37.1)\n",
      "Requirement already satisfied, skipping upgrade: grpcio<2.0,>=1.37.0 in /opt/conda/lib/python3.6/site-packages (from tensorflow) (1.48.2)\n",
      "Requirement already satisfied, skipping upgrade: typing-extensions~=3.7.4 in /opt/conda/lib/python3.6/site-packages (from tensorflow) (3.7.4.3)\n",
      "Requirement already satisfied, skipping upgrade: gast==0.4.0 in /opt/conda/lib/python3.6/site-packages (from tensorflow) (0.4.0)\n",
      "Requirement already satisfied, skipping upgrade: h5py~=3.1.0 in /opt/conda/lib/python3.6/site-packages (from tensorflow) (3.1.0)\n",
      "Requirement already satisfied, skipping upgrade: numpy~=1.19.2 in /opt/conda/lib/python3.6/site-packages (from tensorflow) (1.19.5)\n",
      "Requirement already satisfied, skipping upgrade: absl-py~=0.10 in /opt/conda/lib/python3.6/site-packages (from tensorflow) (0.15.0)\n",
      "Requirement already satisfied, skipping upgrade: astunparse~=1.6.3 in /opt/conda/lib/python3.6/site-packages (from tensorflow) (1.6.3)\n",
      "Requirement already satisfied, skipping upgrade: setuptools in /opt/conda/lib/python3.6/site-packages (from protobuf>=3.9.2->tensorflow) (42.0.1.post20191125)\n",
      "Requirement already satisfied, skipping upgrade: google-auth-oauthlib<0.5,>=0.4.1 in /opt/conda/lib/python3.6/site-packages (from tensorboard<2.7,>=2.6.0->tensorflow) (0.4.1)\n",
      "Requirement already satisfied, skipping upgrade: google-auth<2,>=1.6.3 in /opt/conda/lib/python3.6/site-packages (from tensorboard<2.7,>=2.6.0->tensorflow) (1.7.1)\n",
      "Requirement already satisfied, skipping upgrade: werkzeug>=0.11.15 in /opt/conda/lib/python3.6/site-packages (from tensorboard<2.7,>=2.6.0->tensorflow) (0.16.0)\n",
      "Requirement already satisfied, skipping upgrade: markdown>=2.6.8 in /opt/conda/lib/python3.6/site-packages (from tensorboard<2.7,>=2.6.0->tensorflow) (3.1.1)\n",
      "Requirement already satisfied, skipping upgrade: tensorboard-data-server<0.7.0,>=0.6.0 in /opt/conda/lib/python3.6/site-packages (from tensorboard<2.7,>=2.6.0->tensorflow) (0.6.1)\n",
      "Requirement already satisfied, skipping upgrade: requests<3,>=2.21.0 in /opt/conda/lib/python3.6/site-packages (from tensorboard<2.7,>=2.6.0->tensorflow) (2.22.0)\n",
      "Requirement already satisfied, skipping upgrade: tensorboard-plugin-wit>=1.6.0 in /opt/conda/lib/python3.6/site-packages (from tensorboard<2.7,>=2.6.0->tensorflow) (1.8.1)\n",
      "Requirement already satisfied, skipping upgrade: cached-property; python_version < \"3.8\" in /opt/conda/lib/python3.6/site-packages (from h5py~=3.1.0->tensorflow) (1.5.2)\n",
      "Requirement already satisfied, skipping upgrade: requests-oauthlib>=0.7.0 in /opt/conda/lib/python3.6/site-packages (from google-auth-oauthlib<0.5,>=0.4.1->tensorboard<2.7,>=2.6.0->tensorflow) (1.3.0)\n",
      "Requirement already satisfied, skipping upgrade: pyasn1-modules>=0.2.1 in /opt/conda/lib/python3.6/site-packages (from google-auth<2,>=1.6.3->tensorboard<2.7,>=2.6.0->tensorflow) (0.2.7)\n",
      "Requirement already satisfied, skipping upgrade: rsa<4.1,>=3.1.4 in /opt/conda/lib/python3.6/site-packages (from google-auth<2,>=1.6.3->tensorboard<2.7,>=2.6.0->tensorflow) (4.0)\n",
      "Requirement already satisfied, skipping upgrade: cachetools<3.2,>=2.0.0 in /opt/conda/lib/python3.6/site-packages (from google-auth<2,>=1.6.3->tensorboard<2.7,>=2.6.0->tensorflow) (3.1.1)\n",
      "Requirement already satisfied, skipping upgrade: chardet<3.1.0,>=3.0.2 in /opt/conda/lib/python3.6/site-packages (from requests<3,>=2.21.0->tensorboard<2.7,>=2.6.0->tensorflow) (3.0.4)\n",
      "Requirement already satisfied, skipping upgrade: idna<2.9,>=2.5 in /opt/conda/lib/python3.6/site-packages (from requests<3,>=2.21.0->tensorboard<2.7,>=2.6.0->tensorflow) (2.8)\n",
      "Requirement already satisfied, skipping upgrade: urllib3!=1.25.0,!=1.25.1,<1.26,>=1.21.1 in /opt/conda/lib/python3.6/site-packages (from requests<3,>=2.21.0->tensorboard<2.7,>=2.6.0->tensorflow) (1.24.2)\n",
      "Requirement already satisfied, skipping upgrade: certifi>=2017.4.17 in /opt/conda/lib/python3.6/site-packages (from requests<3,>=2.21.0->tensorboard<2.7,>=2.6.0->tensorflow) (2019.9.11)\n",
      "Requirement already satisfied, skipping upgrade: oauthlib>=3.0.0 in /opt/conda/lib/python3.6/site-packages (from requests-oauthlib>=0.7.0->google-auth-oauthlib<0.5,>=0.4.1->tensorboard<2.7,>=2.6.0->tensorflow) (3.1.0)\n",
      "Requirement already satisfied, skipping upgrade: pyasn1<0.5.0,>=0.4.6 in /opt/conda/lib/python3.6/site-packages (from pyasn1-modules>=0.2.1->google-auth<2,>=1.6.3->tensorboard<2.7,>=2.6.0->tensorflow) (0.4.8)\n",
      "Note: you may need to restart the kernel to use updated packages.\n"
     ]
    }
   ],
   "source": [
    "pip install --upgrade tensorflow"
   ]
  },
  {
   "cell_type": "code",
   "execution_count": 21,
   "metadata": {
    "execution": {
     "iopub.execute_input": "2024-05-22T00:15:46.825955Z",
     "iopub.status.busy": "2024-05-22T00:15:46.825612Z",
     "iopub.status.idle": "2024-05-22T00:15:53.192716Z",
     "shell.execute_reply": "2024-05-22T00:15:53.191697Z",
     "shell.execute_reply.started": "2024-05-22T00:15:46.825896Z"
    }
   },
   "outputs": [
    {
     "name": "stdout",
     "output_type": "stream",
     "text": [
      "Requirement already satisfied: efficientnet in /opt/conda/lib/python3.6/site-packages (1.1.1)\n",
      "Requirement already satisfied: keras-applications<=1.0.8,>=1.0.7 in /opt/conda/lib/python3.6/site-packages (from efficientnet) (1.0.8)\n",
      "Requirement already satisfied: scikit-image in /opt/conda/lib/python3.6/site-packages (from efficientnet) (0.16.2)\n",
      "Requirement already satisfied: numpy>=1.9.1 in /opt/conda/lib/python3.6/site-packages (from keras-applications<=1.0.8,>=1.0.7->efficientnet) (1.19.5)\n",
      "Requirement already satisfied: h5py in /opt/conda/lib/python3.6/site-packages (from keras-applications<=1.0.8,>=1.0.7->efficientnet) (3.1.0)\n",
      "Requirement already satisfied: pillow>=4.3.0 in /opt/conda/lib/python3.6/site-packages (from scikit-image->efficientnet) (5.4.1)\n",
      "Requirement already satisfied: networkx>=2.0 in /opt/conda/lib/python3.6/site-packages (from scikit-image->efficientnet) (2.4)\n",
      "Requirement already satisfied: imageio>=2.3.0 in /opt/conda/lib/python3.6/site-packages (from scikit-image->efficientnet) (2.6.1)\n",
      "Requirement already satisfied: matplotlib!=3.0.0,>=2.0.0 in /opt/conda/lib/python3.6/site-packages (from scikit-image->efficientnet) (3.0.3)\n",
      "Requirement already satisfied: PyWavelets>=0.4.0 in /opt/conda/lib/python3.6/site-packages (from scikit-image->efficientnet) (1.1.1)\n",
      "Requirement already satisfied: scipy>=0.19.0 in /opt/conda/lib/python3.6/site-packages (from scikit-image->efficientnet) (1.3.3)\n",
      "Requirement already satisfied: cached-property; python_version < \"3.8\" in /opt/conda/lib/python3.6/site-packages (from h5py->keras-applications<=1.0.8,>=1.0.7->efficientnet) (1.5.2)\n",
      "Requirement already satisfied: decorator>=4.3.0 in /opt/conda/lib/python3.6/site-packages (from networkx>=2.0->scikit-image->efficientnet) (4.4.1)\n",
      "Requirement already satisfied: cycler>=0.10 in /opt/conda/lib/python3.6/site-packages (from matplotlib!=3.0.0,>=2.0.0->scikit-image->efficientnet) (0.10.0)\n",
      "Requirement already satisfied: kiwisolver>=1.0.1 in /opt/conda/lib/python3.6/site-packages (from matplotlib!=3.0.0,>=2.0.0->scikit-image->efficientnet) (1.1.0)\n",
      "Requirement already satisfied: pyparsing!=2.0.4,!=2.1.2,!=2.1.6,>=2.0.1 in /opt/conda/lib/python3.6/site-packages (from matplotlib!=3.0.0,>=2.0.0->scikit-image->efficientnet) (2.4.5)\n",
      "Requirement already satisfied: python-dateutil>=2.1 in /opt/conda/lib/python3.6/site-packages (from matplotlib!=3.0.0,>=2.0.0->scikit-image->efficientnet) (2.8.0)\n",
      "Requirement already satisfied: six in /opt/conda/lib/python3.6/site-packages (from cycler>=0.10->matplotlib!=3.0.0,>=2.0.0->scikit-image->efficientnet) (1.15.0)\n",
      "Requirement already satisfied: setuptools in /opt/conda/lib/python3.6/site-packages (from kiwisolver>=1.0.1->matplotlib!=3.0.0,>=2.0.0->scikit-image->efficientnet) (42.0.1.post20191125)\n",
      "Note: you may need to restart the kernel to use updated packages.\n"
     ]
    }
   ],
   "source": [
    "pip install efficientnet"
   ]
  },
  {
   "cell_type": "code",
   "execution_count": 6,
   "metadata": {
    "execution": {
     "iopub.execute_input": "2024-05-21T16:14:49.872147Z",
     "iopub.status.busy": "2024-05-21T16:14:49.871790Z",
     "iopub.status.idle": "2024-05-21T16:14:50.075798Z",
     "shell.execute_reply": "2024-05-21T16:14:50.074888Z",
     "shell.execute_reply.started": "2024-05-21T16:14:49.872082Z"
    }
   },
   "outputs": [],
   "source": [
    "from tensorflow.keras.applications import EfficientNetB0"
   ]
  },
  {
   "cell_type": "markdown",
   "metadata": {},
   "source": [
    "## Restrat Kernel and run from below code"
   ]
  },
  {
   "cell_type": "code",
   "execution_count": 7,
   "metadata": {
    "execution": {
     "iopub.execute_input": "2024-05-21T16:14:50.077575Z",
     "iopub.status.busy": "2024-05-21T16:14:50.077260Z",
     "iopub.status.idle": "2024-05-21T16:20:30.267306Z",
     "shell.execute_reply": "2024-05-21T16:20:30.266498Z",
     "shell.execute_reply.started": "2024-05-21T16:14:50.077522Z"
    }
   },
   "outputs": [
    {
     "name": "stdout",
     "output_type": "stream",
     "text": [
      "Processing /kaggle/input/dlibpkg/dlib-19.19.0\n",
      "Building wheels for collected packages: dlib\n",
      "  Building wheel for dlib (setup.py) ... \u001b[?25ldone\n",
      "\u001b[?25h  Created wheel for dlib: filename=dlib-19.19.0-cp36-cp36m-linux_x86_64.whl size=4086373 sha256=718897bb434edc2b17feb9415ad887d8ba082c99506e6eab563ce3d128581291\n",
      "  Stored in directory: /root/.cache/pip/wheels/f3/da/18/38136f7dd8e242c1cc2236d574a50f34463b8c59aab887dd79\n",
      "Successfully built dlib\n",
      "Installing collected packages: dlib\n",
      "Successfully installed dlib-19.19.0\n"
     ]
    }
   ],
   "source": [
    "!pip install '/kaggle/input/dlibpkg/dlib-19.19.0'"
   ]
  },
  {
   "cell_type": "code",
   "execution_count": 8,
   "metadata": {
    "execution": {
     "iopub.execute_input": "2024-05-21T16:20:30.269391Z",
     "iopub.status.busy": "2024-05-21T16:20:30.269077Z",
     "iopub.status.idle": "2024-05-21T16:20:30.741237Z",
     "shell.execute_reply": "2024-05-21T16:20:30.740321Z",
     "shell.execute_reply.started": "2024-05-21T16:20:30.269343Z"
    }
   },
   "outputs": [],
   "source": [
    "import dlib\n",
    "import cv2\n",
    "import os\n",
    "import re\n",
    "import json\n",
    "from pylab import *\n",
    "from PIL import Image, ImageChops, ImageEnhance"
   ]
  },
  {
   "cell_type": "code",
   "execution_count": 9,
   "metadata": {
    "execution": {
     "iopub.execute_input": "2024-05-21T16:20:30.743066Z",
     "iopub.status.busy": "2024-05-21T16:20:30.742809Z",
     "iopub.status.idle": "2024-05-21T16:20:31.218979Z",
     "shell.execute_reply": "2024-05-21T16:20:31.218016Z",
     "shell.execute_reply.started": "2024-05-21T16:20:30.743026Z"
    }
   },
   "outputs": [],
   "source": [
    "train_frame_folder = '/kaggle/input/deepfake-detection-challenge/train_sample_videos'\n",
    "output_real_folder = '/kaggle/working/dataset/real'\n",
    "output_fake_folder = '/kaggle/working/dataset/fake'\n",
    "\n",
    "# Create directories if they do not exist\n",
    "os.makedirs(output_real_folder, exist_ok=True)\n",
    "os.makedirs(output_fake_folder, exist_ok=True)\n",
    "\n",
    "# Load metadata\n",
    "with open(os.path.join(train_frame_folder, 'metadata.json'), 'r') as file:\n",
    "    data = json.load(file)\n",
    "\n",
    "# Get list of video files\n",
    "list_of_train_data = [f for f in os.listdir(train_frame_folder) if f.endswith('.mp4')]\n",
    "\n",
    "# Initialize the face detector\n",
    "detector = dlib.get_frontal_face_detector()\n",
    "\n",
    "# Counters for frames and images\n",
    "original_real_count = 0\n",
    "original_fake_count = 0\n",
    "augmented_real_count = 0\n",
    "augmented_fake_count = 0"
   ]
  },
  {
   "cell_type": "code",
   "execution_count": 10,
   "metadata": {
    "execution": {
     "iopub.execute_input": "2024-05-21T16:20:31.220958Z",
     "iopub.status.busy": "2024-05-21T16:20:31.220613Z",
     "iopub.status.idle": "2024-05-21T17:33:37.018210Z",
     "shell.execute_reply": "2024-05-21T17:33:37.017349Z",
     "shell.execute_reply.started": "2024-05-21T16:20:31.220896Z"
    }
   },
   "outputs": [],
   "source": [
    "def augment_frame(frame):\n",
    "    # Example augmentations: flipping, rotation\n",
    "    augmented_frames = []\n",
    "    \n",
    "    # Original frame\n",
    "    augmented_frames.append(frame)\n",
    "    \n",
    "    # Horizontal flip\n",
    "    flip_frame = cv2.flip(frame, 1)\n",
    "    augmented_frames.append(flip_frame)\n",
    "    \n",
    "    # Shift by 15 pixels to the right\n",
    "    shift_M = np.float32([[1, 0, 15], [0, 1, 0]])\n",
    "    shift_frame = cv2.warpAffine(frame, shift_M, (frame.shape[1], frame.shape[0]))\n",
    "    augmented_frames.append(shift_frame)\n",
    "    \n",
    "    return augmented_frames\n",
    "\n",
    "for vid in list_of_train_data:\n",
    "    cap = cv2.VideoCapture(os.path.join(train_frame_folder, vid))\n",
    "    frameRate = cap.get(5)\n",
    "    while cap.isOpened():\n",
    "        frameId = cap.get(1)\n",
    "        ret, frame = cap.read()\n",
    "        if not ret:\n",
    "            break\n",
    "        if frameId % ((int(frameRate) + 1) * 1) == 0:\n",
    "            label = data[vid]['label']\n",
    "            if label == 'REAL':\n",
    "                original_real_count += 1\n",
    "            elif label == 'FAKE':\n",
    "                original_fake_count += 1\n",
    "\n",
    "            augmented_frames = augment_frame(frame)\n",
    "            for aug_idx, aug_frame in enumerate(augmented_frames):\n",
    "                face_rects, scores, idx = detector.run(aug_frame, 0)\n",
    "                for i, d in enumerate(face_rects):\n",
    "                    x1 = max(0, d.left())\n",
    "                    y1 = max(0, d.top())\n",
    "                    x2 = min(aug_frame.shape[1], d.right())\n",
    "                    y2 = min(aug_frame.shape[0], d.bottom())\n",
    "                    \n",
    "                    if x2 > x1 and y2 > y1:  # Ensure the rectangle is valid\n",
    "                        crop_img = aug_frame[y1:y2, x1:x2]\n",
    "                        if crop_img.size != 0:  # Ensure the cropped image is not empty\n",
    "                            resized_img = cv2.resize(crop_img, (128, 128))\n",
    "                            if label == 'REAL':\n",
    "                                augmented_real_count += 1\n",
    "                                output_path = os.path.join(output_real_folder, f\"{vid.split('.')[0]}_{str(int(frameId))}_aug_{aug_idx}.png\")\n",
    "                                cv2.imwrite(output_path, resized_img)\n",
    "                            elif label == 'FAKE':\n",
    "                                augmented_fake_count += 1\n",
    "                                output_path = os.path.join(output_fake_folder, f\"{vid.split('.')[0]}_{str(int(frameId))}_aug_{aug_idx}.png\")\n",
    "                                cv2.imwrite(output_path, resized_img)\n",
    "    cap.release()"
   ]
  },
  {
   "cell_type": "code",
   "execution_count": 11,
   "metadata": {
    "execution": {
     "iopub.execute_input": "2024-05-21T17:33:37.019770Z",
     "iopub.status.busy": "2024-05-21T17:33:37.019545Z",
     "iopub.status.idle": "2024-05-21T17:33:37.024810Z",
     "shell.execute_reply": "2024-05-21T17:33:37.024076Z",
     "shell.execute_reply.started": "2024-05-21T17:33:37.019732Z"
    }
   },
   "outputs": [
    {
     "name": "stdout",
     "output_type": "stream",
     "text": [
      "Number of original REAL frames: 770\n",
      "Number of original FAKE frames: 3230\n",
      "Number of augmented REAL frames: 2279\n",
      "Number of augmented FAKE frames: 8936\n"
     ]
    }
   ],
   "source": [
    "# Print the number of frames before and after augmenting\n",
    "print(f\"Number of original REAL frames: {original_real_count}\")\n",
    "print(f\"Number of original FAKE frames: {original_fake_count}\")\n",
    "print(f\"Number of augmented REAL frames: {augmented_real_count}\")\n",
    "print(f\"Number of augmented FAKE frames: {augmented_fake_count}\")"
   ]
  },
  {
   "cell_type": "markdown",
   "metadata": {},
   "source": [
    "**Model Training**"
   ]
  },
  {
   "cell_type": "code",
   "execution_count": 12,
   "metadata": {
    "execution": {
     "iopub.execute_input": "2024-05-21T17:33:37.026212Z",
     "iopub.status.busy": "2024-05-21T17:33:37.025952Z",
     "iopub.status.idle": "2024-05-21T17:33:37.956343Z",
     "shell.execute_reply": "2024-05-21T17:33:37.955575Z",
     "shell.execute_reply.started": "2024-05-21T17:33:37.026166Z"
    }
   },
   "outputs": [],
   "source": [
    "import os\n",
    "import cv2\n",
    "import json\n",
    "import tensorflow as tf\n",
    "import numpy as np\n",
    "import matplotlib.pyplot as plt\n",
    "import seaborn as sn\n",
    "import pandas as pd\n",
    "from tensorflow.keras.preprocessing.image import ImageDataGenerator, img_to_array, load_img\n",
    "from tensorflow.keras.utils import to_categorical\n",
    "from sklearn.model_selection import train_test_split\n",
    "from sklearn.metrics import confusion_matrix"
   ]
  },
  {
   "cell_type": "code",
   "execution_count": 13,
   "metadata": {
    "execution": {
     "iopub.execute_input": "2024-05-21T17:33:37.958220Z",
     "iopub.status.busy": "2024-05-21T17:33:37.957957Z",
     "iopub.status.idle": "2024-05-21T17:33:57.754336Z",
     "shell.execute_reply": "2024-05-21T17:33:57.753538Z",
     "shell.execute_reply.started": "2024-05-21T17:33:37.958170Z"
    }
   },
   "outputs": [
    {
     "name": "stdout",
     "output_type": "stream",
     "text": [
      "Number of training samples: 7565\n",
      "Number of validation samples: 1621\n",
      "Number of test samples: 1622\n"
     ]
    }
   ],
   "source": [
    "import os\n",
    "import numpy as np\n",
    "from tensorflow.keras.preprocessing.image import img_to_array, load_img\n",
    "from tensorflow.keras.utils import to_categorical\n",
    "from sklearn.model_selection import train_test_split\n",
    "from tensorflow.keras.applications import EfficientNetB0\n",
    "from tensorflow.keras.models import Sequential\n",
    "from tensorflow.keras.layers import GlobalAveragePooling2D, Dense, Dropout\n",
    "from tensorflow.keras import optimizers\n",
    "\n",
    "# Define the correct input shape\n",
    "input_shape = (224, 224, 3)\n",
    "data_dir = '/kaggle/working/dataset'\n",
    "\n",
    "real_data = [f for f in os.listdir(data_dir + '/real') if f.endswith('.png')]\n",
    "fake_data = [f for f in os.listdir(data_dir + '/fake') if f.endswith('.png')]\n",
    "\n",
    "X = []\n",
    "Y = []\n",
    "\n",
    "# Resize images to 224x224 and convert to arrays\n",
    "for img in real_data:\n",
    "    image = load_img(data_dir + '/real/' + img, target_size=(224, 224))\n",
    "    X.append(img_to_array(image) / 255.0)\n",
    "    Y.append(1)\n",
    "for img in fake_data:\n",
    "    image = load_img(data_dir + '/fake/' + img, target_size=(224, 224))\n",
    "    X.append(img_to_array(image) / 255.0)\n",
    "    Y.append(0)\n",
    "\n",
    "Y_val_org = Y\n",
    "\n",
    "# Convert to numpy arrays and one-hot encode labels\n",
    "X = np.array(X)\n",
    "Y = to_categorical(Y, 2)\n",
    "\n",
    "# Train-Test split\n",
    "X_train, X_temp, Y_train, Y_temp = train_test_split(X, Y, test_size=0.3, random_state=5)\n",
    "X_val, X_test, Y_val, Y_test = train_test_split(X_temp, Y_temp, test_size=0.5, random_state=5)\n",
    "\n",
    "# Print dataset sizes to verify splits\n",
    "print(f\"Number of training samples: {len(X_train)}\")\n",
    "print(f\"Number of validation samples: {len(X_val)}\")\n",
    "print(f\"Number of test samples: {len(X_test)}\")\n"
   ]
  },
  {
   "cell_type": "code",
   "execution_count": 14,
   "metadata": {
    "execution": {
     "iopub.execute_input": "2024-05-21T17:33:57.757966Z",
     "iopub.status.busy": "2024-05-21T17:33:57.757698Z",
     "iopub.status.idle": "2024-05-21T17:33:57.764188Z",
     "shell.execute_reply": "2024-05-21T17:33:57.763392Z",
     "shell.execute_reply.started": "2024-05-21T17:33:57.757923Z"
    }
   },
   "outputs": [],
   "source": [
    "from tensorflow.keras.applications import EfficientNetB0\n",
    "from tensorflow.keras.layers import Conv2D\n",
    "from tensorflow.keras.layers import MaxPooling2D\n",
    "from tensorflow.keras.layers import Flatten\n",
    "from tensorflow.keras.layers import Dense\n",
    "from tensorflow.keras.layers import Dropout\n",
    "from tensorflow.keras.layers import InputLayer\n",
    "from tensorflow.keras.layers import GlobalAveragePooling2D\n",
    "from tensorflow.keras.models import Sequential\n",
    "from tensorflow.keras.models import Model\n",
    "from tensorflow.keras import optimizers"
   ]
  },
  {
   "cell_type": "code",
   "execution_count": null,
   "metadata": {},
   "outputs": [],
   "source": []
  },
  {
   "cell_type": "code",
   "execution_count": 15,
   "metadata": {
    "execution": {
     "iopub.execute_input": "2024-05-21T17:33:57.766022Z",
     "iopub.status.busy": "2024-05-21T17:33:57.765759Z",
     "iopub.status.idle": "2024-05-21T17:34:00.501364Z",
     "shell.execute_reply": "2024-05-21T17:34:00.500629Z",
     "shell.execute_reply.started": "2024-05-21T17:33:57.765972Z"
    }
   },
   "outputs": [
    {
     "name": "stdout",
     "output_type": "stream",
     "text": [
      "Downloading data from https://storage.googleapis.com/keras-applications/efficientnetb0_notop.h5\n",
      "16711680/16705208 [==============================] - 0s 0us/step\n",
      "16719872/16705208 [==============================] - 0s 0us/step\n",
      "Model: \"sequential\"\n",
      "_________________________________________________________________\n",
      "Layer (type)                 Output Shape              Param #   \n",
      "=================================================================\n",
      "efficientnetb0 (Functional)  (None, 7, 7, 1280)        4049571   \n",
      "_________________________________________________________________\n",
      "global_average_pooling2d (Gl (None, 1280)              0         \n",
      "_________________________________________________________________\n",
      "dense (Dense)                (None, 256)               327936    \n",
      "_________________________________________________________________\n",
      "dropout (Dropout)            (None, 256)               0         \n",
      "_________________________________________________________________\n",
      "dense_1 (Dense)              (None, 128)               32896     \n",
      "_________________________________________________________________\n",
      "dense_2 (Dense)              (None, 64)                8256      \n",
      "_________________________________________________________________\n",
      "dense_3 (Dense)              (None, 32)                2080      \n",
      "_________________________________________________________________\n",
      "dense_4 (Dense)              (None, 2)                 66        \n",
      "=================================================================\n",
      "Total params: 4,420,805\n",
      "Trainable params: 4,378,782\n",
      "Non-trainable params: 42,023\n",
      "_________________________________________________________________\n"
     ]
    },
    {
     "name": "stderr",
     "output_type": "stream",
     "text": [
      "/opt/conda/lib/python3.6/site-packages/keras/optimizer_v2/optimizer_v2.py:356: UserWarning: The `lr` argument is deprecated, use `learning_rate` instead.\n",
      "  \"The `lr` argument is deprecated, use `learning_rate` instead.\")\n"
     ]
    }
   ],
   "source": [
    "# Define the input shape\n",
    "#input_shape = (224, 224, 3)  # Adjust based on your input data\n",
    "\n",
    "# Load the EfficientNetB0 model\n",
    "efficientnet_model = EfficientNetB0(include_top=False, weights='imagenet', input_shape=input_shape)\n",
    "efficientnet_model.trainable = True\n",
    "\n",
    "# Create a Sequential model and add the EfficientNetB0 model\n",
    "model = Sequential()\n",
    "model.add(efficientnet_model)\n",
    "model.add(GlobalAveragePooling2D())\n",
    "# Add four more dense layers\n",
    "model.add(Dense(units=256, activation='relu'))  # Adjust units as needed\n",
    "model.add(Dropout(0.5)) \n",
    "model.add(Dense(units=128, activation='relu'))  # Adjust units as needed\n",
    "model.add(Dense(units=64, activation='relu'))  # Adjust units as needed\n",
    "model.add(Dense(units=32, activation='relu'))  # Adjust units as needed\n",
    "# Add a dropout layer\n",
    "\n",
    "model.add(Dense(units=2, activation='sigmoid'))\n",
    "\n",
    "\n",
    "# Compile the model\n",
    "model.compile(\n",
    "    loss='binary_crossentropy',\n",
    "    optimizer=optimizers.Adam(lr=1e-5, beta_1=0.9, beta_2=0.999, epsilon=None, decay=0.0, amsgrad=False),\n",
    "    metrics=['accuracy']\n",
    ")\n",
    "\n",
    "# Print the model summary\n",
    "model.summary()"
   ]
  },
  {
   "cell_type": "code",
   "execution_count": 16,
   "metadata": {
    "execution": {
     "iopub.execute_input": "2024-05-21T17:34:00.503015Z",
     "iopub.status.busy": "2024-05-21T17:34:00.502784Z",
     "iopub.status.idle": "2024-05-22T00:14:10.461086Z",
     "shell.execute_reply": "2024-05-22T00:14:10.460324Z",
     "shell.execute_reply.started": "2024-05-21T17:34:00.502976Z"
    }
   },
   "outputs": [
    {
     "name": "stdout",
     "output_type": "stream",
     "text": [
      "Epoch 1/20\n",
      "119/119 [==============================] - 1214s 10s/step - loss: 0.6806 - accuracy: 0.5963 - val_loss: 0.6773 - val_accuracy: 0.7853\n",
      "Epoch 2/20\n",
      "119/119 [==============================] - 1223s 10s/step - loss: 0.5923 - accuracy: 0.7974 - val_loss: 0.6405 - val_accuracy: 0.7853\n",
      "Epoch 3/20\n",
      "119/119 [==============================] - 1213s 10s/step - loss: 0.4771 - accuracy: 0.8061 - val_loss: 0.5834 - val_accuracy: 0.7847\n",
      "Epoch 4/20\n",
      "119/119 [==============================] - 1208s 10s/step - loss: 0.3898 - accuracy: 0.8193 - val_loss: 0.6637 - val_accuracy: 0.7292\n",
      "Epoch 5/20\n",
      "119/119 [==============================] - 1205s 10s/step - loss: 0.3364 - accuracy: 0.8386 - val_loss: 0.5807 - val_accuracy: 0.7853\n",
      "Epoch 6/20\n",
      "119/119 [==============================] - 1194s 10s/step - loss: 0.3038 - accuracy: 0.8620 - val_loss: 0.6402 - val_accuracy: 0.5898\n",
      "Epoch 7/20\n",
      "119/119 [==============================] - 1203s 10s/step - loss: 0.2692 - accuracy: 0.8862 - val_loss: 0.5214 - val_accuracy: 0.7909\n",
      "Epoch 8/20\n",
      "119/119 [==============================] - 1186s 10s/step - loss: 0.2381 - accuracy: 0.9101 - val_loss: 0.5304 - val_accuracy: 0.7545\n",
      "Epoch 9/20\n",
      "119/119 [==============================] - 1198s 10s/step - loss: 0.2222 - accuracy: 0.9235 - val_loss: 0.4742 - val_accuracy: 0.8137\n",
      "Epoch 10/20\n",
      "119/119 [==============================] - 1177s 10s/step - loss: 0.1996 - accuracy: 0.9358 - val_loss: 0.5941 - val_accuracy: 0.7940\n",
      "Epoch 11/20\n",
      "119/119 [==============================] - 1188s 10s/step - loss: 0.1730 - accuracy: 0.9495 - val_loss: 0.4755 - val_accuracy: 0.7798\n",
      "Epoch 12/20\n",
      "119/119 [==============================] - 1201s 10s/step - loss: 0.1492 - accuracy: 0.9558 - val_loss: 0.5054 - val_accuracy: 0.7650\n",
      "Epoch 13/20\n",
      "119/119 [==============================] - 1198s 10s/step - loss: 0.1264 - accuracy: 0.9643 - val_loss: 0.5580 - val_accuracy: 0.7958\n",
      "Epoch 14/20\n",
      "119/119 [==============================] - 1197s 10s/step - loss: 0.1051 - accuracy: 0.9673 - val_loss: 1.2473 - val_accuracy: 0.7878\n",
      "Epoch 15/20\n",
      "119/119 [==============================] - 1193s 10s/step - loss: 0.0927 - accuracy: 0.9693 - val_loss: 1.2161 - val_accuracy: 0.7933\n",
      "Epoch 16/20\n",
      "119/119 [==============================] - 1195s 10s/step - loss: 0.0814 - accuracy: 0.9740 - val_loss: 0.6862 - val_accuracy: 0.8100\n",
      "Epoch 17/20\n",
      "119/119 [==============================] - 1200s 10s/step - loss: 0.0704 - accuracy: 0.9786 - val_loss: 0.5245 - val_accuracy: 0.8131\n",
      "Epoch 18/20\n",
      "119/119 [==============================] - 1203s 10s/step - loss: 0.0678 - accuracy: 0.9787 - val_loss: 0.6793 - val_accuracy: 0.8254\n",
      "Epoch 19/20\n",
      "119/119 [==============================] - 1203s 10s/step - loss: 0.0599 - accuracy: 0.9808 - val_loss: 0.5563 - val_accuracy: 0.8248\n",
      "Epoch 20/20\n",
      "119/119 [==============================] - 1207s 10s/step - loss: 0.0556 - accuracy: 0.9803 - val_loss: 0.9321 - val_accuracy: 0.7890\n"
     ]
    }
   ],
   "source": [
    "# Define the number of epochs\n",
    "# Define the input shape\n",
    "input_shape = (224, 224, 3)\n",
    "EPOCHS = 20\n",
    "\n",
    "# Train the model\n",
    "history = model.fit(\n",
    "    X_train, Y_train,\n",
    "    batch_size=64,\n",
    "    epochs=EPOCHS,\n",
    "    validation_data=(X_val, Y_val),\n",
    "    verbose=1\n",
    ")"
   ]
  },
  {
   "cell_type": "code",
   "execution_count": 17,
   "metadata": {
    "execution": {
     "iopub.execute_input": "2024-05-22T00:14:10.463054Z",
     "iopub.status.busy": "2024-05-22T00:14:10.462791Z",
     "iopub.status.idle": "2024-05-22T00:14:57.488864Z",
     "shell.execute_reply": "2024-05-22T00:14:57.488114Z",
     "shell.execute_reply.started": "2024-05-22T00:14:10.463015Z"
    }
   },
   "outputs": [
    {
     "name": "stdout",
     "output_type": "stream",
     "text": [
      "51/51 [==============================] - 46s 905ms/step - loss: 0.9063 - accuracy: 0.8033\n",
      "Test Loss: 0.9063175916671753\n",
      "Test Accuracy: 0.8033292293548584\n"
     ]
    }
   ],
   "source": [
    "from sklearn.metrics import confusion_matrix, classification_report\n",
    "\n",
    "# Test the model\n",
    "test_loss, test_accuracy = model.evaluate(X_test, Y_test)\n",
    "print(f\"Test Loss: {test_loss}\")\n",
    "print(f\"Test Accuracy: {test_accuracy}\")"
   ]
  },
  {
   "cell_type": "code",
   "execution_count": 18,
   "metadata": {
    "execution": {
     "iopub.execute_input": "2024-05-22T00:14:57.490314Z",
     "iopub.status.busy": "2024-05-22T00:14:57.490059Z",
     "iopub.status.idle": "2024-05-22T00:14:58.235894Z",
     "shell.execute_reply": "2024-05-22T00:14:58.234728Z",
     "shell.execute_reply.started": "2024-05-22T00:14:57.490257Z"
    }
   },
   "outputs": [
    {
     "data": {
      "image/png": "[encoded data removed]",
      "text/plain": [
       "<Figure size 432x288 with 1 Axes>"
      ]
     },
     "metadata": {
      "needs_background": "light"
     },
     "output_type": "display_data"
    },
    {
     "data": {
      "image/png": "[encoded data removed]",
      "text/plain": [
       "<Figure size 432x288 with 1 Axes>"
      ]
     },
     "metadata": {
      "needs_background": "light"
     },
     "output_type": "display_data"
    }
   ],
   "source": [
    "import matplotlib.pyplot as plt\n",
    "\n",
    "# Plot training & validation loss values\n",
    "plt.plot(history.history['loss'])\n",
    "plt.plot(history.history['val_loss'])\n",
    "plt.title('Model Loss')\n",
    "plt.ylabel('Loss')\n",
    "plt.xlabel('Epoch')\n",
    "plt.legend(['Train', 'Validation'], loc='upper left')\n",
    "plt.show()\n",
    "\n",
    "# Plot training & validation accuracy values\n",
    "plt.plot(history.history['accuracy'])\n",
    "plt.plot(history.history['val_accuracy'])\n",
    "plt.title('Model Accuracy')\n",
    "plt.ylabel('Accuracy')\n",
    "plt.xlabel('Epoch')\n",
    "plt.legend(['Train', 'Validation'], loc='upper left')\n",
    "plt.show()\n"
   ]
  },
  {
   "cell_type": "code",
   "execution_count": 19,
   "metadata": {
    "execution": {
     "iopub.execute_input": "2024-05-22T00:14:58.238927Z",
     "iopub.status.busy": "2024-05-22T00:14:58.238130Z",
     "iopub.status.idle": "2024-05-22T00:15:46.807136Z",
     "shell.execute_reply": "2024-05-22T00:15:46.806267Z",
     "shell.execute_reply.started": "2024-05-22T00:14:58.238836Z"
    }
   },
   "outputs": [
    {
     "name": "stdout",
     "output_type": "stream",
     "text": [
      "Confusion Matrix:\n",
      "[[1275   19]\n",
      " [ 300   28]]\n"
     ]
    }
   ],
   "source": [
    "# Predict classes for test data\n",
    "Y_pred = model.predict(X_test)\n",
    "Y_pred_classes = np.argmax(Y_pred, axis=1)\n",
    "Y_true = np.argmax(Y_test, axis=1)\n",
    "\n",
    "# Confusion Matrix\n",
    "conf_matrix = confusion_matrix(Y_true, Y_pred_classes)\n",
    "print(\"Confusion Matrix:\")\n",
    "print(conf_matrix)"
   ]
  },
  {
   "cell_type": "code",
   "execution_count": 20,
   "metadata": {
    "execution": {
     "iopub.execute_input": "2024-05-22T00:15:46.809115Z",
     "iopub.status.busy": "2024-05-22T00:15:46.808782Z",
     "iopub.status.idle": "2024-05-22T00:15:46.824121Z",
     "shell.execute_reply": "2024-05-22T00:15:46.823410Z",
     "shell.execute_reply.started": "2024-05-22T00:15:46.809057Z"
    }
   },
   "outputs": [
    {
     "name": "stdout",
     "output_type": "stream",
     "text": [
      "Classification Report:\n",
      "              precision    recall  f1-score   support\n",
      "\n",
      "           0       0.81      0.99      0.89      1294\n",
      "           1       0.60      0.09      0.15       328\n",
      "\n",
      "    accuracy                           0.80      1622\n",
      "   macro avg       0.70      0.54      0.52      1622\n",
      "weighted avg       0.77      0.80      0.74      1622\n",
      "\n"
     ]
    }
   ],
   "source": [
    "# Classification Report\n",
    "class_report = classification_report(Y_true, Y_pred_classes)\n",
    "print(\"Classification Report:\")\n",
    "print(class_report)"
   ]
  },
  {
   "cell_type": "code",
   "execution_count": null,
   "metadata": {},
   "outputs": [],
   "source": []
  }
 ],
 "metadata": {
  "kaggle": {
   "accelerator": "gpu",
   "dataSources": [
    {
     "databundleVersionId": 858837,
     "sourceId": 16880,
     "sourceType": "competition"
    },
    {
     "datasetId": 446509,
     "sourceId": 845111,
     "sourceType": "datasetVersion"
    }
   ],
   "dockerImageVersionId": 29845,
   "isGpuEnabled": true,
   "isInternetEnabled": true,
   "language": "python",
   "sourceType": "notebook"
  },
  "kernelspec": {
   "display_name": "Python 3 (ipykernel)",
   "language": "python",
   "name": "python3"
  },
  "language_info": {
   "codemirror_mode": {
    "name": "ipython",
    "version": 3
   },
   "file_extension": ".py",
   "mimetype": "text/x-python",
   "name": "python",
   "nbconvert_exporter": "python",
   "pygments_lexer": "ipython3",
   "version": "3.9.13"
  }
 },
 "nbformat": 4,
 "nbformat_minor": 4
}
