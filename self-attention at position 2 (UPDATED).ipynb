{
 "cells": [
  {
   "cell_type": "code",
   "execution_count": 2,
   "metadata": {
    "_cell_guid": "b1076dfc-b9ad-4769-8c92-a6c4dae69d19",
    "_uuid": "8f2839f25d086af736a60e9eeb907d3b93b6e0e5",
    "execution": {
     "iopub.execute_input": "2024-05-22T13:10:20.038307Z",
     "iopub.status.busy": "2024-05-22T13:10:20.037956Z",
     "iopub.status.idle": "2024-05-22T13:16:04.340180Z",
     "shell.execute_reply": "2024-05-22T13:16:04.339348Z",
     "shell.execute_reply.started": "2024-05-22T13:10:20.038235Z"
    }
   },
   "outputs": [
    {
     "name": "stdout",
     "output_type": "stream",
     "text": [
      "Processing /kaggle/input/dlibpkg/dlib-19.19.0\n",
      "Building wheels for collected packages: dlib\n",
      "  Building wheel for dlib (setup.py) ... \u001b[?25ldone\n",
      "\u001b[?25h  Created wheel for dlib: filename=dlib-19.19.0-cp36-cp36m-linux_x86_64.whl size=4086376 sha256=b6dac9d663d595bb748d069681b87015e7ef4dd04e052722940dd2790af44a67\n",
      "  Stored in directory: /root/.cache/pip/wheels/f3/da/18/38136f7dd8e242c1cc2236d574a50f34463b8c59aab887dd79\n",
      "Successfully built dlib\n",
      "Installing collected packages: dlib\n",
      "Successfully installed dlib-19.19.0\n"
     ]
    }
   ],
   "source": [
    "!pip install '/kaggle/input/dlibpkg/dlib-19.19.0'"
   ]
  },
  {
   "cell_type": "code",
   "execution_count": 2,
   "metadata": {
    "execution": {
     "iopub.execute_input": "2024-05-22T13:16:35.310862Z",
     "iopub.status.busy": "2024-05-22T13:16:35.310564Z",
     "iopub.status.idle": "2024-05-22T13:16:35.373755Z",
     "shell.execute_reply": "2024-05-22T13:16:35.373030Z",
     "shell.execute_reply.started": "2024-05-22T13:16:35.310821Z"
    }
   },
   "outputs": [],
   "source": [
    "import os\n",
    "import json\n",
    "import cv2\n",
    "import dlib\n",
    "import numpy as np\n",
    "import dlib\n",
    "import cv2\n",
    "import os\n",
    "import re\n",
    "import json\n",
    "from pylab import *\n",
    "from PIL import Image, ImageChops, ImageEnhance"
   ]
  },
  {
   "cell_type": "markdown",
   "metadata": {},
   "source": [
    "**Data Augementation**"
   ]
  },
  {
   "cell_type": "code",
   "execution_count": 3,
   "metadata": {
    "execution": {
     "iopub.execute_input": "2024-05-22T13:16:39.376620Z",
     "iopub.status.busy": "2024-05-22T13:16:39.376163Z",
     "iopub.status.idle": "2024-05-22T13:16:39.716575Z",
     "shell.execute_reply": "2024-05-22T13:16:39.715694Z",
     "shell.execute_reply.started": "2024-05-22T13:16:39.376555Z"
    }
   },
   "outputs": [],
   "source": [
    "train_frame_folder = '/kaggle/input/deepfake-detection-challenge/train_sample_videos'\n",
    "output_real_folder = '/kaggle/working/dataset/real'\n",
    "output_fake_folder = '/kaggle/working/dataset/fake'\n",
    "\n",
    "# Create directories if they do not exist\n",
    "os.makedirs(output_real_folder, exist_ok=True)\n",
    "os.makedirs(output_fake_folder, exist_ok=True)\n",
    "\n",
    "with open(os.path.join(train_frame_folder, 'metadata.json'), 'r') as file:\n",
    "    data = json.load(file)\n",
    "\n",
    "list_of_train_data = [f for f in os.listdir(train_frame_folder) if f.endswith('.mp4')]\n",
    "detector = dlib.get_frontal_face_detector()\n",
    "\n",
    "# Counters for frames and images\n",
    "original_real_count = 0\n",
    "original_fake_count = 0\n",
    "augmented_real_count = 0\n",
    "augmented_fake_count = 0"
   ]
  },
  {
   "cell_type": "code",
   "execution_count": 4,
   "metadata": {
    "execution": {
     "iopub.execute_input": "2024-05-22T13:16:41.344487Z",
     "iopub.status.busy": "2024-05-22T13:16:41.344149Z",
     "iopub.status.idle": "2024-05-22T14:28:14.898355Z",
     "shell.execute_reply": "2024-05-22T14:28:14.897548Z",
     "shell.execute_reply.started": "2024-05-22T13:16:41.344430Z"
    }
   },
   "outputs": [],
   "source": [
    "def augment_frame(frame):\n",
    "    # Example augmentations: flipping, rotation\n",
    "    augmented_frames = []\n",
    "    \n",
    "    # Original frame\n",
    "    augmented_frames.append(frame)\n",
    "    \n",
    "    # Horizontal flip\n",
    "    flip_frame = cv2.flip(frame, 1)\n",
    "    augmented_frames.append(flip_frame)\n",
    "    \n",
    "    # Shift by 15 pixels to the right\n",
    "    shift_M = np.float32([[1, 0, 15], [0, 1, 0]])\n",
    "    shift_frame = cv2.warpAffine(frame, shift_M, (frame.shape[1], frame.shape[0]))\n",
    "    augmented_frames.append(shift_frame)\n",
    "    \n",
    "    return augmented_frames\n",
    "\n",
    "for vid in list_of_train_data:\n",
    "    cap = cv2.VideoCapture(os.path.join(train_frame_folder, vid))\n",
    "    frameRate = cap.get(5)\n",
    "    while cap.isOpened():\n",
    "        frameId = cap.get(1)\n",
    "        ret, frame = cap.read()\n",
    "        if not ret:\n",
    "            break\n",
    "        if frameId % ((int(frameRate) + 1) * 1) == 0:\n",
    "            label = data[vid]['label']\n",
    "            if label == 'REAL':\n",
    "                original_real_count += 1\n",
    "            elif label == 'FAKE':\n",
    "                original_fake_count += 1\n",
    "\n",
    "            augmented_frames = augment_frame(frame)\n",
    "            for aug_idx, aug_frame in enumerate(augmented_frames):\n",
    "                face_rects, scores, idx = detector.run(aug_frame, 0)\n",
    "                for i, d in enumerate(face_rects):\n",
    "                    x1 = max(0, d.left())\n",
    "                    y1 = max(0, d.top())\n",
    "                    x2 = min(aug_frame.shape[1], d.right())\n",
    "                    y2 = min(aug_frame.shape[0], d.bottom())\n",
    "                    \n",
    "                    if x2 > x1 and y2 > y1:  # Ensure the rectangle is valid\n",
    "                        crop_img = aug_frame[y1:y2, x1:x2]\n",
    "                        if crop_img.size != 0:  # Ensure the cropped image is not empty\n",
    "                            resized_img = cv2.resize(crop_img, (128, 128))\n",
    "                            if label == 'REAL':\n",
    "                                augmented_real_count += 1\n",
    "                                output_path = os.path.join(output_real_folder, f\"{vid.split('.')[0]}_{str(int(frameId))}_aug_{aug_idx}.png\")\n",
    "                                cv2.imwrite(output_path, resized_img)\n",
    "                            elif label == 'FAKE':\n",
    "                                augmented_fake_count += 1\n",
    "                                output_path = os.path.join(output_fake_folder, f\"{vid.split('.')[0]}_{str(int(frameId))}_aug_{aug_idx}.png\")\n",
    "                                cv2.imwrite(output_path, resized_img)\n",
    "    cap.release()"
   ]
  },
  {
   "cell_type": "code",
   "execution_count": 10,
   "metadata": {
    "execution": {
     "iopub.execute_input": "2024-05-22T14:29:06.592564Z",
     "iopub.status.busy": "2024-05-22T14:29:06.592240Z",
     "iopub.status.idle": "2024-05-22T14:29:06.597590Z",
     "shell.execute_reply": "2024-05-22T14:29:06.596802Z",
     "shell.execute_reply.started": "2024-05-22T14:29:06.592520Z"
    }
   },
   "outputs": [
    {
     "name": "stdout",
     "output_type": "stream",
     "text": [
      "Number of original REAL frames: 770\n",
      "Number of original FAKE frames: 3230\n",
      "Number of augmented REAL frames: 2279\n",
      "Number of augmented FAKE frames: 8936\n"
     ]
    }
   ],
   "source": [
    "# Print the number of frames before and after augmenting\n",
    "print(f\"Number of original REAL frames: {original_real_count}\")\n",
    "print(f\"Number of original FAKE frames: {original_fake_count}\")\n",
    "print(f\"Number of augmented REAL frames: {augmented_real_count}\")\n",
    "print(f\"Number of augmented FAKE frames: {augmented_fake_count}\")"
   ]
  },
  {
   "cell_type": "code",
   "execution_count": null,
   "metadata": {},
   "outputs": [],
   "source": []
  },
  {
   "cell_type": "code",
   "execution_count": 11,
   "metadata": {
    "execution": {
     "iopub.execute_input": "2024-05-22T14:29:09.243435Z",
     "iopub.status.busy": "2024-05-22T14:29:09.243063Z",
     "iopub.status.idle": "2024-05-22T14:29:09.249584Z",
     "shell.execute_reply": "2024-05-22T14:29:09.248719Z",
     "shell.execute_reply.started": "2024-05-22T14:29:09.243372Z"
    }
   },
   "outputs": [],
   "source": [
    "import os\n",
    "import cv2\n",
    "import json\n",
    "import tensorflow as tf\n",
    "import numpy as np\n",
    "import matplotlib.pyplot as plt\n",
    "import seaborn as sn\n",
    "import pandas as pd\n",
    "from tensorflow.keras.preprocessing.image import ImageDataGenerator, img_to_array, load_img\n",
    "from tensorflow.keras.utils import to_categorical\n",
    "from sklearn.model_selection import train_test_split\n",
    "from sklearn.metrics import confusion_matrix"
   ]
  },
  {
   "cell_type": "code",
   "execution_count": 12,
   "metadata": {
    "execution": {
     "iopub.execute_input": "2024-05-22T14:29:10.269777Z",
     "iopub.status.busy": "2024-05-22T14:29:10.269399Z",
     "iopub.status.idle": "2024-05-22T14:29:21.592153Z",
     "shell.execute_reply": "2024-05-22T14:29:21.591382Z",
     "shell.execute_reply.started": "2024-05-22T14:29:10.269714Z"
    }
   },
   "outputs": [
    {
     "name": "stdout",
     "output_type": "stream",
     "text": [
      "Number of training samples: 7565\n",
      "Number of validation samples: 1621\n",
      "Number of test samples: 1622\n"
     ]
    }
   ],
   "source": [
    "import os\n",
    "import numpy as np\n",
    "from keras.preprocessing.image import img_to_array, load_img\n",
    "from keras.utils import to_categorical\n",
    "from sklearn.model_selection import train_test_split\n",
    "\n",
    "input_shape = (128, 128, 3)\n",
    "data_dir = '/kaggle/working/dataset'\n",
    "\n",
    "real_data = [f for f in os.listdir(data_dir + '/real') if f.endswith('.png')]\n",
    "fake_data = [f for f in os.listdir(data_dir + '/fake') if f.endswith('.png')]\n",
    "\n",
    "X = []\n",
    "Y = []\n",
    "\n",
    "for img in real_data:\n",
    "    X.append(img_to_array(load_img(data_dir + '/real/' + img)).flatten() / 255.0)\n",
    "    Y.append(1)\n",
    "for img in fake_data:\n",
    "    X.append(img_to_array(load_img(data_dir + '/fake/' + img)).flatten() / 255.0)\n",
    "    Y.append(0)\n",
    "\n",
    "Y_val_org = Y\n",
    "\n",
    "# Normalization\n",
    "X = np.array(X)\n",
    "Y = to_categorical(Y, 2)\n",
    "\n",
    "# Reshape\n",
    "X = X.reshape(-1, 128, 128, 3)\n",
    "\n",
    "# Initial Train-Test split (80% train, 20% temp)\n",
    "X_train, X_temp, Y_train, Y_temp = train_test_split(X, Y, test_size=0.3, random_state=5)\n",
    "\n",
    "# Further split temp into validation and test (50% each from temp, resulting in 10% each from original dataset)\n",
    "X_val, X_test, Y_val, Y_test = train_test_split(X_temp, Y_temp, test_size=0.5, random_state=5)\n",
    "\n",
    "# Print dataset sizes to verify splits\n",
    "print(f\"Number of training samples: {len(X_train)}\")\n",
    "print(f\"Number of validation samples: {len(X_val)}\")\n",
    "print(f\"Number of test samples: {len(X_test)}\")"
   ]
  },
  {
   "cell_type": "markdown",
   "metadata": {},
   "source": [
    "**Training**"
   ]
  },
  {
   "cell_type": "code",
   "execution_count": 13,
   "metadata": {
    "execution": {
     "iopub.execute_input": "2024-05-22T14:29:21.594222Z",
     "iopub.status.busy": "2024-05-22T14:29:21.593971Z",
     "iopub.status.idle": "2024-05-22T14:29:21.600896Z",
     "shell.execute_reply": "2024-05-22T14:29:21.600092Z",
     "shell.execute_reply.started": "2024-05-22T14:29:21.594181Z"
    }
   },
   "outputs": [],
   "source": [
    "from tensorflow.keras.applications import InceptionResNetV2\n",
    "from tensorflow.keras.layers import Conv2D\n",
    "from tensorflow.keras.layers import MaxPooling2D\n",
    "from tensorflow.keras.layers import Flatten\n",
    "from tensorflow.keras.layers import Dense\n",
    "from tensorflow.keras.layers import Dropout\n",
    "from tensorflow.keras.layers import InputLayer\n",
    "from tensorflow.keras.layers import GlobalAveragePooling2D\n",
    "from tensorflow.keras.models import Sequential\n",
    "from tensorflow.keras.models import Model\n",
    "from tensorflow.keras import optimizers\n",
    "from tensorflow.keras.callbacks import ReduceLROnPlateau, EarlyStopping"
   ]
  },
  {
   "cell_type": "code",
   "execution_count": null,
   "metadata": {},
   "outputs": [],
   "source": []
  },
  {
   "cell_type": "code",
   "execution_count": 15,
   "metadata": {
    "execution": {
     "iopub.execute_input": "2024-05-22T14:32:20.463528Z",
     "iopub.status.busy": "2024-05-22T14:32:20.463171Z",
     "iopub.status.idle": "2024-05-22T14:32:35.036843Z",
     "shell.execute_reply": "2024-05-22T14:32:35.035169Z",
     "shell.execute_reply.started": "2024-05-22T14:32:20.463482Z"
    }
   },
   "outputs": [
    {
     "name": "stdout",
     "output_type": "stream",
     "text": [
      "Number of training samples: 7565\n",
      "Number of validation samples: 1621\n",
      "Number of test samples: 1622\n",
      "Downloading data from https://github.com/fchollet/deep-learning-models/releases/download/v0.6/mobilenet_1_0_128_tf_no_top.h5\n",
      "17227776/17225924 [==============================] - 1s 0us/step\n",
      "Model: \"sequential_2\"\n",
      "_________________________________________________________________\n",
      "Layer (type)                 Output Shape              Param #   \n",
      "=================================================================\n",
      "mobilenet_1.00_128 (Model)   (None, 4, 4, 1024)        3228864   \n",
      "_________________________________________________________________\n",
      "global_average_pooling2d_2 ( (None, 1024)              0         \n",
      "_________________________________________________________________\n",
      "dense_2 (Dense)              (None, 512)               524800    \n",
      "_________________________________________________________________\n",
      "reshape (Reshape)            (None, 1, 1, 512)         0         \n",
      "_________________________________________________________________\n",
      "self_attention_2 (SelfAttent (None, 1, 1, 512)         328320    \n",
      "_________________________________________________________________\n",
      "flatten (Flatten)            (None, 512)               0         \n",
      "_________________________________________________________________\n",
      "dense_3 (Dense)              (None, 256)               131328    \n",
      "_________________________________________________________________\n",
      "dense_4 (Dense)              (None, 128)               32896     \n",
      "_________________________________________________________________\n",
      "dense_5 (Dense)              (None, 64)                8256      \n",
      "_________________________________________________________________\n",
      "dense_6 (Dense)              (None, 2)                 130       \n",
      "=================================================================\n",
      "Total params: 4,254,594\n",
      "Trainable params: 4,232,706\n",
      "Non-trainable params: 21,888\n",
      "_________________________________________________________________\n"
     ]
    }
   ],
   "source": [
    "import os\n",
    "import numpy as np\n",
    "from keras.preprocessing.image import img_to_array, load_img\n",
    "from keras.utils import to_categorical\n",
    "from sklearn.model_selection import train_test_split\n",
    "import tensorflow as tf\n",
    "from tensorflow.keras.layers import Layer, Input, GlobalAveragePooling2D, Dense, Conv2D, Reshape, Flatten\n",
    "from tensorflow.keras.models import Model, Sequential\n",
    "from tensorflow.keras.applications import MobileNet\n",
    "from tensorflow.keras import optimizers\n",
    "\n",
    "input_shape = (128, 128, 3)\n",
    "data_dir = '/kaggle/working/dataset'\n",
    "\n",
    "real_data = [f for f in os.listdir(data_dir + '/real') if f.endswith('.png')]\n",
    "fake_data = [f for f in os.listdir(data_dir + '/fake') if f.endswith('.png')]\n",
    "\n",
    "X = []\n",
    "Y = []\n",
    "\n",
    "for img in real_data:\n",
    "    X.append(img_to_array(load_img(data_dir + '/real/' + img)).flatten() / 255.0)\n",
    "    Y.append(1)\n",
    "for img in fake_data:\n",
    "    X.append(img_to_array(load_img(data_dir + '/fake/' + img)).flatten() / 255.0)\n",
    "    Y.append(0)\n",
    "\n",
    "Y_val_org = Y\n",
    "\n",
    "# Normalization\n",
    "X = np.array(X)\n",
    "Y = to_categorical(Y, 2)\n",
    "\n",
    "# Reshape\n",
    "X = X.reshape(-1, 128, 128, 3)\n",
    "\n",
    "# Initial Train-Test split (80% train, 20% temp)\n",
    "X_train, X_temp, Y_train, Y_temp = train_test_split(X, Y, test_size=0.3, random_state=5)\n",
    "\n",
    "# Further split temp into validation and test (50% each from temp, resulting in 10% each from original dataset)\n",
    "X_val, X_test, Y_val, Y_test = train_test_split(X_temp, Y_temp, test_size=0.5, random_state=5)\n",
    "\n",
    "# Print dataset sizes to verify splits\n",
    "print(f\"Number of training samples: {len(X_train)}\")\n",
    "print(f\"Number of validation samples: {len(X_val)}\")\n",
    "print(f\"Number of test samples: {len(X_test)}\")\n",
    "\n",
    "# Define the custom self-attention layer\n",
    "class SelfAttention(Layer):\n",
    "    def __init__(self, **kwargs):\n",
    "        super(SelfAttention, self).__init__(**kwargs)\n",
    "\n",
    "    def build(self, input_shape):\n",
    "        self.query_conv = Conv2D(filters=input_shape[-1] // 8, kernel_size=1)\n",
    "        self.key_conv = Conv2D(filters=input_shape[-1] // 8, kernel_size=1)\n",
    "        self.value_conv = Conv2D(filters=input_shape[-1], kernel_size=1)\n",
    "        super(SelfAttention, self).build(input_shape)\n",
    "\n",
    "    def call(self, inputs):\n",
    "        query = self.query_conv(inputs)\n",
    "        key = self.key_conv(inputs)\n",
    "        value = self.value_conv(inputs)\n",
    "\n",
    "        # Compute attention scores\n",
    "        attention_scores = tf.matmul(tf.reshape(query, [tf.shape(query)[0], -1, tf.shape(query)[-1]]),\n",
    "                                     tf.reshape(key, [tf.shape(key)[0], -1, tf.shape(key)[-1]]),\n",
    "                                     transpose_b=True)\n",
    "        attention_scores = tf.nn.softmax(attention_scores)\n",
    "\n",
    "        # Apply attention scores to value\n",
    "        attention_output = tf.matmul(attention_scores,\n",
    "                                     tf.reshape(value, [tf.shape(value)[0], -1, tf.shape(value)[-1]]))\n",
    "        attention_output = tf.reshape(attention_output, tf.shape(inputs))\n",
    "\n",
    "        return attention_output\n",
    "\n",
    "# Load the MobileNet model\n",
    "input_shape = (128, 128, 3)\n",
    "mobilenet = MobileNet(include_top=False, weights='imagenet', input_shape=input_shape)\n",
    "mobilenet.trainable = True\n",
    "\n",
    "# Create a Sequential model and add the MobileNet model\n",
    "model = Sequential()\n",
    "model.add(mobilenet)\n",
    "\n",
    "# Add pooling and dense layers\n",
    "model.add(GlobalAveragePooling2D())\n",
    "model.add(Dense(units=512, activation='relu'))\n",
    "\n",
    "# Reshape the output to 4D before adding the custom self-attention layer\n",
    "model.add(Reshape((1, 1, 512)))\n",
    "\n",
    "# Add the custom self-attention layer\n",
    "model.add(SelfAttention())\n",
    "\n",
    "# Flatten the output back to 2D\n",
    "model.add(Flatten())\n",
    "\n",
    "# Add the remaining dense layers\n",
    "model.add(Dense(units=256, activation='relu'))\n",
    "model.add(Dense(units=128, activation='relu'))\n",
    "model.add(Dense(units=64, activation='relu'))\n",
    "model.add(Dense(units=2, activation='sigmoid'))\n",
    "\n",
    "# Compile the model\n",
    "model.compile(\n",
    "    loss='binary_crossentropy',\n",
    "    optimizer=optimizers.Adam(lr=1e-5, beta_1=0.9, beta_2=0.999, epsilon=None, decay=0.0, amsgrad=False),\n",
    "    metrics=['accuracy']\n",
    ")\n",
    "\n",
    "# Print the model summary\n",
    "model.summary()\n"
   ]
  },
  {
   "cell_type": "code",
   "execution_count": 16,
   "metadata": {
    "execution": {
     "iopub.execute_input": "2024-05-22T14:32:45.426562Z",
     "iopub.status.busy": "2024-05-22T14:32:45.426227Z",
     "iopub.status.idle": "2024-05-22T14:38:33.532197Z",
     "shell.execute_reply": "2024-05-22T14:38:33.531405Z",
     "shell.execute_reply.started": "2024-05-22T14:32:45.426516Z"
    }
   },
   "outputs": [
    {
     "name": "stdout",
     "output_type": "stream",
     "text": [
      "Train on 7565 samples, validate on 1621 samples\n",
      "Epoch 1/30\n",
      "7565/7565 [==============================] - 18s 2ms/sample - loss: 0.4881 - accuracy: 0.7892 - val_loss: 0.4776 - val_accuracy: 0.7896\n",
      "Epoch 2/30\n",
      "7565/7565 [==============================] - 11s 1ms/sample - loss: 0.3458 - accuracy: 0.8339 - val_loss: 0.3443 - val_accuracy: 0.8603\n",
      "Epoch 3/30\n",
      "7565/7565 [==============================] - 11s 1ms/sample - loss: 0.2279 - accuracy: 0.9052 - val_loss: 0.2298 - val_accuracy: 0.9102\n",
      "Epoch 4/30\n",
      "7565/7565 [==============================] - 11s 2ms/sample - loss: 0.1385 - accuracy: 0.9557 - val_loss: 0.2008 - val_accuracy: 0.9180\n",
      "Epoch 5/30\n",
      "7565/7565 [==============================] - 11s 2ms/sample - loss: 0.0831 - accuracy: 0.9778 - val_loss: 0.1482 - val_accuracy: 0.9494\n",
      "Epoch 6/30\n",
      "7565/7565 [==============================] - 11s 2ms/sample - loss: 0.0515 - accuracy: 0.9883 - val_loss: 0.1371 - val_accuracy: 0.9537\n",
      "Epoch 7/30\n",
      "7565/7565 [==============================] - 11s 2ms/sample - loss: 0.0315 - accuracy: 0.9944 - val_loss: 0.1211 - val_accuracy: 0.9608\n",
      "Epoch 8/30\n",
      "7565/7565 [==============================] - 11s 2ms/sample - loss: 0.0194 - accuracy: 0.9974 - val_loss: 0.1274 - val_accuracy: 0.9599\n",
      "Epoch 9/30\n",
      "7565/7565 [==============================] - 11s 2ms/sample - loss: 0.0122 - accuracy: 0.9989 - val_loss: 0.1212 - val_accuracy: 0.9642\n",
      "Epoch 10/30\n",
      "7565/7565 [==============================] - 11s 2ms/sample - loss: 0.0092 - accuracy: 0.9992 - val_loss: 0.1224 - val_accuracy: 0.9639\n",
      "Epoch 11/30\n",
      "7565/7565 [==============================] - 11s 2ms/sample - loss: 0.0065 - accuracy: 0.9996 - val_loss: 0.1267 - val_accuracy: 0.9648\n",
      "Epoch 12/30\n",
      "7565/7565 [==============================] - 11s 2ms/sample - loss: 0.0050 - accuracy: 0.9996 - val_loss: 0.1344 - val_accuracy: 0.9639\n",
      "Epoch 13/30\n",
      "7565/7565 [==============================] - 11s 2ms/sample - loss: 0.0034 - accuracy: 1.0000 - val_loss: 0.1323 - val_accuracy: 0.9651\n",
      "Epoch 14/30\n",
      "7565/7565 [==============================] - 11s 2ms/sample - loss: 0.0027 - accuracy: 1.0000 - val_loss: 0.1350 - val_accuracy: 0.9655\n",
      "Epoch 15/30\n",
      "7565/7565 [==============================] - 11s 2ms/sample - loss: 0.0024 - accuracy: 1.0000 - val_loss: 0.1374 - val_accuracy: 0.9661\n",
      "Epoch 16/30\n",
      "7565/7565 [==============================] - 11s 2ms/sample - loss: 0.0019 - accuracy: 1.0000 - val_loss: 0.1278 - val_accuracy: 0.9682\n",
      "Epoch 17/30\n",
      "7565/7565 [==============================] - 11s 1ms/sample - loss: 0.0017 - accuracy: 1.0000 - val_loss: 0.1323 - val_accuracy: 0.9673\n",
      "Epoch 18/30\n",
      "7565/7565 [==============================] - 11s 1ms/sample - loss: 0.0014 - accuracy: 0.9997 - val_loss: 0.1345 - val_accuracy: 0.9679\n",
      "Epoch 19/30\n",
      "7565/7565 [==============================] - 11s 1ms/sample - loss: 0.0010 - accuracy: 1.0000 - val_loss: 0.1379 - val_accuracy: 0.9673\n",
      "Epoch 20/30\n",
      "7565/7565 [==============================] - 11s 1ms/sample - loss: 0.0014 - accuracy: 1.0000 - val_loss: 0.1427 - val_accuracy: 0.9701\n",
      "Epoch 21/30\n",
      "7565/7565 [==============================] - 11s 1ms/sample - loss: 8.6231e-04 - accuracy: 0.9999 - val_loss: 0.1306 - val_accuracy: 0.9685\n",
      "Epoch 22/30\n",
      "7565/7565 [==============================] - 11s 1ms/sample - loss: 0.0029 - accuracy: 0.9995 - val_loss: 0.1264 - val_accuracy: 0.9732\n",
      "Epoch 23/30\n",
      "7565/7565 [==============================] - 11s 1ms/sample - loss: 6.5012e-04 - accuracy: 1.0000 - val_loss: 0.1416 - val_accuracy: 0.9713\n",
      "Epoch 24/30\n",
      "7565/7565 [==============================] - 11s 1ms/sample - loss: 4.9253e-04 - accuracy: 1.0000 - val_loss: 0.1421 - val_accuracy: 0.9701\n",
      "Epoch 25/30\n",
      "7565/7565 [==============================] - 11s 1ms/sample - loss: 5.3914e-04 - accuracy: 0.9999 - val_loss: 0.1330 - val_accuracy: 0.9707\n",
      "Epoch 26/30\n",
      "7565/7565 [==============================] - 11s 1ms/sample - loss: 0.0022 - accuracy: 0.9996 - val_loss: 0.1237 - val_accuracy: 0.9744\n",
      "Epoch 27/30\n",
      "7565/7565 [==============================] - 11s 1ms/sample - loss: 7.4184e-04 - accuracy: 0.9999 - val_loss: 0.1379 - val_accuracy: 0.9713\n",
      "Epoch 28/30\n",
      "7565/7565 [==============================] - 11s 1ms/sample - loss: 6.9845e-04 - accuracy: 0.9998 - val_loss: 0.1338 - val_accuracy: 0.9707\n",
      "Epoch 29/30\n",
      "7565/7565 [==============================] - 11s 1ms/sample - loss: 7.0533e-04 - accuracy: 0.9999 - val_loss: 0.1471 - val_accuracy: 0.9692\n",
      "Epoch 30/30\n",
      "7565/7565 [==============================] - 11s 1ms/sample - loss: 0.0013 - accuracy: 0.9997 - val_loss: 0.1281 - val_accuracy: 0.9750\n"
     ]
    }
   ],
   "source": [
    "# Define the number of epochs\n",
    "EPOCHS = 30\n",
    "\n",
    "# Train the model for 10 epochs\n",
    "history = model.fit(\n",
    "    X_train, Y_train,\n",
    "    batch_size=64,\n",
    "    epochs=EPOCHS,\n",
    "    validation_data=(X_val, Y_val),\n",
    "    verbose=1\n",
    ")"
   ]
  },
  {
   "cell_type": "markdown",
   "metadata": {},
   "source": [
    "**Test Accuracy**"
   ]
  },
  {
   "cell_type": "code",
   "execution_count": 17,
   "metadata": {
    "execution": {
     "iopub.execute_input": "2024-05-22T14:41:06.527540Z",
     "iopub.status.busy": "2024-05-22T14:41:06.527130Z",
     "iopub.status.idle": "2024-05-22T14:41:07.658628Z",
     "shell.execute_reply": "2024-05-22T14:41:07.657741Z",
     "shell.execute_reply.started": "2024-05-22T14:41:06.527486Z"
    }
   },
   "outputs": [
    {
     "name": "stdout",
     "output_type": "stream",
     "text": [
      "1622/1622 [==============================] - 1s 499us/sample - loss: 0.1034 - accuracy: 0.9753\n",
      "Test Loss: 0.1034465790645859\n",
      "Test Accuracy: 0.9753391146659851\n"
     ]
    }
   ],
   "source": [
    "from sklearn.metrics import confusion_matrix, classification_report\n",
    "\n",
    "# Test the model\n",
    "test_loss, test_accuracy = model.evaluate(X_test, Y_test)\n",
    "print(f\"Test Loss: {test_loss}\")\n",
    "print(f\"Test Accuracy: {test_accuracy}\")"
   ]
  },
  {
   "cell_type": "markdown",
   "metadata": {},
   "source": [
    "**Plot**"
   ]
  },
  {
   "cell_type": "code",
   "execution_count": 18,
   "metadata": {
    "execution": {
     "iopub.execute_input": "2024-05-22T14:41:10.804574Z",
     "iopub.status.busy": "2024-05-22T14:41:10.804250Z",
     "iopub.status.idle": "2024-05-22T14:41:11.393969Z",
     "shell.execute_reply": "2024-05-22T14:41:11.392558Z",
     "shell.execute_reply.started": "2024-05-22T14:41:10.804531Z"
    }
   },
   "outputs": [
    {
     "data": {
      "image/png": "[encoded data removed]",
      "text/plain": [
       "<Figure size 432x288 with 1 Axes>"
      ]
     },
     "metadata": {
      "needs_background": "light"
     },
     "output_type": "display_data"
    },
    {
     "data": {
      "image/png": "[encoded data removed]",
      "text/plain": [
       "<Figure size 432x288 with 1 Axes>"
      ]
     },
     "metadata": {
      "needs_background": "light"
     },
     "output_type": "display_data"
    }
   ],
   "source": [
    "import matplotlib.pyplot as plt\n",
    "\n",
    "# Plot training & validation loss values\n",
    "plt.plot(history.history['loss'])\n",
    "plt.plot(history.history['val_loss'])\n",
    "plt.title('Model Loss')\n",
    "plt.ylabel('Loss')\n",
    "plt.xlabel('Epoch')\n",
    "plt.legend(['Train', 'Validation'], loc='upper left')\n",
    "plt.show()\n",
    "\n",
    "# Plot training & validation accuracy values\n",
    "plt.plot(history.history['accuracy'])\n",
    "plt.plot(history.history['val_accuracy'])\n",
    "plt.title('Model Accuracy')\n",
    "plt.ylabel('Accuracy')\n",
    "plt.xlabel('Epoch')\n",
    "plt.legend(['Train', 'Validation'], loc='upper left')\n",
    "plt.show()"
   ]
  },
  {
   "cell_type": "markdown",
   "metadata": {},
   "source": [
    "**Confusion matrix**"
   ]
  },
  {
   "cell_type": "code",
   "execution_count": 19,
   "metadata": {
    "execution": {
     "iopub.execute_input": "2024-05-22T14:41:12.743500Z",
     "iopub.status.busy": "2024-05-22T14:41:12.743184Z",
     "iopub.status.idle": "2024-05-22T14:41:14.116895Z",
     "shell.execute_reply": "2024-05-22T14:41:14.115957Z",
     "shell.execute_reply.started": "2024-05-22T14:41:12.743457Z"
    }
   },
   "outputs": [
    {
     "name": "stdout",
     "output_type": "stream",
     "text": [
      "Confusion Matrix:\n",
      "[[1272   22]\n",
      " [  17  311]]\n"
     ]
    }
   ],
   "source": [
    "# Predict classes for test data\n",
    "Y_pred = model.predict(X_test)\n",
    "Y_pred_classes = np.argmax(Y_pred, axis=1)\n",
    "Y_true = np.argmax(Y_test, axis=1)\n",
    "\n",
    "# Confusion Matrix\n",
    "conf_matrix = confusion_matrix(Y_true, Y_pred_classes)\n",
    "print(\"Confusion Matrix:\")\n",
    "print(conf_matrix)"
   ]
  },
  {
   "cell_type": "markdown",
   "metadata": {},
   "source": [
    "**Classification Report**"
   ]
  },
  {
   "cell_type": "code",
   "execution_count": 20,
   "metadata": {
    "execution": {
     "iopub.execute_input": "2024-05-22T14:41:14.765833Z",
     "iopub.status.busy": "2024-05-22T14:41:14.765492Z",
     "iopub.status.idle": "2024-05-22T14:41:14.776661Z",
     "shell.execute_reply": "2024-05-22T14:41:14.775755Z",
     "shell.execute_reply.started": "2024-05-22T14:41:14.765774Z"
    }
   },
   "outputs": [
    {
     "name": "stdout",
     "output_type": "stream",
     "text": [
      "Classification Report:\n",
      "              precision    recall  f1-score   support\n",
      "\n",
      "           0       0.99      0.98      0.98      1294\n",
      "           1       0.93      0.95      0.94       328\n",
      "\n",
      "    accuracy                           0.98      1622\n",
      "   macro avg       0.96      0.97      0.96      1622\n",
      "weighted avg       0.98      0.98      0.98      1622\n",
      "\n"
     ]
    }
   ],
   "source": [
    "# Classification Report\n",
    "class_report = classification_report(Y_true, Y_pred_classes)\n",
    "print(\"Classification Report:\")\n",
    "print(class_report)"
   ]
  },
  {
   "cell_type": "code",
   "execution_count": null,
   "metadata": {},
   "outputs": [],
   "source": []
  },
  {
   "cell_type": "code",
   "execution_count": null,
   "metadata": {},
   "outputs": [],
   "source": []
  }
 ],
 "metadata": {
  "kaggle": {
   "accelerator": "gpu",
   "dataSources": [
    {
     "databundleVersionId": 858837,
     "sourceId": 16880,
     "sourceType": "competition"
    },
    {
     "datasetId": 446509,
     "sourceId": 845111,
     "sourceType": "datasetVersion"
    }
   ],
   "dockerImageVersionId": 29845,
   "isGpuEnabled": true,
   "isInternetEnabled": true,
   "language": "python",
   "sourceType": "notebook"
  },
  "kernelspec": {
   "display_name": "Python 3 (ipykernel)",
   "language": "python",
   "name": "python3"
  },
  "language_info": {
   "codemirror_mode": {
    "name": "ipython",
    "version": 3
   },
   "file_extension": ".py",
   "mimetype": "text/x-python",
   "name": "python",
   "nbconvert_exporter": "python",
   "pygments_lexer": "ipython3",
   "version": "3.9.13"
  }
 },
 "nbformat": 4,
 "nbformat_minor": 4
}
